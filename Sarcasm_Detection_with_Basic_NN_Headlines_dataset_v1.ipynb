{
  "nbformat": 4,
  "nbformat_minor": 0,
  "metadata": {
    "colab": {
      "name": " Sarcasm_Detection_with_Neural_Networks_Headlines_dataset_v1.ipynb",
      "provenance": []
    },
    "kernelspec": {
      "name": "python3",
      "display_name": "Python 3"
    },
    "language_info": {
      "name": "python"
    }
  },
  "cells": [
    {
      "cell_type": "code",
      "metadata": {
        "id": "3CAvZH8liGpj"
      },
      "source": [
        "import pandas as pd\n",
        "import numpy as np\n",
        "import matplotlib.pyplot as plt\n",
        "import seaborn as sns\n",
        "%matplotlib inline"
      ],
      "execution_count": 2,
      "outputs": []
    },
    {
      "cell_type": "code",
      "metadata": {
        "id": "4s2Plv4lh3Gk"
      },
      "source": [
        "url = 'https://raw.githubusercontent.com/AmbujaBudakoti27/Sarcasm-Detection/main/Sarcasm_Headlines_Dataset.json'\n",
        "df=pd.read_json(url,lines=True)"
      ],
      "execution_count": 3,
      "outputs": []
    },
    {
      "cell_type": "code",
      "metadata": {
        "colab": {
          "base_uri": "https://localhost:8080/",
          "height": 204
        },
        "id": "SbZsJtm-iPq0",
        "outputId": "f568c0bf-4ff7-4f3c-fe8c-b522f0ceddf5"
      },
      "source": [
        "df.head()"
      ],
      "execution_count": 4,
      "outputs": [
        {
          "output_type": "execute_result",
          "data": {
            "text/html": [
              "<div>\n",
              "<style scoped>\n",
              "    .dataframe tbody tr th:only-of-type {\n",
              "        vertical-align: middle;\n",
              "    }\n",
              "\n",
              "    .dataframe tbody tr th {\n",
              "        vertical-align: top;\n",
              "    }\n",
              "\n",
              "    .dataframe thead th {\n",
              "        text-align: right;\n",
              "    }\n",
              "</style>\n",
              "<table border=\"1\" class=\"dataframe\">\n",
              "  <thead>\n",
              "    <tr style=\"text-align: right;\">\n",
              "      <th></th>\n",
              "      <th>article_link</th>\n",
              "      <th>headline</th>\n",
              "      <th>is_sarcastic</th>\n",
              "    </tr>\n",
              "  </thead>\n",
              "  <tbody>\n",
              "    <tr>\n",
              "      <th>0</th>\n",
              "      <td>https://www.huffingtonpost.com/entry/versace-b...</td>\n",
              "      <td>former versace store clerk sues over secret 'b...</td>\n",
              "      <td>0</td>\n",
              "    </tr>\n",
              "    <tr>\n",
              "      <th>1</th>\n",
              "      <td>https://www.huffingtonpost.com/entry/roseanne-...</td>\n",
              "      <td>the 'roseanne' revival catches up to our thorn...</td>\n",
              "      <td>0</td>\n",
              "    </tr>\n",
              "    <tr>\n",
              "      <th>2</th>\n",
              "      <td>https://local.theonion.com/mom-starting-to-fea...</td>\n",
              "      <td>mom starting to fear son's web series closest ...</td>\n",
              "      <td>1</td>\n",
              "    </tr>\n",
              "    <tr>\n",
              "      <th>3</th>\n",
              "      <td>https://politics.theonion.com/boehner-just-wan...</td>\n",
              "      <td>boehner just wants wife to listen, not come up...</td>\n",
              "      <td>1</td>\n",
              "    </tr>\n",
              "    <tr>\n",
              "      <th>4</th>\n",
              "      <td>https://www.huffingtonpost.com/entry/jk-rowlin...</td>\n",
              "      <td>j.k. rowling wishes snape happy birthday in th...</td>\n",
              "      <td>0</td>\n",
              "    </tr>\n",
              "  </tbody>\n",
              "</table>\n",
              "</div>"
            ],
            "text/plain": [
              "                                        article_link  ... is_sarcastic\n",
              "0  https://www.huffingtonpost.com/entry/versace-b...  ...            0\n",
              "1  https://www.huffingtonpost.com/entry/roseanne-...  ...            0\n",
              "2  https://local.theonion.com/mom-starting-to-fea...  ...            1\n",
              "3  https://politics.theonion.com/boehner-just-wan...  ...            1\n",
              "4  https://www.huffingtonpost.com/entry/jk-rowlin...  ...            0\n",
              "\n",
              "[5 rows x 3 columns]"
            ]
          },
          "metadata": {
            "tags": []
          },
          "execution_count": 4
        }
      ]
    },
    {
      "cell_type": "code",
      "metadata": {
        "colab": {
          "base_uri": "https://localhost:8080/"
        },
        "id": "r5vtHY2MigRq",
        "outputId": "d3ac10b0-ffb1-47d7-cbe3-e5f9cf4b2460"
      },
      "source": [
        "df.info()"
      ],
      "execution_count": 5,
      "outputs": [
        {
          "output_type": "stream",
          "text": [
            "<class 'pandas.core.frame.DataFrame'>\n",
            "RangeIndex: 26709 entries, 0 to 26708\n",
            "Data columns (total 3 columns):\n",
            " #   Column        Non-Null Count  Dtype \n",
            "---  ------        --------------  ----- \n",
            " 0   article_link  26709 non-null  object\n",
            " 1   headline      26709 non-null  object\n",
            " 2   is_sarcastic  26709 non-null  int64 \n",
            "dtypes: int64(1), object(2)\n",
            "memory usage: 626.1+ KB\n"
          ],
          "name": "stdout"
        }
      ]
    },
    {
      "cell_type": "code",
      "metadata": {
        "colab": {
          "base_uri": "https://localhost:8080/"
        },
        "id": "bdyLnXZAiuq1",
        "outputId": "3719e6b0-b74c-43b9-a057-cc81123e4dcf"
      },
      "source": [
        "df['is_sarcastic'].value_counts()"
      ],
      "execution_count": 6,
      "outputs": [
        {
          "output_type": "execute_result",
          "data": {
            "text/plain": [
              "0    14985\n",
              "1    11724\n",
              "Name: is_sarcastic, dtype: int64"
            ]
          },
          "metadata": {
            "tags": []
          },
          "execution_count": 6
        }
      ]
    },
    {
      "cell_type": "code",
      "metadata": {
        "colab": {
          "base_uri": "https://localhost:8080/",
          "height": 297
        },
        "id": "GZpl7bQqjxAn",
        "outputId": "9cda275f-2296-4349-8543-c4396b608268"
      },
      "source": [
        "sns.set_style('whitegrid')\n",
        "sns.countplot(x='is_sarcastic',data=df)"
      ],
      "execution_count": 8,
      "outputs": [
        {
          "output_type": "execute_result",
          "data": {
            "text/plain": [
              "<matplotlib.axes._subplots.AxesSubplot at 0x7fad6b324ad0>"
            ]
          },
          "metadata": {
            "tags": []
          },
          "execution_count": 8
        },
        {
          "output_type": "display_data",
          "data": {
            "image/png": "[encoded data removed]",
            "text/plain": [
              "<Figure size 432x288 with 1 Axes>"
            ]
          },
          "metadata": {
            "tags": []
          }
        }
      ]
    },
    {
      "cell_type": "code",
      "metadata": {
        "colab": {
          "base_uri": "https://localhost:8080/",
          "height": 204
        },
        "id": "wqZpHprSlm_U",
        "outputId": "1545dbd7-ff42-48c1-af7a-e66899b12729"
      },
      "source": [
        "df['headline']=df['headline'].str.replace('@USER', \"\") \n",
        "df['headline']=df['headline'].str.replace('\\d+', '')\n",
        "df['headline']=df['headline'].str.lower()\n",
        "df['headline']=df['headline'].str.replace('[^\\w\\s]','')\n",
        "\n",
        "df.head()"
      ],
      "execution_count": 10,
      "outputs": [
        {
          "output_type": "execute_result",
          "data": {
            "text/html": [
              "<div>\n",
              "<style scoped>\n",
              "    .dataframe tbody tr th:only-of-type {\n",
              "        vertical-align: middle;\n",
              "    }\n",
              "\n",
              "    .dataframe tbody tr th {\n",
              "        vertical-align: top;\n",
              "    }\n",
              "\n",
              "    .dataframe thead th {\n",
              "        text-align: right;\n",
              "    }\n",
              "</style>\n",
              "<table border=\"1\" class=\"dataframe\">\n",
              "  <thead>\n",
              "    <tr style=\"text-align: right;\">\n",
              "      <th></th>\n",
              "      <th>article_link</th>\n",
              "      <th>headline</th>\n",
              "      <th>is_sarcastic</th>\n",
              "    </tr>\n",
              "  </thead>\n",
              "  <tbody>\n",
              "    <tr>\n",
              "      <th>0</th>\n",
              "      <td>https://www.huffingtonpost.com/entry/versace-b...</td>\n",
              "      <td>former versace store clerk sues over secret bl...</td>\n",
              "      <td>0</td>\n",
              "    </tr>\n",
              "    <tr>\n",
              "      <th>1</th>\n",
              "      <td>https://www.huffingtonpost.com/entry/roseanne-...</td>\n",
              "      <td>the roseanne revival catches up to our thorny ...</td>\n",
              "      <td>0</td>\n",
              "    </tr>\n",
              "    <tr>\n",
              "      <th>2</th>\n",
              "      <td>https://local.theonion.com/mom-starting-to-fea...</td>\n",
              "      <td>mom starting to fear sons web series closest t...</td>\n",
              "      <td>1</td>\n",
              "    </tr>\n",
              "    <tr>\n",
              "      <th>3</th>\n",
              "      <td>https://politics.theonion.com/boehner-just-wan...</td>\n",
              "      <td>boehner just wants wife to listen not come up ...</td>\n",
              "      <td>1</td>\n",
              "    </tr>\n",
              "    <tr>\n",
              "      <th>4</th>\n",
              "      <td>https://www.huffingtonpost.com/entry/jk-rowlin...</td>\n",
              "      <td>jk rowling wishes snape happy birthday in the ...</td>\n",
              "      <td>0</td>\n",
              "    </tr>\n",
              "  </tbody>\n",
              "</table>\n",
              "</div>"
            ],
            "text/plain": [
              "                                        article_link  ... is_sarcastic\n",
              "0  https://www.huffingtonpost.com/entry/versace-b...  ...            0\n",
              "1  https://www.huffingtonpost.com/entry/roseanne-...  ...            0\n",
              "2  https://local.theonion.com/mom-starting-to-fea...  ...            1\n",
              "3  https://politics.theonion.com/boehner-just-wan...  ...            1\n",
              "4  https://www.huffingtonpost.com/entry/jk-rowlin...  ...            0\n",
              "\n",
              "[5 rows x 3 columns]"
            ]
          },
          "metadata": {
            "tags": []
          },
          "execution_count": 10
        }
      ]
    },
    {
      "cell_type": "code",
      "metadata": {
        "id": "WhyKRlcIlc4k"
      },
      "source": [
        "X=df['headline'].values\n",
        "y=df['is_sarcastic'].values"
      ],
      "execution_count": 11,
      "outputs": []
    },
    {
      "cell_type": "code",
      "metadata": {
        "colab": {
          "base_uri": "https://localhost:8080/"
        },
        "id": "ZigEqYz8oe7I",
        "outputId": "c48ecd36-1ec1-4753-d07c-bf3078b2596b"
      },
      "source": [
        "y = pd.get_dummies(df['is_sarcastic'])\n",
        "y = y.iloc[:,1].values\n",
        "y"
      ],
      "execution_count": 13,
      "outputs": [
        {
          "output_type": "execute_result",
          "data": {
            "text/plain": [
              "array([0, 0, 1, ..., 0, 0, 0], dtype=uint8)"
            ]
          },
          "metadata": {
            "tags": []
          },
          "execution_count": 13
        }
      ]
    },
    {
      "cell_type": "code",
      "metadata": {
        "id": "3TSttLBAmf9e"
      },
      "source": [
        "from sklearn.model_selection import train_test_split\n",
        "X_train, X_test, y_train, y_test = train_test_split(X, y, test_size=0.2, random_state=0)"
      ],
      "execution_count": 14,
      "outputs": []
    },
    {
      "cell_type": "code",
      "metadata": {
        "id": "8mk5E46vj62F"
      },
      "source": [
        "vocab_size=10000\n",
        "embedding_dim=16\n",
        "max_length=32\n",
        "trunc_type='post'\n",
        "padding_type='post'\n",
        "oov_tok='<oov>'"
      ],
      "execution_count": 15,
      "outputs": []
    },
    {
      "cell_type": "code",
      "metadata": {
        "id": "mtjLq5klmoqt"
      },
      "source": [
        "from tensorflow.keras.preprocessing.text import Tokenizer\n",
        "from tensorflow.keras.preprocessing.sequence import pad_sequences\n",
        "\n",
        "tokenizer= Tokenizer(num_words=vocab_size, oov_token=oov_tok)\n",
        "tokenizer.fit_on_texts(X_train)\n",
        "\n",
        "word_index=tokenizer.word_index\n",
        "\n",
        "training_sequences=tokenizer.texts_to_sequences(X_train)\n",
        "training_padded=pad_sequences(training_sequences, maxlen=max_length, padding=padding_type, truncating=trunc_type)\n",
        "\n",
        "testing_sequences=tokenizer.texts_to_sequences(X_test)\n",
        "testing_padded=pad_sequences(testing_sequences, maxlen=max_length, padding=padding_type, truncating=trunc_type)"
      ],
      "execution_count": 16,
      "outputs": []
    },
    {
      "cell_type": "code",
      "metadata": {
        "colab": {
          "base_uri": "https://localhost:8080/"
        },
        "id": "79-S9XjWmsAJ",
        "outputId": "ddbe628a-ff27-4368-b775-b6f0b2cec2c4"
      },
      "source": [
        "training_padded"
      ],
      "execution_count": 17,
      "outputs": [
        {
          "output_type": "execute_result",
          "data": {
            "text/plain": [
              "array([[  46,    1, 4927, ...,    0,    0,    0],\n",
              "       [8929,  183,  635, ...,    0,    0,    0],\n",
              "       [6989, 1493, 4928, ...,    0,    0,    0],\n",
              "       ...,\n",
              "       [   1,  605,  246, ...,    0,    0,    0],\n",
              "       [  20, 7641, 1288, ...,    0,    0,    0],\n",
              "       [2060, 2536, 1246, ...,    0,    0,    0]], dtype=int32)"
            ]
          },
          "metadata": {
            "tags": []
          },
          "execution_count": 17
        }
      ]
    },
    {
      "cell_type": "code",
      "metadata": {
        "colab": {
          "base_uri": "https://localhost:8080/"
        },
        "id": "VUrAgZlim2Jd",
        "outputId": "b114a45d-fa90-46fb-9fd5-9ece23f5400b"
      },
      "source": [
        "print(training_padded.shape)\n",
        "print(testing_padded.shape)"
      ],
      "execution_count": 18,
      "outputs": [
        {
          "output_type": "stream",
          "text": [
            "(21367, 32)\n",
            "(5342, 32)\n"
          ],
          "name": "stdout"
        }
      ]
    },
    {
      "cell_type": "code",
      "metadata": {
        "id": "5uJUX5g7ngFQ"
      },
      "source": [
        "import tensorflow as tf\n",
        "from tensorflow.keras.models import Sequential\n",
        "from tensorflow.keras.layers import Dense, Dropout, Embedding, Flatten"
      ],
      "execution_count": 19,
      "outputs": []
    },
    {
      "cell_type": "code",
      "metadata": {
        "colab": {
          "base_uri": "https://localhost:8080/"
        },
        "id": "TVZTGaG2n2S5",
        "outputId": "7575b65c-9128-4aa9-a27b-810ffeb58746"
      },
      "source": [
        "model = Sequential()\n",
        "model.add(Embedding(vocab_size, embedding_dim, input_length=max_length))\n",
        "model.add(Flatten())\n",
        "\n",
        "model.add(Dense(units=32,activation='relu'))\n",
        "model.add(Dropout(0.5))\n",
        "\n",
        "model.add(Dense(units=10,activation='relu'))\n",
        "model.add(Dropout(0.5))\n",
        "\n",
        "model.add(Dense(units=1,activation='sigmoid'))\n",
        "\n",
        "opt = tf.keras.optimizers.Adam(learning_rate=0.0001)\n",
        "model.compile(loss='binary_crossentropy', optimizer=opt, metrics=['accuracy'])\n",
        "model.summary()"
      ],
      "execution_count": 20,
      "outputs": [
        {
          "output_type": "stream",
          "text": [
            "Model: \"sequential\"\n",
            "_________________________________________________________________\n",
            "Layer (type)                 Output Shape              Param #   \n",
            "=================================================================\n",
            "embedding (Embedding)        (None, 32, 16)            160000    \n",
            "_________________________________________________________________\n",
            "flatten (Flatten)            (None, 512)               0         \n",
            "_________________________________________________________________\n",
            "dense (Dense)                (None, 32)                16416     \n",
            "_________________________________________________________________\n",
            "dropout (Dropout)            (None, 32)                0         \n",
            "_________________________________________________________________\n",
            "dense_1 (Dense)              (None, 10)                330       \n",
            "_________________________________________________________________\n",
            "dropout_1 (Dropout)          (None, 10)                0         \n",
            "_________________________________________________________________\n",
            "dense_2 (Dense)              (None, 1)                 11        \n",
            "=================================================================\n",
            "Total params: 176,757\n",
            "Trainable params: 176,757\n",
            "Non-trainable params: 0\n",
            "_________________________________________________________________\n"
          ],
          "name": "stdout"
        }
      ]
    },
    {
      "cell_type": "code",
      "metadata": {
        "colab": {
          "base_uri": "https://localhost:8080/"
        },
        "id": "BMnOVdcGq0l1",
        "outputId": "f5473e69-7b17-4038-8d56-a4c23b834360"
      },
      "source": [
        "from tensorflow.keras.callbacks import EarlyStopping\n",
        "early_stop = EarlyStopping(monitor='val_loss', mode='min', verbose=1, patience=5)\n",
        "\n",
        "model.fit(x=training_padded, y=y_train, batch_size=256, epochs=100, validation_data=(testing_padded, y_test), verbose=1, callbacks=[early_stop])"
      ],
      "execution_count": 21,
      "outputs": [
        {
          "output_type": "stream",
          "text": [
            "Epoch 1/100\n",
            "84/84 [==============================] - 2s 8ms/step - loss: 0.6911 - accuracy: 0.5362 - val_loss: 0.6886 - val_accuracy: 0.5636\n",
            "Epoch 2/100\n",
            "84/84 [==============================] - 1s 6ms/step - loss: 0.6890 - accuracy: 0.5516 - val_loss: 0.6865 - val_accuracy: 0.5629\n",
            "Epoch 3/100\n",
            "84/84 [==============================] - 1s 6ms/step - loss: 0.6870 - accuracy: 0.5553 - val_loss: 0.6850 - val_accuracy: 0.5629\n",
            "Epoch 4/100\n",
            "84/84 [==============================] - 1s 6ms/step - loss: 0.6855 - accuracy: 0.5604 - val_loss: 0.6830 - val_accuracy: 0.5650\n",
            "Epoch 5/100\n",
            "84/84 [==============================] - 1s 6ms/step - loss: 0.6833 - accuracy: 0.5627 - val_loss: 0.6796 - val_accuracy: 0.5698\n",
            "Epoch 6/100\n",
            "84/84 [==============================] - 1s 6ms/step - loss: 0.6793 - accuracy: 0.5715 - val_loss: 0.6736 - val_accuracy: 0.5863\n",
            "Epoch 7/100\n",
            "84/84 [==============================] - 1s 6ms/step - loss: 0.6682 - accuracy: 0.6052 - val_loss: 0.6532 - val_accuracy: 0.6668\n",
            "Epoch 8/100\n",
            "84/84 [==============================] - 1s 6ms/step - loss: 0.6452 - accuracy: 0.6578 - val_loss: 0.6190 - val_accuracy: 0.7551\n",
            "Epoch 9/100\n",
            "84/84 [==============================] - 1s 6ms/step - loss: 0.6103 - accuracy: 0.7031 - val_loss: 0.5751 - val_accuracy: 0.8019\n",
            "Epoch 10/100\n",
            "84/84 [==============================] - 1s 6ms/step - loss: 0.5658 - accuracy: 0.7474 - val_loss: 0.5228 - val_accuracy: 0.8218\n",
            "Epoch 11/100\n",
            "84/84 [==============================] - 1s 7ms/step - loss: 0.5188 - accuracy: 0.7813 - val_loss: 0.4747 - val_accuracy: 0.8319\n",
            "Epoch 12/100\n",
            "84/84 [==============================] - 1s 6ms/step - loss: 0.4780 - accuracy: 0.8077 - val_loss: 0.4348 - val_accuracy: 0.8399\n",
            "Epoch 13/100\n",
            "84/84 [==============================] - 0s 6ms/step - loss: 0.4428 - accuracy: 0.8281 - val_loss: 0.4065 - val_accuracy: 0.8471\n",
            "Epoch 14/100\n",
            "84/84 [==============================] - 1s 6ms/step - loss: 0.4142 - accuracy: 0.8405 - val_loss: 0.3860 - val_accuracy: 0.8529\n",
            "Epoch 15/100\n",
            "84/84 [==============================] - 0s 6ms/step - loss: 0.3870 - accuracy: 0.8575 - val_loss: 0.3668 - val_accuracy: 0.8555\n",
            "Epoch 16/100\n",
            "84/84 [==============================] - 0s 6ms/step - loss: 0.3669 - accuracy: 0.8683 - val_loss: 0.3544 - val_accuracy: 0.8600\n",
            "Epoch 17/100\n",
            "84/84 [==============================] - 0s 6ms/step - loss: 0.3443 - accuracy: 0.8770 - val_loss: 0.3428 - val_accuracy: 0.8622\n",
            "Epoch 18/100\n",
            "84/84 [==============================] - 1s 6ms/step - loss: 0.3279 - accuracy: 0.8896 - val_loss: 0.3348 - val_accuracy: 0.8626\n",
            "Epoch 19/100\n",
            "84/84 [==============================] - 0s 6ms/step - loss: 0.3146 - accuracy: 0.8953 - val_loss: 0.3290 - val_accuracy: 0.8633\n",
            "Epoch 20/100\n",
            "84/84 [==============================] - 1s 6ms/step - loss: 0.2973 - accuracy: 0.9008 - val_loss: 0.3244 - val_accuracy: 0.8650\n",
            "Epoch 21/100\n",
            "84/84 [==============================] - 1s 6ms/step - loss: 0.2836 - accuracy: 0.9060 - val_loss: 0.3209 - val_accuracy: 0.8660\n",
            "Epoch 22/100\n",
            "84/84 [==============================] - 1s 6ms/step - loss: 0.2686 - accuracy: 0.9130 - val_loss: 0.3182 - val_accuracy: 0.8658\n",
            "Epoch 23/100\n",
            "84/84 [==============================] - 0s 6ms/step - loss: 0.2568 - accuracy: 0.9187 - val_loss: 0.3171 - val_accuracy: 0.8628\n",
            "Epoch 24/100\n",
            "84/84 [==============================] - 0s 6ms/step - loss: 0.2462 - accuracy: 0.9219 - val_loss: 0.3158 - val_accuracy: 0.8656\n",
            "Epoch 25/100\n",
            "84/84 [==============================] - 0s 5ms/step - loss: 0.2375 - accuracy: 0.9260 - val_loss: 0.3150 - val_accuracy: 0.8667\n",
            "Epoch 26/100\n",
            "84/84 [==============================] - 1s 6ms/step - loss: 0.2269 - accuracy: 0.9295 - val_loss: 0.3157 - val_accuracy: 0.8654\n",
            "Epoch 27/100\n",
            "84/84 [==============================] - 1s 6ms/step - loss: 0.2168 - accuracy: 0.9348 - val_loss: 0.3173 - val_accuracy: 0.8662\n",
            "Epoch 28/100\n",
            "84/84 [==============================] - 1s 6ms/step - loss: 0.2075 - accuracy: 0.9381 - val_loss: 0.3184 - val_accuracy: 0.8662\n",
            "Epoch 29/100\n",
            "84/84 [==============================] - 1s 6ms/step - loss: 0.1976 - accuracy: 0.9422 - val_loss: 0.3209 - val_accuracy: 0.8669\n",
            "Epoch 30/100\n",
            "84/84 [==============================] - 1s 6ms/step - loss: 0.1897 - accuracy: 0.9451 - val_loss: 0.3225 - val_accuracy: 0.8665\n",
            "Epoch 00030: early stopping\n"
          ],
          "name": "stdout"
        },
        {
          "output_type": "execute_result",
          "data": {
            "text/plain": [
              "<tensorflow.python.keras.callbacks.History at 0x7fad28e71c10>"
            ]
          },
          "metadata": {
            "tags": []
          },
          "execution_count": 21
        }
      ]
    },
    {
      "cell_type": "code",
      "metadata": {
        "colab": {
          "base_uri": "https://localhost:8080/",
          "height": 1000
        },
        "id": "pPuxYm6nw78Z",
        "outputId": "50f6bc97-0b25-4145-a247-1ee3a9729900"
      },
      "source": [
        "df_m=pd.DataFrame(model.history.history)\n",
        "df_m['Epoch']=range(1,31)\n",
        "df_m.index=df_m['Epoch']\n",
        "df_m"
      ],
      "execution_count": 24,
      "outputs": [
        {
          "output_type": "execute_result",
          "data": {
            "text/html": [
              "<div>\n",
              "<style scoped>\n",
              "    .dataframe tbody tr th:only-of-type {\n",
              "        vertical-align: middle;\n",
              "    }\n",
              "\n",
              "    .dataframe tbody tr th {\n",
              "        vertical-align: top;\n",
              "    }\n",
              "\n",
              "    .dataframe thead th {\n",
              "        text-align: right;\n",
              "    }\n",
              "</style>\n",
              "<table border=\"1\" class=\"dataframe\">\n",
              "  <thead>\n",
              "    <tr style=\"text-align: right;\">\n",
              "      <th></th>\n",
              "      <th>loss</th>\n",
              "      <th>accuracy</th>\n",
              "      <th>val_loss</th>\n",
              "      <th>val_accuracy</th>\n",
              "      <th>Epoch</th>\n",
              "    </tr>\n",
              "    <tr>\n",
              "      <th>Epoch</th>\n",
              "      <th></th>\n",
              "      <th></th>\n",
              "      <th></th>\n",
              "      <th></th>\n",
              "      <th></th>\n",
              "    </tr>\n",
              "  </thead>\n",
              "  <tbody>\n",
              "    <tr>\n",
              "      <th>1</th>\n",
              "      <td>0.691132</td>\n",
              "      <td>0.536154</td>\n",
              "      <td>0.688647</td>\n",
              "      <td>0.563647</td>\n",
              "      <td>1</td>\n",
              "    </tr>\n",
              "    <tr>\n",
              "      <th>2</th>\n",
              "      <td>0.688986</td>\n",
              "      <td>0.551598</td>\n",
              "      <td>0.686467</td>\n",
              "      <td>0.562898</td>\n",
              "      <td>2</td>\n",
              "    </tr>\n",
              "    <tr>\n",
              "      <th>3</th>\n",
              "      <td>0.687049</td>\n",
              "      <td>0.555342</td>\n",
              "      <td>0.684984</td>\n",
              "      <td>0.562898</td>\n",
              "      <td>3</td>\n",
              "    </tr>\n",
              "    <tr>\n",
              "      <th>4</th>\n",
              "      <td>0.685535</td>\n",
              "      <td>0.560397</td>\n",
              "      <td>0.683041</td>\n",
              "      <td>0.564957</td>\n",
              "      <td>4</td>\n",
              "    </tr>\n",
              "    <tr>\n",
              "      <th>5</th>\n",
              "      <td>0.683251</td>\n",
              "      <td>0.562690</td>\n",
              "      <td>0.679644</td>\n",
              "      <td>0.569824</td>\n",
              "      <td>5</td>\n",
              "    </tr>\n",
              "    <tr>\n",
              "      <th>6</th>\n",
              "      <td>0.679313</td>\n",
              "      <td>0.571536</td>\n",
              "      <td>0.673627</td>\n",
              "      <td>0.586297</td>\n",
              "      <td>6</td>\n",
              "    </tr>\n",
              "    <tr>\n",
              "      <th>7</th>\n",
              "      <td>0.668171</td>\n",
              "      <td>0.605232</td>\n",
              "      <td>0.653204</td>\n",
              "      <td>0.666791</td>\n",
              "      <td>7</td>\n",
              "    </tr>\n",
              "    <tr>\n",
              "      <th>8</th>\n",
              "      <td>0.645175</td>\n",
              "      <td>0.657790</td>\n",
              "      <td>0.618963</td>\n",
              "      <td>0.755148</td>\n",
              "      <td>8</td>\n",
              "    </tr>\n",
              "    <tr>\n",
              "      <th>9</th>\n",
              "      <td>0.610298</td>\n",
              "      <td>0.703094</td>\n",
              "      <td>0.575098</td>\n",
              "      <td>0.801947</td>\n",
              "      <td>9</td>\n",
              "    </tr>\n",
              "    <tr>\n",
              "      <th>10</th>\n",
              "      <td>0.565764</td>\n",
              "      <td>0.747367</td>\n",
              "      <td>0.522811</td>\n",
              "      <td>0.821790</td>\n",
              "      <td>10</td>\n",
              "    </tr>\n",
              "    <tr>\n",
              "      <th>11</th>\n",
              "      <td>0.518772</td>\n",
              "      <td>0.781345</td>\n",
              "      <td>0.474658</td>\n",
              "      <td>0.831898</td>\n",
              "      <td>11</td>\n",
              "    </tr>\n",
              "    <tr>\n",
              "      <th>12</th>\n",
              "      <td>0.477975</td>\n",
              "      <td>0.807694</td>\n",
              "      <td>0.434816</td>\n",
              "      <td>0.839948</td>\n",
              "      <td>12</td>\n",
              "    </tr>\n",
              "    <tr>\n",
              "      <th>13</th>\n",
              "      <td>0.442840</td>\n",
              "      <td>0.828053</td>\n",
              "      <td>0.406520</td>\n",
              "      <td>0.847061</td>\n",
              "      <td>13</td>\n",
              "    </tr>\n",
              "    <tr>\n",
              "      <th>14</th>\n",
              "      <td>0.414245</td>\n",
              "      <td>0.840502</td>\n",
              "      <td>0.385972</td>\n",
              "      <td>0.852864</td>\n",
              "      <td>14</td>\n",
              "    </tr>\n",
              "    <tr>\n",
              "      <th>15</th>\n",
              "      <td>0.386994</td>\n",
              "      <td>0.857537</td>\n",
              "      <td>0.366809</td>\n",
              "      <td>0.855485</td>\n",
              "      <td>15</td>\n",
              "    </tr>\n",
              "    <tr>\n",
              "      <th>16</th>\n",
              "      <td>0.366854</td>\n",
              "      <td>0.868348</td>\n",
              "      <td>0.354395</td>\n",
              "      <td>0.859978</td>\n",
              "      <td>16</td>\n",
              "    </tr>\n",
              "    <tr>\n",
              "      <th>17</th>\n",
              "      <td>0.344306</td>\n",
              "      <td>0.877007</td>\n",
              "      <td>0.342805</td>\n",
              "      <td>0.862224</td>\n",
              "      <td>17</td>\n",
              "    </tr>\n",
              "    <tr>\n",
              "      <th>18</th>\n",
              "      <td>0.327859</td>\n",
              "      <td>0.889643</td>\n",
              "      <td>0.334751</td>\n",
              "      <td>0.862598</td>\n",
              "      <td>18</td>\n",
              "    </tr>\n",
              "    <tr>\n",
              "      <th>19</th>\n",
              "      <td>0.314565</td>\n",
              "      <td>0.895306</td>\n",
              "      <td>0.329046</td>\n",
              "      <td>0.863347</td>\n",
              "      <td>19</td>\n",
              "    </tr>\n",
              "    <tr>\n",
              "      <th>20</th>\n",
              "      <td>0.297309</td>\n",
              "      <td>0.900782</td>\n",
              "      <td>0.324426</td>\n",
              "      <td>0.865032</td>\n",
              "      <td>20</td>\n",
              "    </tr>\n",
              "    <tr>\n",
              "      <th>21</th>\n",
              "      <td>0.283583</td>\n",
              "      <td>0.906023</td>\n",
              "      <td>0.320947</td>\n",
              "      <td>0.865968</td>\n",
              "      <td>21</td>\n",
              "    </tr>\n",
              "    <tr>\n",
              "      <th>22</th>\n",
              "      <td>0.268648</td>\n",
              "      <td>0.912997</td>\n",
              "      <td>0.318179</td>\n",
              "      <td>0.865781</td>\n",
              "      <td>22</td>\n",
              "    </tr>\n",
              "    <tr>\n",
              "      <th>23</th>\n",
              "      <td>0.256777</td>\n",
              "      <td>0.918660</td>\n",
              "      <td>0.317099</td>\n",
              "      <td>0.862785</td>\n",
              "      <td>23</td>\n",
              "    </tr>\n",
              "    <tr>\n",
              "      <th>24</th>\n",
              "      <td>0.246215</td>\n",
              "      <td>0.921889</td>\n",
              "      <td>0.315761</td>\n",
              "      <td>0.865593</td>\n",
              "      <td>24</td>\n",
              "    </tr>\n",
              "    <tr>\n",
              "      <th>25</th>\n",
              "      <td>0.237487</td>\n",
              "      <td>0.926007</td>\n",
              "      <td>0.315031</td>\n",
              "      <td>0.866717</td>\n",
              "      <td>25</td>\n",
              "    </tr>\n",
              "    <tr>\n",
              "      <th>26</th>\n",
              "      <td>0.226860</td>\n",
              "      <td>0.929471</td>\n",
              "      <td>0.315718</td>\n",
              "      <td>0.865406</td>\n",
              "      <td>26</td>\n",
              "    </tr>\n",
              "    <tr>\n",
              "      <th>27</th>\n",
              "      <td>0.216777</td>\n",
              "      <td>0.934759</td>\n",
              "      <td>0.317325</td>\n",
              "      <td>0.866155</td>\n",
              "      <td>27</td>\n",
              "    </tr>\n",
              "    <tr>\n",
              "      <th>28</th>\n",
              "      <td>0.207503</td>\n",
              "      <td>0.938129</td>\n",
              "      <td>0.318353</td>\n",
              "      <td>0.866155</td>\n",
              "      <td>28</td>\n",
              "    </tr>\n",
              "    <tr>\n",
              "      <th>29</th>\n",
              "      <td>0.197612</td>\n",
              "      <td>0.942201</td>\n",
              "      <td>0.320928</td>\n",
              "      <td>0.866904</td>\n",
              "      <td>29</td>\n",
              "    </tr>\n",
              "    <tr>\n",
              "      <th>30</th>\n",
              "      <td>0.189731</td>\n",
              "      <td>0.945102</td>\n",
              "      <td>0.322485</td>\n",
              "      <td>0.866529</td>\n",
              "      <td>30</td>\n",
              "    </tr>\n",
              "  </tbody>\n",
              "</table>\n",
              "</div>"
            ],
            "text/plain": [
              "           loss  accuracy  val_loss  val_accuracy  Epoch\n",
              "Epoch                                                   \n",
              "1      0.691132  0.536154  0.688647      0.563647      1\n",
              "2      0.688986  0.551598  0.686467      0.562898      2\n",
              "3      0.687049  0.555342  0.684984      0.562898      3\n",
              "4      0.685535  0.560397  0.683041      0.564957      4\n",
              "5      0.683251  0.562690  0.679644      0.569824      5\n",
              "6      0.679313  0.571536  0.673627      0.586297      6\n",
              "7      0.668171  0.605232  0.653204      0.666791      7\n",
              "8      0.645175  0.657790  0.618963      0.755148      8\n",
              "9      0.610298  0.703094  0.575098      0.801947      9\n",
              "10     0.565764  0.747367  0.522811      0.821790     10\n",
              "11     0.518772  0.781345  0.474658      0.831898     11\n",
              "12     0.477975  0.807694  0.434816      0.839948     12\n",
              "13     0.442840  0.828053  0.406520      0.847061     13\n",
              "14     0.414245  0.840502  0.385972      0.852864     14\n",
              "15     0.386994  0.857537  0.366809      0.855485     15\n",
              "16     0.366854  0.868348  0.354395      0.859978     16\n",
              "17     0.344306  0.877007  0.342805      0.862224     17\n",
              "18     0.327859  0.889643  0.334751      0.862598     18\n",
              "19     0.314565  0.895306  0.329046      0.863347     19\n",
              "20     0.297309  0.900782  0.324426      0.865032     20\n",
              "21     0.283583  0.906023  0.320947      0.865968     21\n",
              "22     0.268648  0.912997  0.318179      0.865781     22\n",
              "23     0.256777  0.918660  0.317099      0.862785     23\n",
              "24     0.246215  0.921889  0.315761      0.865593     24\n",
              "25     0.237487  0.926007  0.315031      0.866717     25\n",
              "26     0.226860  0.929471  0.315718      0.865406     26\n",
              "27     0.216777  0.934759  0.317325      0.866155     27\n",
              "28     0.207503  0.938129  0.318353      0.866155     28\n",
              "29     0.197612  0.942201  0.320928      0.866904     29\n",
              "30     0.189731  0.945102  0.322485      0.866529     30"
            ]
          },
          "metadata": {
            "tags": []
          },
          "execution_count": 24
        }
      ]
    },
    {
      "cell_type": "code",
      "metadata": {
        "colab": {
          "base_uri": "https://localhost:8080/",
          "height": 621
        },
        "id": "U64Yw1gfzDgc",
        "outputId": "b3c9dbb7-7251-4a6e-f122-0a6cfadd1335"
      },
      "source": [
        "#Loss Graph(Training and Validation)\n",
        "fig= plt.figure(figsize=(15,10))\n",
        "\n",
        "plt.plot(df_m['loss'])\n",
        "plt.plot(df_m['val_loss'])\n",
        "plt.title('model loss')\n",
        "plt.ylabel('loss')\n",
        "plt.xlabel('epoch')\n",
        "plt.legend(['train_loss', 'val_loss'])\n",
        "plt.show()"
      ],
      "execution_count": 32,
      "outputs": [
        {
          "output_type": "display_data",
          "data": {
            "image/png": "[encoded data removed]",
            "text/plain": [
              "<Figure size 1080x720 with 1 Axes>"
            ]
          },
          "metadata": {
            "tags": []
          }
        }
      ]
    },
    {
      "cell_type": "code",
      "metadata": {
        "colab": {
          "base_uri": "https://localhost:8080/",
          "height": 621
        },
        "id": "oXIoYDOw0oEC",
        "outputId": "9727b90c-5aca-47f8-e641-764a5a487b54"
      },
      "source": [
        "fig= plt.figure(figsize=(15,10))\n",
        "\n",
        "plt.plot(df_m['accuracy'])\n",
        "plt.plot(df_m['val_accuracy'])\n",
        "plt.title('model accuracy')\n",
        "plt.ylabel('accuracy')\n",
        "plt.xlabel('epoch')\n",
        "plt.legend(['train_acc', 'val_acc'])\n",
        "plt.show()"
      ],
      "execution_count": 33,
      "outputs": [
        {
          "output_type": "display_data",
          "data": {
            "image/png": "[encoded data removed]",
            "text/plain": [
              "<Figure size 1080x720 with 1 Axes>"
            ]
          },
          "metadata": {
            "tags": []
          }
        }
      ]
    }
  ]
}
