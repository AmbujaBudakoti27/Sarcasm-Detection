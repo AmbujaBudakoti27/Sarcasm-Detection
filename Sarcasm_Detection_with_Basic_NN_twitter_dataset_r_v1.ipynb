{
  "nbformat": 4,
  "nbformat_minor": 0,
  "metadata": {
    "colab": {
      "name": "Sarcasm_Detection_with_Basic_NN_twitter_dataset_r_v1.ipynb",
      "provenance": []
    },
    "kernelspec": {
      "name": "python3",
      "display_name": "Python 3"
    },
    "language_info": {
      "name": "python"
    }
  },
  "cells": [
    {
      "cell_type": "code",
      "metadata": {
        "id": "3CAvZH8liGpj"
      },
      "source": [
        "import pandas as pd\n",
        "import numpy as np\n",
        "import matplotlib.pyplot as plt\n",
        "import seaborn as sns\n",
        "%matplotlib inline"
      ],
      "execution_count": 1,
      "outputs": []
    },
    {
      "cell_type": "code",
      "metadata": {
        "id": "4s2Plv4lh3Gk"
      },
      "source": [
        "url = 'https://raw.githubusercontent.com/AmbujaBudakoti27/Sarcasm-Detection/main/sarcasm_detection_shared_task_twitter_training.jsonl'\n",
        "df=pd.read_json(url,lines=True)"
      ],
      "execution_count": 2,
      "outputs": []
    },
    {
      "cell_type": "code",
      "metadata": {
        "colab": {
          "base_uri": "https://localhost:8080/",
          "height": 204
        },
        "id": "SbZsJtm-iPq0",
        "outputId": "31deacc8-0f76-4020-c0dc-bbf9190892c0"
      },
      "source": [
        "df.head()"
      ],
      "execution_count": 3,
      "outputs": [
        {
          "output_type": "execute_result",
          "data": {
            "text/html": [
              "<div>\n",
              "<style scoped>\n",
              "    .dataframe tbody tr th:only-of-type {\n",
              "        vertical-align: middle;\n",
              "    }\n",
              "\n",
              "    .dataframe tbody tr th {\n",
              "        vertical-align: top;\n",
              "    }\n",
              "\n",
              "    .dataframe thead th {\n",
              "        text-align: right;\n",
              "    }\n",
              "</style>\n",
              "<table border=\"1\" class=\"dataframe\">\n",
              "  <thead>\n",
              "    <tr style=\"text-align: right;\">\n",
              "      <th></th>\n",
              "      <th>label</th>\n",
              "      <th>response</th>\n",
              "      <th>context</th>\n",
              "    </tr>\n",
              "  </thead>\n",
              "  <tbody>\n",
              "    <tr>\n",
              "      <th>0</th>\n",
              "      <td>SARCASM</td>\n",
              "      <td>@USER @USER @USER I don't get this .. obviousl...</td>\n",
              "      <td>[A minor child deserves privacy and should be ...</td>\n",
              "    </tr>\n",
              "    <tr>\n",
              "      <th>1</th>\n",
              "      <td>SARCASM</td>\n",
              "      <td>@USER @USER trying to protest about . Talking ...</td>\n",
              "      <td>[@USER @USER Why is he a loser ? He's just a P...</td>\n",
              "    </tr>\n",
              "    <tr>\n",
              "      <th>2</th>\n",
              "      <td>SARCASM</td>\n",
              "      <td>@USER @USER @USER He makes an insane about of ...</td>\n",
              "      <td>[Donald J . Trump is guilty as charged . The e...</td>\n",
              "    </tr>\n",
              "    <tr>\n",
              "      <th>3</th>\n",
              "      <td>SARCASM</td>\n",
              "      <td>@USER @USER Meanwhile Trump won't even release...</td>\n",
              "      <td>[Jamie Raskin tanked Doug Collins . Collins lo...</td>\n",
              "    </tr>\n",
              "    <tr>\n",
              "      <th>4</th>\n",
              "      <td>SARCASM</td>\n",
              "      <td>@USER @USER Pretty Sure the Anti-Lincoln Crowd...</td>\n",
              "      <td>[Man ... y ’ all gone “ both sides ” the apoca...</td>\n",
              "    </tr>\n",
              "  </tbody>\n",
              "</table>\n",
              "</div>"
            ],
            "text/plain": [
              "     label  ...                                            context\n",
              "0  SARCASM  ...  [A minor child deserves privacy and should be ...\n",
              "1  SARCASM  ...  [@USER @USER Why is he a loser ? He's just a P...\n",
              "2  SARCASM  ...  [Donald J . Trump is guilty as charged . The e...\n",
              "3  SARCASM  ...  [Jamie Raskin tanked Doug Collins . Collins lo...\n",
              "4  SARCASM  ...  [Man ... y ’ all gone “ both sides ” the apoca...\n",
              "\n",
              "[5 rows x 3 columns]"
            ]
          },
          "metadata": {
            "tags": []
          },
          "execution_count": 3
        }
      ]
    },
    {
      "cell_type": "code",
      "metadata": {
        "colab": {
          "base_uri": "https://localhost:8080/"
        },
        "id": "r5vtHY2MigRq",
        "outputId": "b9ac20b0-c84d-48cb-b578-1ec261981b5f"
      },
      "source": [
        "df.info()"
      ],
      "execution_count": 4,
      "outputs": [
        {
          "output_type": "stream",
          "text": [
            "<class 'pandas.core.frame.DataFrame'>\n",
            "RangeIndex: 5000 entries, 0 to 4999\n",
            "Data columns (total 3 columns):\n",
            " #   Column    Non-Null Count  Dtype \n",
            "---  ------    --------------  ----- \n",
            " 0   label     5000 non-null   object\n",
            " 1   response  5000 non-null   object\n",
            " 2   context   5000 non-null   object\n",
            "dtypes: object(3)\n",
            "memory usage: 117.3+ KB\n"
          ],
          "name": "stdout"
        }
      ]
    },
    {
      "cell_type": "code",
      "metadata": {
        "colab": {
          "base_uri": "https://localhost:8080/"
        },
        "id": "bdyLnXZAiuq1",
        "outputId": "c23bdebd-eb63-4759-f750-c6b05f55d7b8"
      },
      "source": [
        "df['label'].value_counts()"
      ],
      "execution_count": 5,
      "outputs": [
        {
          "output_type": "execute_result",
          "data": {
            "text/plain": [
              "NOT_SARCASM    2500\n",
              "SARCASM        2500\n",
              "Name: label, dtype: int64"
            ]
          },
          "metadata": {
            "tags": []
          },
          "execution_count": 5
        }
      ]
    },
    {
      "cell_type": "code",
      "metadata": {
        "colab": {
          "base_uri": "https://localhost:8080/",
          "height": 297
        },
        "id": "GZpl7bQqjxAn",
        "outputId": "b0461ea4-dd38-40aa-e5d4-3f0e306b0b27"
      },
      "source": [
        "sns.set_style('whitegrid')\n",
        "sns.countplot(x='label',data=df)"
      ],
      "execution_count": 6,
      "outputs": [
        {
          "output_type": "execute_result",
          "data": {
            "text/plain": [
              "<matplotlib.axes._subplots.AxesSubplot at 0x7fccca47c490>"
            ]
          },
          "metadata": {
            "tags": []
          },
          "execution_count": 6
        },
        {
          "output_type": "display_data",
          "data": {
            "image/png": "[encoded data removed]",
            "text/plain": [
              "<Figure size 432x288 with 1 Axes>"
            ]
          },
          "metadata": {
            "tags": []
          }
        }
      ]
    },
    {
      "cell_type": "code",
      "metadata": {
        "colab": {
          "base_uri": "https://localhost:8080/",
          "height": 204
        },
        "id": "wqZpHprSlm_U",
        "outputId": "115436d0-2678-4626-e8e7-1d62cf654d62"
      },
      "source": [
        "df['response']=df['response'].str.replace('@USER', \"\") \n",
        "df['response']=df['response'].str.replace('\\d+', '')\n",
        "df['response']=df['response'].str.lower()\n",
        "df['response']=df['response'].str.replace('[^\\w\\s]','')\n",
        "\n",
        "df['context']=df['context'].apply(lambda x: ','.join(map(str, x)))\n",
        "df['context']=df['context'].str.replace('@USER', \"\") \n",
        "df['context']=df['context'].str.lower()\n",
        "df['context']=df['context'].str.replace('[^\\w\\s]','')\n",
        "df['context']=df['context'].str.replace('\\d+', '')\n",
        "\n",
        "df.head()"
      ],
      "execution_count": 7,
      "outputs": [
        {
          "output_type": "execute_result",
          "data": {
            "text/html": [
              "<div>\n",
              "<style scoped>\n",
              "    .dataframe tbody tr th:only-of-type {\n",
              "        vertical-align: middle;\n",
              "    }\n",
              "\n",
              "    .dataframe tbody tr th {\n",
              "        vertical-align: top;\n",
              "    }\n",
              "\n",
              "    .dataframe thead th {\n",
              "        text-align: right;\n",
              "    }\n",
              "</style>\n",
              "<table border=\"1\" class=\"dataframe\">\n",
              "  <thead>\n",
              "    <tr style=\"text-align: right;\">\n",
              "      <th></th>\n",
              "      <th>label</th>\n",
              "      <th>response</th>\n",
              "      <th>context</th>\n",
              "    </tr>\n",
              "  </thead>\n",
              "  <tbody>\n",
              "    <tr>\n",
              "      <th>0</th>\n",
              "      <td>SARCASM</td>\n",
              "      <td>i dont get this  obviously you do care or y...</td>\n",
              "      <td>a minor child deserves privacy and should be k...</td>\n",
              "    </tr>\n",
              "    <tr>\n",
              "      <th>1</th>\n",
              "      <td>SARCASM</td>\n",
              "      <td>trying to protest about  talking about him a...</td>\n",
              "      <td>why is he a loser  hes just a press secretar...</td>\n",
              "    </tr>\n",
              "    <tr>\n",
              "      <th>2</th>\n",
              "      <td>SARCASM</td>\n",
              "      <td>he makes an insane about of money from the ...</td>\n",
              "      <td>donald j  trump is guilty as charged  the evid...</td>\n",
              "    </tr>\n",
              "    <tr>\n",
              "      <th>3</th>\n",
              "      <td>SARCASM</td>\n",
              "      <td>meanwhile trump wont even release his sat sc...</td>\n",
              "      <td>jamie raskin tanked doug collins  collins look...</td>\n",
              "    </tr>\n",
              "    <tr>\n",
              "      <th>4</th>\n",
              "      <td>SARCASM</td>\n",
              "      <td>pretty sure the antilincoln crowd claimed th...</td>\n",
              "      <td>man  y  all gone  both sides  the apocalypse o...</td>\n",
              "    </tr>\n",
              "  </tbody>\n",
              "</table>\n",
              "</div>"
            ],
            "text/plain": [
              "     label  ...                                            context\n",
              "0  SARCASM  ...  a minor child deserves privacy and should be k...\n",
              "1  SARCASM  ...    why is he a loser  hes just a press secretar...\n",
              "2  SARCASM  ...  donald j  trump is guilty as charged  the evid...\n",
              "3  SARCASM  ...  jamie raskin tanked doug collins  collins look...\n",
              "4  SARCASM  ...  man  y  all gone  both sides  the apocalypse o...\n",
              "\n",
              "[5 rows x 3 columns]"
            ]
          },
          "metadata": {
            "tags": []
          },
          "execution_count": 7
        }
      ]
    },
    {
      "cell_type": "code",
      "metadata": {
        "id": "WhyKRlcIlc4k"
      },
      "source": [
        "X=df['response'].values\n",
        "y=df['label'].values"
      ],
      "execution_count": 8,
      "outputs": []
    },
    {
      "cell_type": "code",
      "metadata": {
        "colab": {
          "base_uri": "https://localhost:8080/"
        },
        "id": "ZigEqYz8oe7I",
        "outputId": "0297412b-c488-4e66-cd5b-d308c726e1b8"
      },
      "source": [
        "y = pd.get_dummies(df['label'])\n",
        "y = y.iloc[:,1].values\n",
        "y"
      ],
      "execution_count": 9,
      "outputs": [
        {
          "output_type": "execute_result",
          "data": {
            "text/plain": [
              "array([1, 1, 1, ..., 0, 0, 0], dtype=uint8)"
            ]
          },
          "metadata": {
            "tags": []
          },
          "execution_count": 9
        }
      ]
    },
    {
      "cell_type": "code",
      "metadata": {
        "id": "3TSttLBAmf9e"
      },
      "source": [
        "from sklearn.model_selection import train_test_split\n",
        "X_train, X_test, y_train, y_test = train_test_split(X, y, test_size=0.2, random_state=0)"
      ],
      "execution_count": 10,
      "outputs": []
    },
    {
      "cell_type": "code",
      "metadata": {
        "id": "8mk5E46vj62F"
      },
      "source": [
        "vocab_size=10000\n",
        "embedding_dim=16\n",
        "max_length=32\n",
        "trunc_type='post'\n",
        "padding_type='post'\n",
        "oov_tok='<oov>'"
      ],
      "execution_count": 11,
      "outputs": []
    },
    {
      "cell_type": "code",
      "metadata": {
        "id": "mtjLq5klmoqt"
      },
      "source": [
        "from tensorflow.keras.preprocessing.text import Tokenizer\n",
        "from tensorflow.keras.preprocessing.sequence import pad_sequences\n",
        "\n",
        "tokenizer= Tokenizer(num_words=vocab_size, oov_token=oov_tok)\n",
        "tokenizer.fit_on_texts(X_train)\n",
        "\n",
        "word_index=tokenizer.word_index\n",
        "\n",
        "training_sequences=tokenizer.texts_to_sequences(X_train)\n",
        "training_padded=pad_sequences(training_sequences, maxlen=max_length, padding=padding_type, truncating=trunc_type)\n",
        "\n",
        "testing_sequences=tokenizer.texts_to_sequences(X_test)\n",
        "testing_padded=pad_sequences(testing_sequences, maxlen=max_length, padding=padding_type, truncating=trunc_type)"
      ],
      "execution_count": 12,
      "outputs": []
    },
    {
      "cell_type": "code",
      "metadata": {
        "colab": {
          "base_uri": "https://localhost:8080/"
        },
        "id": "79-S9XjWmsAJ",
        "outputId": "c611d097-4822-4a60-f785-8799a1d49818"
      },
      "source": [
        "training_padded"
      ],
      "execution_count": 13,
      "outputs": [
        {
          "output_type": "execute_result",
          "data": {
            "text/plain": [
              "array([[  89, 3205,   22, ...,    0,    0,    0],\n",
              "       [  26, 2422,    8, ...,    0,    0,    0],\n",
              "       [   2, 4930,  209, ...,    0,    0,    0],\n",
              "       ...,\n",
              "       [ 529,  246,   84, ...,    0,    0,    0],\n",
              "       [  25,  315,    9, ...,    0,    0,    0],\n",
              "       [ 984,   19,   84, ...,    0,    0,    0]], dtype=int32)"
            ]
          },
          "metadata": {
            "tags": []
          },
          "execution_count": 13
        }
      ]
    },
    {
      "cell_type": "code",
      "metadata": {
        "colab": {
          "base_uri": "https://localhost:8080/"
        },
        "id": "VUrAgZlim2Jd",
        "outputId": "8a0f7687-673c-42fe-bd8a-921def090c1b"
      },
      "source": [
        "print(training_padded.shape)\n",
        "print(testing_padded.shape)"
      ],
      "execution_count": 14,
      "outputs": [
        {
          "output_type": "stream",
          "text": [
            "(4000, 32)\n",
            "(1000, 32)\n"
          ],
          "name": "stdout"
        }
      ]
    },
    {
      "cell_type": "code",
      "metadata": {
        "id": "5uJUX5g7ngFQ"
      },
      "source": [
        "import tensorflow as tf\n",
        "from tensorflow.keras.models import Sequential\n",
        "from tensorflow.keras.layers import Dense, Dropout, Embedding, Flatten"
      ],
      "execution_count": 15,
      "outputs": []
    },
    {
      "cell_type": "code",
      "metadata": {
        "colab": {
          "base_uri": "https://localhost:8080/"
        },
        "id": "TVZTGaG2n2S5",
        "outputId": "777ddc5f-1df6-43e6-e13b-b257fd42ef76"
      },
      "source": [
        "model = Sequential()\n",
        "model.add(Embedding(vocab_size, embedding_dim, input_length=max_length))\n",
        "model.add(Flatten())\n",
        "\n",
        "model.add(Dense(units=32,activation='relu'))\n",
        "model.add(Dropout(0.5))\n",
        "\n",
        "model.add(Dense(units=10,activation='relu'))\n",
        "model.add(Dropout(0.5))\n",
        "\n",
        "model.add(Dense(units=1,activation='sigmoid'))\n",
        "\n",
        "opt = tf.keras.optimizers.Adam(learning_rate=0.0001)\n",
        "model.compile(loss='binary_crossentropy', optimizer=opt, metrics=['accuracy'])\n",
        "model.summary()"
      ],
      "execution_count": 16,
      "outputs": [
        {
          "output_type": "stream",
          "text": [
            "Model: \"sequential\"\n",
            "_________________________________________________________________\n",
            "Layer (type)                 Output Shape              Param #   \n",
            "=================================================================\n",
            "embedding (Embedding)        (None, 32, 16)            160000    \n",
            "_________________________________________________________________\n",
            "flatten (Flatten)            (None, 512)               0         \n",
            "_________________________________________________________________\n",
            "dense (Dense)                (None, 32)                16416     \n",
            "_________________________________________________________________\n",
            "dropout (Dropout)            (None, 32)                0         \n",
            "_________________________________________________________________\n",
            "dense_1 (Dense)              (None, 10)                330       \n",
            "_________________________________________________________________\n",
            "dropout_1 (Dropout)          (None, 10)                0         \n",
            "_________________________________________________________________\n",
            "dense_2 (Dense)              (None, 1)                 11        \n",
            "=================================================================\n",
            "Total params: 176,757\n",
            "Trainable params: 176,757\n",
            "Non-trainable params: 0\n",
            "_________________________________________________________________\n"
          ],
          "name": "stdout"
        }
      ]
    },
    {
      "cell_type": "code",
      "metadata": {
        "colab": {
          "base_uri": "https://localhost:8080/"
        },
        "id": "BMnOVdcGq0l1",
        "outputId": "deba8f4d-baeb-444d-95a4-9fd6368f8e4c"
      },
      "source": [
        "model.fit(x=training_padded, y=y_train, batch_size=256, epochs=100, validation_data=(testing_padded, y_test), verbose=1)"
      ],
      "execution_count": 17,
      "outputs": [
        {
          "output_type": "stream",
          "text": [
            "Epoch 1/100\n",
            "16/16 [==============================] - 2s 20ms/step - loss: 0.6929 - accuracy: 0.4947 - val_loss: 0.6916 - val_accuracy: 0.5200\n",
            "Epoch 2/100\n",
            "16/16 [==============================] - 0s 9ms/step - loss: 0.6919 - accuracy: 0.5098 - val_loss: 0.6913 - val_accuracy: 0.5250\n",
            "Epoch 3/100\n",
            "16/16 [==============================] - 0s 9ms/step - loss: 0.6915 - accuracy: 0.5080 - val_loss: 0.6912 - val_accuracy: 0.5320\n",
            "Epoch 4/100\n",
            "16/16 [==============================] - 0s 8ms/step - loss: 0.6910 - accuracy: 0.5102 - val_loss: 0.6910 - val_accuracy: 0.5400\n",
            "Epoch 5/100\n",
            "16/16 [==============================] - 0s 8ms/step - loss: 0.6907 - accuracy: 0.5190 - val_loss: 0.6908 - val_accuracy: 0.5310\n",
            "Epoch 6/100\n",
            "16/16 [==============================] - 0s 8ms/step - loss: 0.6905 - accuracy: 0.5245 - val_loss: 0.6906 - val_accuracy: 0.5450\n",
            "Epoch 7/100\n",
            "16/16 [==============================] - 0s 10ms/step - loss: 0.6900 - accuracy: 0.5213 - val_loss: 0.6904 - val_accuracy: 0.5470\n",
            "Epoch 8/100\n",
            "16/16 [==============================] - 0s 8ms/step - loss: 0.6889 - accuracy: 0.5270 - val_loss: 0.6902 - val_accuracy: 0.5530\n",
            "Epoch 9/100\n",
            "16/16 [==============================] - 0s 9ms/step - loss: 0.6894 - accuracy: 0.5293 - val_loss: 0.6899 - val_accuracy: 0.5450\n",
            "Epoch 10/100\n",
            "16/16 [==============================] - 0s 9ms/step - loss: 0.6886 - accuracy: 0.5357 - val_loss: 0.6897 - val_accuracy: 0.5610\n",
            "Epoch 11/100\n",
            "16/16 [==============================] - 0s 8ms/step - loss: 0.6875 - accuracy: 0.5368 - val_loss: 0.6893 - val_accuracy: 0.5610\n",
            "Epoch 12/100\n",
            "16/16 [==============================] - 0s 9ms/step - loss: 0.6872 - accuracy: 0.5490 - val_loss: 0.6890 - val_accuracy: 0.5650\n",
            "Epoch 13/100\n",
            "16/16 [==============================] - 0s 8ms/step - loss: 0.6861 - accuracy: 0.5537 - val_loss: 0.6887 - val_accuracy: 0.5680\n",
            "Epoch 14/100\n",
            "16/16 [==============================] - 0s 9ms/step - loss: 0.6858 - accuracy: 0.5558 - val_loss: 0.6882 - val_accuracy: 0.5730\n",
            "Epoch 15/100\n",
            "16/16 [==============================] - 0s 8ms/step - loss: 0.6844 - accuracy: 0.5598 - val_loss: 0.6878 - val_accuracy: 0.5710\n",
            "Epoch 16/100\n",
            "16/16 [==============================] - 0s 9ms/step - loss: 0.6839 - accuracy: 0.5558 - val_loss: 0.6874 - val_accuracy: 0.5710\n",
            "Epoch 17/100\n",
            "16/16 [==============================] - 0s 8ms/step - loss: 0.6839 - accuracy: 0.5523 - val_loss: 0.6869 - val_accuracy: 0.5760\n",
            "Epoch 18/100\n",
            "16/16 [==============================] - 0s 9ms/step - loss: 0.6819 - accuracy: 0.5713 - val_loss: 0.6864 - val_accuracy: 0.5840\n",
            "Epoch 19/100\n",
            "16/16 [==============================] - 0s 8ms/step - loss: 0.6811 - accuracy: 0.5598 - val_loss: 0.6858 - val_accuracy: 0.5840\n",
            "Epoch 20/100\n",
            "16/16 [==============================] - 0s 8ms/step - loss: 0.6801 - accuracy: 0.5765 - val_loss: 0.6852 - val_accuracy: 0.5880\n",
            "Epoch 21/100\n",
            "16/16 [==============================] - 0s 8ms/step - loss: 0.6792 - accuracy: 0.5815 - val_loss: 0.6846 - val_accuracy: 0.5860\n",
            "Epoch 22/100\n",
            "16/16 [==============================] - 0s 8ms/step - loss: 0.6775 - accuracy: 0.5878 - val_loss: 0.6839 - val_accuracy: 0.5850\n",
            "Epoch 23/100\n",
            "16/16 [==============================] - 0s 8ms/step - loss: 0.6760 - accuracy: 0.5895 - val_loss: 0.6831 - val_accuracy: 0.5870\n",
            "Epoch 24/100\n",
            "16/16 [==============================] - 0s 8ms/step - loss: 0.6740 - accuracy: 0.5910 - val_loss: 0.6823 - val_accuracy: 0.5840\n",
            "Epoch 25/100\n",
            "16/16 [==============================] - 0s 9ms/step - loss: 0.6722 - accuracy: 0.5950 - val_loss: 0.6814 - val_accuracy: 0.5860\n",
            "Epoch 26/100\n",
            "16/16 [==============================] - 0s 8ms/step - loss: 0.6698 - accuracy: 0.6090 - val_loss: 0.6804 - val_accuracy: 0.5950\n",
            "Epoch 27/100\n",
            "16/16 [==============================] - 0s 9ms/step - loss: 0.6689 - accuracy: 0.6045 - val_loss: 0.6794 - val_accuracy: 0.5910\n",
            "Epoch 28/100\n",
            "16/16 [==============================] - 0s 8ms/step - loss: 0.6668 - accuracy: 0.6162 - val_loss: 0.6782 - val_accuracy: 0.5950\n",
            "Epoch 29/100\n",
            "16/16 [==============================] - 0s 10ms/step - loss: 0.6639 - accuracy: 0.6227 - val_loss: 0.6771 - val_accuracy: 0.5920\n",
            "Epoch 30/100\n",
            "16/16 [==============================] - 0s 9ms/step - loss: 0.6623 - accuracy: 0.6227 - val_loss: 0.6758 - val_accuracy: 0.5940\n",
            "Epoch 31/100\n",
            "16/16 [==============================] - 0s 9ms/step - loss: 0.6605 - accuracy: 0.6205 - val_loss: 0.6745 - val_accuracy: 0.6030\n",
            "Epoch 32/100\n",
            "16/16 [==============================] - 0s 9ms/step - loss: 0.6566 - accuracy: 0.6348 - val_loss: 0.6732 - val_accuracy: 0.6030\n",
            "Epoch 33/100\n",
            "16/16 [==============================] - 0s 9ms/step - loss: 0.6538 - accuracy: 0.6405 - val_loss: 0.6719 - val_accuracy: 0.6030\n",
            "Epoch 34/100\n",
            "16/16 [==============================] - 0s 10ms/step - loss: 0.6509 - accuracy: 0.6388 - val_loss: 0.6704 - val_accuracy: 0.6070\n",
            "Epoch 35/100\n",
            "16/16 [==============================] - 0s 9ms/step - loss: 0.6491 - accuracy: 0.6505 - val_loss: 0.6688 - val_accuracy: 0.6140\n",
            "Epoch 36/100\n",
            "16/16 [==============================] - 0s 9ms/step - loss: 0.6430 - accuracy: 0.6547 - val_loss: 0.6672 - val_accuracy: 0.6090\n",
            "Epoch 37/100\n",
            "16/16 [==============================] - 0s 8ms/step - loss: 0.6390 - accuracy: 0.6720 - val_loss: 0.6654 - val_accuracy: 0.6090\n",
            "Epoch 38/100\n",
            "16/16 [==============================] - 0s 8ms/step - loss: 0.6353 - accuracy: 0.6655 - val_loss: 0.6636 - val_accuracy: 0.6080\n",
            "Epoch 39/100\n",
            "16/16 [==============================] - 0s 9ms/step - loss: 0.6327 - accuracy: 0.6762 - val_loss: 0.6615 - val_accuracy: 0.6120\n",
            "Epoch 40/100\n",
            "16/16 [==============================] - 0s 9ms/step - loss: 0.6261 - accuracy: 0.6950 - val_loss: 0.6596 - val_accuracy: 0.6130\n",
            "Epoch 41/100\n",
            "16/16 [==============================] - 0s 10ms/step - loss: 0.6224 - accuracy: 0.6915 - val_loss: 0.6576 - val_accuracy: 0.6160\n",
            "Epoch 42/100\n",
            "16/16 [==============================] - 0s 8ms/step - loss: 0.6168 - accuracy: 0.7078 - val_loss: 0.6556 - val_accuracy: 0.6170\n",
            "Epoch 43/100\n",
            "16/16 [==============================] - 0s 8ms/step - loss: 0.6108 - accuracy: 0.7100 - val_loss: 0.6533 - val_accuracy: 0.6190\n",
            "Epoch 44/100\n",
            "16/16 [==============================] - 0s 8ms/step - loss: 0.6043 - accuracy: 0.7230 - val_loss: 0.6508 - val_accuracy: 0.6290\n",
            "Epoch 45/100\n",
            "16/16 [==============================] - 0s 9ms/step - loss: 0.5967 - accuracy: 0.7362 - val_loss: 0.6488 - val_accuracy: 0.6200\n",
            "Epoch 46/100\n",
            "16/16 [==============================] - 0s 7ms/step - loss: 0.5906 - accuracy: 0.7350 - val_loss: 0.6463 - val_accuracy: 0.6240\n",
            "Epoch 47/100\n",
            "16/16 [==============================] - 0s 8ms/step - loss: 0.5864 - accuracy: 0.7442 - val_loss: 0.6436 - val_accuracy: 0.6300\n",
            "Epoch 48/100\n",
            "16/16 [==============================] - 0s 9ms/step - loss: 0.5772 - accuracy: 0.7598 - val_loss: 0.6415 - val_accuracy: 0.6300\n",
            "Epoch 49/100\n",
            "16/16 [==============================] - 0s 9ms/step - loss: 0.5716 - accuracy: 0.7648 - val_loss: 0.6384 - val_accuracy: 0.6320\n",
            "Epoch 50/100\n",
            "16/16 [==============================] - 0s 9ms/step - loss: 0.5613 - accuracy: 0.7772 - val_loss: 0.6361 - val_accuracy: 0.6330\n",
            "Epoch 51/100\n",
            "16/16 [==============================] - 0s 11ms/step - loss: 0.5536 - accuracy: 0.7965 - val_loss: 0.6335 - val_accuracy: 0.6360\n",
            "Epoch 52/100\n",
            "16/16 [==============================] - 0s 10ms/step - loss: 0.5515 - accuracy: 0.7922 - val_loss: 0.6312 - val_accuracy: 0.6380\n",
            "Epoch 53/100\n",
            "16/16 [==============================] - 0s 9ms/step - loss: 0.5427 - accuracy: 0.8077 - val_loss: 0.6284 - val_accuracy: 0.6410\n",
            "Epoch 54/100\n",
            "16/16 [==============================] - 0s 9ms/step - loss: 0.5325 - accuracy: 0.8185 - val_loss: 0.6260 - val_accuracy: 0.6380\n",
            "Epoch 55/100\n",
            "16/16 [==============================] - 0s 8ms/step - loss: 0.5280 - accuracy: 0.8285 - val_loss: 0.6233 - val_accuracy: 0.6380\n",
            "Epoch 56/100\n",
            "16/16 [==============================] - 0s 9ms/step - loss: 0.5174 - accuracy: 0.8375 - val_loss: 0.6198 - val_accuracy: 0.6520\n",
            "Epoch 57/100\n",
            "16/16 [==============================] - 0s 9ms/step - loss: 0.5109 - accuracy: 0.8440 - val_loss: 0.6186 - val_accuracy: 0.6450\n",
            "Epoch 58/100\n",
            "16/16 [==============================] - 0s 10ms/step - loss: 0.5002 - accuracy: 0.8533 - val_loss: 0.6170 - val_accuracy: 0.6520\n",
            "Epoch 59/100\n",
            "16/16 [==============================] - 0s 10ms/step - loss: 0.4952 - accuracy: 0.8583 - val_loss: 0.6134 - val_accuracy: 0.6560\n",
            "Epoch 60/100\n",
            "16/16 [==============================] - 0s 9ms/step - loss: 0.4847 - accuracy: 0.8760 - val_loss: 0.6131 - val_accuracy: 0.6520\n",
            "Epoch 61/100\n",
            "16/16 [==============================] - 0s 8ms/step - loss: 0.4776 - accuracy: 0.8702 - val_loss: 0.6121 - val_accuracy: 0.6540\n",
            "Epoch 62/100\n",
            "16/16 [==============================] - 0s 9ms/step - loss: 0.4721 - accuracy: 0.8840 - val_loss: 0.6086 - val_accuracy: 0.6570\n",
            "Epoch 63/100\n",
            "16/16 [==============================] - 0s 8ms/step - loss: 0.4597 - accuracy: 0.8885 - val_loss: 0.6082 - val_accuracy: 0.6590\n",
            "Epoch 64/100\n",
            "16/16 [==============================] - 0s 8ms/step - loss: 0.4534 - accuracy: 0.8913 - val_loss: 0.6071 - val_accuracy: 0.6600\n",
            "Epoch 65/100\n",
            "16/16 [==============================] - 0s 8ms/step - loss: 0.4486 - accuracy: 0.9013 - val_loss: 0.6058 - val_accuracy: 0.6620\n",
            "Epoch 66/100\n",
            "16/16 [==============================] - 0s 10ms/step - loss: 0.4373 - accuracy: 0.9090 - val_loss: 0.6039 - val_accuracy: 0.6650\n",
            "Epoch 67/100\n",
            "16/16 [==============================] - 0s 8ms/step - loss: 0.4293 - accuracy: 0.9160 - val_loss: 0.6041 - val_accuracy: 0.6620\n",
            "Epoch 68/100\n",
            "16/16 [==============================] - 0s 8ms/step - loss: 0.4241 - accuracy: 0.9150 - val_loss: 0.6013 - val_accuracy: 0.6660\n",
            "Epoch 69/100\n",
            "16/16 [==============================] - 0s 9ms/step - loss: 0.4175 - accuracy: 0.9222 - val_loss: 0.6017 - val_accuracy: 0.6620\n",
            "Epoch 70/100\n",
            "16/16 [==============================] - 0s 10ms/step - loss: 0.4086 - accuracy: 0.9258 - val_loss: 0.5991 - val_accuracy: 0.6700\n",
            "Epoch 71/100\n",
            "16/16 [==============================] - 0s 8ms/step - loss: 0.4053 - accuracy: 0.9327 - val_loss: 0.6011 - val_accuracy: 0.6650\n",
            "Epoch 72/100\n",
            "16/16 [==============================] - 0s 10ms/step - loss: 0.3931 - accuracy: 0.9330 - val_loss: 0.5990 - val_accuracy: 0.6720\n",
            "Epoch 73/100\n",
            "16/16 [==============================] - 0s 8ms/step - loss: 0.3863 - accuracy: 0.9420 - val_loss: 0.5998 - val_accuracy: 0.6720\n",
            "Epoch 74/100\n",
            "16/16 [==============================] - 0s 8ms/step - loss: 0.3763 - accuracy: 0.9438 - val_loss: 0.5977 - val_accuracy: 0.6800\n",
            "Epoch 75/100\n",
            "16/16 [==============================] - 0s 8ms/step - loss: 0.3719 - accuracy: 0.9415 - val_loss: 0.6017 - val_accuracy: 0.6690\n",
            "Epoch 76/100\n",
            "16/16 [==============================] - 0s 9ms/step - loss: 0.3714 - accuracy: 0.9395 - val_loss: 0.5982 - val_accuracy: 0.6810\n",
            "Epoch 77/100\n",
            "16/16 [==============================] - 0s 9ms/step - loss: 0.3603 - accuracy: 0.9452 - val_loss: 0.5948 - val_accuracy: 0.6800\n",
            "Epoch 78/100\n",
            "16/16 [==============================] - 0s 10ms/step - loss: 0.3559 - accuracy: 0.9450 - val_loss: 0.5990 - val_accuracy: 0.6810\n",
            "Epoch 79/100\n",
            "16/16 [==============================] - 0s 11ms/step - loss: 0.3497 - accuracy: 0.9470 - val_loss: 0.5985 - val_accuracy: 0.6770\n",
            "Epoch 80/100\n",
            "16/16 [==============================] - 0s 9ms/step - loss: 0.3404 - accuracy: 0.9463 - val_loss: 0.5981 - val_accuracy: 0.6750\n",
            "Epoch 81/100\n",
            "16/16 [==============================] - 0s 10ms/step - loss: 0.3338 - accuracy: 0.9530 - val_loss: 0.5949 - val_accuracy: 0.6810\n",
            "Epoch 82/100\n",
            "16/16 [==============================] - 0s 9ms/step - loss: 0.3309 - accuracy: 0.9535 - val_loss: 0.5995 - val_accuracy: 0.6800\n",
            "Epoch 83/100\n",
            "16/16 [==============================] - 0s 10ms/step - loss: 0.3259 - accuracy: 0.9525 - val_loss: 0.5962 - val_accuracy: 0.6840\n",
            "Epoch 84/100\n",
            "16/16 [==============================] - 0s 10ms/step - loss: 0.3198 - accuracy: 0.9528 - val_loss: 0.5981 - val_accuracy: 0.6840\n",
            "Epoch 85/100\n",
            "16/16 [==============================] - 0s 8ms/step - loss: 0.3104 - accuracy: 0.9548 - val_loss: 0.5929 - val_accuracy: 0.6830\n",
            "Epoch 86/100\n",
            "16/16 [==============================] - 0s 9ms/step - loss: 0.3049 - accuracy: 0.9585 - val_loss: 0.6002 - val_accuracy: 0.6850\n",
            "Epoch 87/100\n",
            "16/16 [==============================] - 0s 8ms/step - loss: 0.3003 - accuracy: 0.9580 - val_loss: 0.5966 - val_accuracy: 0.6860\n",
            "Epoch 88/100\n",
            "16/16 [==============================] - 0s 9ms/step - loss: 0.2915 - accuracy: 0.9600 - val_loss: 0.5970 - val_accuracy: 0.6880\n",
            "Epoch 89/100\n",
            "16/16 [==============================] - 0s 9ms/step - loss: 0.2882 - accuracy: 0.9617 - val_loss: 0.5971 - val_accuracy: 0.6880\n",
            "Epoch 90/100\n",
            "16/16 [==============================] - 0s 9ms/step - loss: 0.2803 - accuracy: 0.9625 - val_loss: 0.6006 - val_accuracy: 0.6900\n",
            "Epoch 91/100\n",
            "16/16 [==============================] - 0s 10ms/step - loss: 0.2767 - accuracy: 0.9640 - val_loss: 0.6019 - val_accuracy: 0.6880\n",
            "Epoch 92/100\n",
            "16/16 [==============================] - 0s 11ms/step - loss: 0.2736 - accuracy: 0.9635 - val_loss: 0.6056 - val_accuracy: 0.6900\n",
            "Epoch 93/100\n",
            "16/16 [==============================] - 0s 9ms/step - loss: 0.2677 - accuracy: 0.9632 - val_loss: 0.6033 - val_accuracy: 0.6860\n",
            "Epoch 94/100\n",
            "16/16 [==============================] - 0s 8ms/step - loss: 0.2600 - accuracy: 0.9665 - val_loss: 0.6028 - val_accuracy: 0.6940\n",
            "Epoch 95/100\n",
            "16/16 [==============================] - 0s 8ms/step - loss: 0.2597 - accuracy: 0.9695 - val_loss: 0.6167 - val_accuracy: 0.6880\n",
            "Epoch 96/100\n",
            "16/16 [==============================] - 0s 9ms/step - loss: 0.2545 - accuracy: 0.9647 - val_loss: 0.6084 - val_accuracy: 0.6950\n",
            "Epoch 97/100\n",
            "16/16 [==============================] - 0s 10ms/step - loss: 0.2456 - accuracy: 0.9697 - val_loss: 0.6091 - val_accuracy: 0.6980\n",
            "Epoch 98/100\n",
            "16/16 [==============================] - 0s 9ms/step - loss: 0.2407 - accuracy: 0.9688 - val_loss: 0.6125 - val_accuracy: 0.7010\n",
            "Epoch 99/100\n",
            "16/16 [==============================] - 0s 10ms/step - loss: 0.2400 - accuracy: 0.9682 - val_loss: 0.6131 - val_accuracy: 0.7010\n",
            "Epoch 100/100\n",
            "16/16 [==============================] - 0s 9ms/step - loss: 0.2360 - accuracy: 0.9680 - val_loss: 0.6136 - val_accuracy: 0.7000\n"
          ],
          "name": "stdout"
        },
        {
          "output_type": "execute_result",
          "data": {
            "text/plain": [
              "<tensorflow.python.keras.callbacks.History at 0x7fcc87faac90>"
            ]
          },
          "metadata": {
            "tags": []
          },
          "execution_count": 17
        }
      ]
    },
    {
      "cell_type": "code",
      "metadata": {
        "colab": {
          "base_uri": "https://localhost:8080/",
          "height": 450
        },
        "id": "pPuxYm6nw78Z",
        "outputId": "cb9a336c-8e2d-42a3-de2d-96d3e4acdff1"
      },
      "source": [
        "df_m=pd.DataFrame(model.history.history)\n",
        "df_m['Epoch']=range(1,101)\n",
        "df_m.index=df_m['Epoch']\n",
        "df_m"
      ],
      "execution_count": 18,
      "outputs": [
        {
          "output_type": "execute_result",
          "data": {
            "text/html": [
              "<div>\n",
              "<style scoped>\n",
              "    .dataframe tbody tr th:only-of-type {\n",
              "        vertical-align: middle;\n",
              "    }\n",
              "\n",
              "    .dataframe tbody tr th {\n",
              "        vertical-align: top;\n",
              "    }\n",
              "\n",
              "    .dataframe thead th {\n",
              "        text-align: right;\n",
              "    }\n",
              "</style>\n",
              "<table border=\"1\" class=\"dataframe\">\n",
              "  <thead>\n",
              "    <tr style=\"text-align: right;\">\n",
              "      <th></th>\n",
              "      <th>loss</th>\n",
              "      <th>accuracy</th>\n",
              "      <th>val_loss</th>\n",
              "      <th>val_accuracy</th>\n",
              "      <th>Epoch</th>\n",
              "    </tr>\n",
              "    <tr>\n",
              "      <th>Epoch</th>\n",
              "      <th></th>\n",
              "      <th></th>\n",
              "      <th></th>\n",
              "      <th></th>\n",
              "      <th></th>\n",
              "    </tr>\n",
              "  </thead>\n",
              "  <tbody>\n",
              "    <tr>\n",
              "      <th>1</th>\n",
              "      <td>0.692903</td>\n",
              "      <td>0.49475</td>\n",
              "      <td>0.691627</td>\n",
              "      <td>0.520</td>\n",
              "      <td>1</td>\n",
              "    </tr>\n",
              "    <tr>\n",
              "      <th>2</th>\n",
              "      <td>0.691915</td>\n",
              "      <td>0.50975</td>\n",
              "      <td>0.691334</td>\n",
              "      <td>0.525</td>\n",
              "      <td>2</td>\n",
              "    </tr>\n",
              "    <tr>\n",
              "      <th>3</th>\n",
              "      <td>0.691536</td>\n",
              "      <td>0.50800</td>\n",
              "      <td>0.691161</td>\n",
              "      <td>0.532</td>\n",
              "      <td>3</td>\n",
              "    </tr>\n",
              "    <tr>\n",
              "      <th>4</th>\n",
              "      <td>0.691025</td>\n",
              "      <td>0.51025</td>\n",
              "      <td>0.690987</td>\n",
              "      <td>0.540</td>\n",
              "      <td>4</td>\n",
              "    </tr>\n",
              "    <tr>\n",
              "      <th>5</th>\n",
              "      <td>0.690722</td>\n",
              "      <td>0.51900</td>\n",
              "      <td>0.690769</td>\n",
              "      <td>0.531</td>\n",
              "      <td>5</td>\n",
              "    </tr>\n",
              "    <tr>\n",
              "      <th>...</th>\n",
              "      <td>...</td>\n",
              "      <td>...</td>\n",
              "      <td>...</td>\n",
              "      <td>...</td>\n",
              "      <td>...</td>\n",
              "    </tr>\n",
              "    <tr>\n",
              "      <th>96</th>\n",
              "      <td>0.254539</td>\n",
              "      <td>0.96475</td>\n",
              "      <td>0.608375</td>\n",
              "      <td>0.695</td>\n",
              "      <td>96</td>\n",
              "    </tr>\n",
              "    <tr>\n",
              "      <th>97</th>\n",
              "      <td>0.245581</td>\n",
              "      <td>0.96975</td>\n",
              "      <td>0.609137</td>\n",
              "      <td>0.698</td>\n",
              "      <td>97</td>\n",
              "    </tr>\n",
              "    <tr>\n",
              "      <th>98</th>\n",
              "      <td>0.240730</td>\n",
              "      <td>0.96875</td>\n",
              "      <td>0.612534</td>\n",
              "      <td>0.701</td>\n",
              "      <td>98</td>\n",
              "    </tr>\n",
              "    <tr>\n",
              "      <th>99</th>\n",
              "      <td>0.239984</td>\n",
              "      <td>0.96825</td>\n",
              "      <td>0.613101</td>\n",
              "      <td>0.701</td>\n",
              "      <td>99</td>\n",
              "    </tr>\n",
              "    <tr>\n",
              "      <th>100</th>\n",
              "      <td>0.235965</td>\n",
              "      <td>0.96800</td>\n",
              "      <td>0.613615</td>\n",
              "      <td>0.700</td>\n",
              "      <td>100</td>\n",
              "    </tr>\n",
              "  </tbody>\n",
              "</table>\n",
              "<p>100 rows × 5 columns</p>\n",
              "</div>"
            ],
            "text/plain": [
              "           loss  accuracy  val_loss  val_accuracy  Epoch\n",
              "Epoch                                                   \n",
              "1      0.692903   0.49475  0.691627         0.520      1\n",
              "2      0.691915   0.50975  0.691334         0.525      2\n",
              "3      0.691536   0.50800  0.691161         0.532      3\n",
              "4      0.691025   0.51025  0.690987         0.540      4\n",
              "5      0.690722   0.51900  0.690769         0.531      5\n",
              "...         ...       ...       ...           ...    ...\n",
              "96     0.254539   0.96475  0.608375         0.695     96\n",
              "97     0.245581   0.96975  0.609137         0.698     97\n",
              "98     0.240730   0.96875  0.612534         0.701     98\n",
              "99     0.239984   0.96825  0.613101         0.701     99\n",
              "100    0.235965   0.96800  0.613615         0.700    100\n",
              "\n",
              "[100 rows x 5 columns]"
            ]
          },
          "metadata": {
            "tags": []
          },
          "execution_count": 18
        }
      ]
    },
    {
      "cell_type": "code",
      "metadata": {
        "colab": {
          "base_uri": "https://localhost:8080/",
          "height": 621
        },
        "id": "U64Yw1gfzDgc",
        "outputId": "f0a412d1-51fd-446d-fadf-2b3fb1b6aed3"
      },
      "source": [
        "#Loss Graph(Training and Validation)\n",
        "fig= plt.figure(figsize=(15,10))\n",
        "plt.plot(df_m['loss'])\n",
        "plt.plot(df_m['val_loss'])\n",
        "plt.title('model loss')\n",
        "plt.ylabel('loss')\n",
        "plt.xlabel('epoch')\n",
        "plt.legend(['train_loss', 'val_loss'])\n",
        "plt.show()"
      ],
      "execution_count": 19,
      "outputs": [
        {
          "output_type": "display_data",
          "data": {
            "image/png": "[encoded data removed]",
            "text/plain": [
              "<Figure size 1080x720 with 1 Axes>"
            ]
          },
          "metadata": {
            "tags": []
          }
        }
      ]
    },
    {
      "cell_type": "code",
      "metadata": {
        "colab": {
          "base_uri": "https://localhost:8080/",
          "height": 621
        },
        "id": "oXIoYDOw0oEC",
        "outputId": "e5b45b64-bf1e-466c-e5c7-06a9131b3d02"
      },
      "source": [
        "fig= plt.figure(figsize=(15,10))\n",
        "plt.plot(df_m['accuracy'])\n",
        "plt.plot(df_m['val_accuracy'])\n",
        "plt.title('model accuracy')\n",
        "plt.ylabel('accuracy')\n",
        "plt.xlabel('epoch')\n",
        "plt.legend(['train_acc', 'val_acc'])\n",
        "plt.show()"
      ],
      "execution_count": 20,
      "outputs": [
        {
          "output_type": "display_data",
          "data": {
            "image/png": "[encoded data removed]",
            "text/plain": [
              "<Figure size 1080x720 with 1 Axes>"
            ]
          },
          "metadata": {
            "tags": []
          }
        }
      ]
    },
    {
      "cell_type": "code",
      "metadata": {
        "id": "v4SQrc6l1DJJ"
      },
      "source": [
        ""
      ],
      "execution_count": null,
      "outputs": []
    }
  ]
}