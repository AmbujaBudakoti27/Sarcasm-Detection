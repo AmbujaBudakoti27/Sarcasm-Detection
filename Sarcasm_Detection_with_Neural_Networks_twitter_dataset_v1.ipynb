{
  "nbformat": 4,
  "nbformat_minor": 0,
  "metadata": {
    "colab": {
      "name": "Sarcasm_Detection_with_Neural_Networks_twitter_dataset_v1.ipynb",
      "provenance": []
    },
    "kernelspec": {
      "name": "python3",
      "display_name": "Python 3"
    },
    "language_info": {
      "name": "python"
    }
  },
  "cells": [
    {
      "cell_type": "code",
      "metadata": {
        "id": "3CAvZH8liGpj"
      },
      "source": [
        "import pandas as pd\n",
        "import numpy as np\n",
        "import matplotlib.pyplot as plt\n",
        "import seaborn as sns\n",
        "%matplotlib inline"
      ],
      "execution_count": 73,
      "outputs": []
    },
    {
      "cell_type": "code",
      "metadata": {
        "id": "4s2Plv4lh3Gk"
      },
      "source": [
        "url = 'https://raw.githubusercontent.com/AmbujaBudakoti27/Sarcasm-Detection/main/sarcasm_detection_shared_task_twitter_training.jsonl'\n",
        "df=pd.read_json(url,lines=True)"
      ],
      "execution_count": 74,
      "outputs": []
    },
    {
      "cell_type": "code",
      "metadata": {
        "colab": {
          "base_uri": "https://localhost:8080/",
          "height": 204
        },
        "id": "SbZsJtm-iPq0",
        "outputId": "106c407f-6182-4425-d3f4-5fc05b127eb2"
      },
      "source": [
        "df.head()"
      ],
      "execution_count": 75,
      "outputs": [
        {
          "output_type": "execute_result",
          "data": {
            "text/html": [
              "<div>\n",
              "<style scoped>\n",
              "    .dataframe tbody tr th:only-of-type {\n",
              "        vertical-align: middle;\n",
              "    }\n",
              "\n",
              "    .dataframe tbody tr th {\n",
              "        vertical-align: top;\n",
              "    }\n",
              "\n",
              "    .dataframe thead th {\n",
              "        text-align: right;\n",
              "    }\n",
              "</style>\n",
              "<table border=\"1\" class=\"dataframe\">\n",
              "  <thead>\n",
              "    <tr style=\"text-align: right;\">\n",
              "      <th></th>\n",
              "      <th>label</th>\n",
              "      <th>response</th>\n",
              "      <th>context</th>\n",
              "    </tr>\n",
              "  </thead>\n",
              "  <tbody>\n",
              "    <tr>\n",
              "      <th>0</th>\n",
              "      <td>SARCASM</td>\n",
              "      <td>@USER @USER @USER I don't get this .. obviousl...</td>\n",
              "      <td>[A minor child deserves privacy and should be ...</td>\n",
              "    </tr>\n",
              "    <tr>\n",
              "      <th>1</th>\n",
              "      <td>SARCASM</td>\n",
              "      <td>@USER @USER trying to protest about . Talking ...</td>\n",
              "      <td>[@USER @USER Why is he a loser ? He's just a P...</td>\n",
              "    </tr>\n",
              "    <tr>\n",
              "      <th>2</th>\n",
              "      <td>SARCASM</td>\n",
              "      <td>@USER @USER @USER He makes an insane about of ...</td>\n",
              "      <td>[Donald J . Trump is guilty as charged . The e...</td>\n",
              "    </tr>\n",
              "    <tr>\n",
              "      <th>3</th>\n",
              "      <td>SARCASM</td>\n",
              "      <td>@USER @USER Meanwhile Trump won't even release...</td>\n",
              "      <td>[Jamie Raskin tanked Doug Collins . Collins lo...</td>\n",
              "    </tr>\n",
              "    <tr>\n",
              "      <th>4</th>\n",
              "      <td>SARCASM</td>\n",
              "      <td>@USER @USER Pretty Sure the Anti-Lincoln Crowd...</td>\n",
              "      <td>[Man ... y ’ all gone “ both sides ” the apoca...</td>\n",
              "    </tr>\n",
              "  </tbody>\n",
              "</table>\n",
              "</div>"
            ],
            "text/plain": [
              "     label  ...                                            context\n",
              "0  SARCASM  ...  [A minor child deserves privacy and should be ...\n",
              "1  SARCASM  ...  [@USER @USER Why is he a loser ? He's just a P...\n",
              "2  SARCASM  ...  [Donald J . Trump is guilty as charged . The e...\n",
              "3  SARCASM  ...  [Jamie Raskin tanked Doug Collins . Collins lo...\n",
              "4  SARCASM  ...  [Man ... y ’ all gone “ both sides ” the apoca...\n",
              "\n",
              "[5 rows x 3 columns]"
            ]
          },
          "metadata": {
            "tags": []
          },
          "execution_count": 75
        }
      ]
    },
    {
      "cell_type": "code",
      "metadata": {
        "colab": {
          "base_uri": "https://localhost:8080/"
        },
        "id": "r5vtHY2MigRq",
        "outputId": "fca80932-0c17-4f53-da47-2f0b4e1b6220"
      },
      "source": [
        "df.info()"
      ],
      "execution_count": 76,
      "outputs": [
        {
          "output_type": "stream",
          "text": [
            "<class 'pandas.core.frame.DataFrame'>\n",
            "RangeIndex: 5000 entries, 0 to 4999\n",
            "Data columns (total 3 columns):\n",
            " #   Column    Non-Null Count  Dtype \n",
            "---  ------    --------------  ----- \n",
            " 0   label     5000 non-null   object\n",
            " 1   response  5000 non-null   object\n",
            " 2   context   5000 non-null   object\n",
            "dtypes: object(3)\n",
            "memory usage: 117.3+ KB\n"
          ],
          "name": "stdout"
        }
      ]
    },
    {
      "cell_type": "code",
      "metadata": {
        "colab": {
          "base_uri": "https://localhost:8080/"
        },
        "id": "bdyLnXZAiuq1",
        "outputId": "2d000bfc-05dc-432d-c11a-4b377e211fb2"
      },
      "source": [
        "df['label'].value_counts()"
      ],
      "execution_count": 77,
      "outputs": [
        {
          "output_type": "execute_result",
          "data": {
            "text/plain": [
              "NOT_SARCASM    2500\n",
              "SARCASM        2500\n",
              "Name: label, dtype: int64"
            ]
          },
          "metadata": {
            "tags": []
          },
          "execution_count": 77
        }
      ]
    },
    {
      "cell_type": "code",
      "metadata": {
        "colab": {
          "base_uri": "https://localhost:8080/",
          "height": 297
        },
        "id": "GZpl7bQqjxAn",
        "outputId": "7cd3ddb1-6f2f-441d-f7be-65586a59fcf4"
      },
      "source": [
        "sns.set_style('whitegrid')\n",
        "sns.countplot(x='label',data=df)"
      ],
      "execution_count": 78,
      "outputs": [
        {
          "output_type": "execute_result",
          "data": {
            "text/plain": [
              "<matplotlib.axes._subplots.AxesSubplot at 0x7fdaafbc3850>"
            ]
          },
          "metadata": {
            "tags": []
          },
          "execution_count": 78
        },
        {
          "output_type": "display_data",
          "data": {
            "image/png": "[encoded data removed]",
            "text/plain": [
              "<Figure size 432x288 with 1 Axes>"
            ]
          },
          "metadata": {
            "tags": []
          }
        }
      ]
    },
    {
      "cell_type": "code",
      "metadata": {
        "colab": {
          "base_uri": "https://localhost:8080/",
          "height": 204
        },
        "id": "wqZpHprSlm_U",
        "outputId": "3911fb43-47db-4eb7-fe45-c23ad039ac79"
      },
      "source": [
        "df['response']=df['response'].str.replace('@USER', \"\") \n",
        "df['response']=df['response'].str.replace('\\d+', '')\n",
        "df['response']=df['response'].str.lower()\n",
        "df['response']=df['response'].str.replace('[^\\w\\s]','')\n",
        "\n",
        "df['context']=df['context'].apply(lambda x: ','.join(map(str, x)))\n",
        "df['context']=df['context'].str.replace('@USER', \"\") \n",
        "df['context']=df['context'].str.lower()\n",
        "df['context']=df['context'].str.replace('[^\\w\\s]','')\n",
        "df['context']=df['context'].str.replace('\\d+', '')\n",
        "\n",
        "df.head()"
      ],
      "execution_count": 79,
      "outputs": [
        {
          "output_type": "execute_result",
          "data": {
            "text/html": [
              "<div>\n",
              "<style scoped>\n",
              "    .dataframe tbody tr th:only-of-type {\n",
              "        vertical-align: middle;\n",
              "    }\n",
              "\n",
              "    .dataframe tbody tr th {\n",
              "        vertical-align: top;\n",
              "    }\n",
              "\n",
              "    .dataframe thead th {\n",
              "        text-align: right;\n",
              "    }\n",
              "</style>\n",
              "<table border=\"1\" class=\"dataframe\">\n",
              "  <thead>\n",
              "    <tr style=\"text-align: right;\">\n",
              "      <th></th>\n",
              "      <th>label</th>\n",
              "      <th>response</th>\n",
              "      <th>context</th>\n",
              "    </tr>\n",
              "  </thead>\n",
              "  <tbody>\n",
              "    <tr>\n",
              "      <th>0</th>\n",
              "      <td>SARCASM</td>\n",
              "      <td>i dont get this  obviously you do care or y...</td>\n",
              "      <td>a minor child deserves privacy and should be k...</td>\n",
              "    </tr>\n",
              "    <tr>\n",
              "      <th>1</th>\n",
              "      <td>SARCASM</td>\n",
              "      <td>trying to protest about  talking about him a...</td>\n",
              "      <td>why is he a loser  hes just a press secretar...</td>\n",
              "    </tr>\n",
              "    <tr>\n",
              "      <th>2</th>\n",
              "      <td>SARCASM</td>\n",
              "      <td>he makes an insane about of money from the ...</td>\n",
              "      <td>donald j  trump is guilty as charged  the evid...</td>\n",
              "    </tr>\n",
              "    <tr>\n",
              "      <th>3</th>\n",
              "      <td>SARCASM</td>\n",
              "      <td>meanwhile trump wont even release his sat sc...</td>\n",
              "      <td>jamie raskin tanked doug collins  collins look...</td>\n",
              "    </tr>\n",
              "    <tr>\n",
              "      <th>4</th>\n",
              "      <td>SARCASM</td>\n",
              "      <td>pretty sure the antilincoln crowd claimed th...</td>\n",
              "      <td>man  y  all gone  both sides  the apocalypse o...</td>\n",
              "    </tr>\n",
              "  </tbody>\n",
              "</table>\n",
              "</div>"
            ],
            "text/plain": [
              "     label  ...                                            context\n",
              "0  SARCASM  ...  a minor child deserves privacy and should be k...\n",
              "1  SARCASM  ...    why is he a loser  hes just a press secretar...\n",
              "2  SARCASM  ...  donald j  trump is guilty as charged  the evid...\n",
              "3  SARCASM  ...  jamie raskin tanked doug collins  collins look...\n",
              "4  SARCASM  ...  man  y  all gone  both sides  the apocalypse o...\n",
              "\n",
              "[5 rows x 3 columns]"
            ]
          },
          "metadata": {
            "tags": []
          },
          "execution_count": 79
        }
      ]
    },
    {
      "cell_type": "code",
      "metadata": {
        "id": "WhyKRlcIlc4k"
      },
      "source": [
        "X=df['context'].values\n",
        "y=df['label'].values"
      ],
      "execution_count": 80,
      "outputs": []
    },
    {
      "cell_type": "code",
      "metadata": {
        "colab": {
          "base_uri": "https://localhost:8080/"
        },
        "id": "ZigEqYz8oe7I",
        "outputId": "d918a3d3-9872-4950-b6cf-07784d5406f0"
      },
      "source": [
        "y = pd.get_dummies(df['label'])\n",
        "y = y.iloc[:,1].values\n",
        "y"
      ],
      "execution_count": 81,
      "outputs": [
        {
          "output_type": "execute_result",
          "data": {
            "text/plain": [
              "array([1, 1, 1, ..., 0, 0, 0], dtype=uint8)"
            ]
          },
          "metadata": {
            "tags": []
          },
          "execution_count": 81
        }
      ]
    },
    {
      "cell_type": "code",
      "metadata": {
        "id": "3TSttLBAmf9e"
      },
      "source": [
        "from sklearn.model_selection import train_test_split\n",
        "X_train, X_test, y_train, y_test = train_test_split(X, y, test_size=0.2, random_state=0)"
      ],
      "execution_count": 82,
      "outputs": []
    },
    {
      "cell_type": "code",
      "metadata": {
        "id": "8mk5E46vj62F"
      },
      "source": [
        "vocab_size=10000\n",
        "embedding_dim=16\n",
        "max_length=32\n",
        "trunc_type='post'\n",
        "padding_type='post'\n",
        "oov_tok='<oov>'"
      ],
      "execution_count": 83,
      "outputs": []
    },
    {
      "cell_type": "code",
      "metadata": {
        "id": "mtjLq5klmoqt"
      },
      "source": [
        "from tensorflow.keras.preprocessing.text import Tokenizer\n",
        "from tensorflow.keras.preprocessing.sequence import pad_sequences\n",
        "\n",
        "tokenizer= Tokenizer(num_words=vocab_size, oov_token=oov_tok)\n",
        "tokenizer.fit_on_texts(X_train)\n",
        "\n",
        "word_index=tokenizer.word_index\n",
        "\n",
        "training_sequences=tokenizer.texts_to_sequences(X_train)\n",
        "training_padded=pad_sequences(training_sequences, maxlen=max_length, padding=padding_type, truncating=trunc_type)\n",
        "\n",
        "testing_sequences=tokenizer.texts_to_sequences(X_test)\n",
        "testing_padded=pad_sequences(testing_sequences, maxlen=max_length, padding=padding_type, truncating=trunc_type)"
      ],
      "execution_count": 84,
      "outputs": []
    },
    {
      "cell_type": "code",
      "metadata": {
        "colab": {
          "base_uri": "https://localhost:8080/"
        },
        "id": "79-S9XjWmsAJ",
        "outputId": "5477d119-c772-4cf7-e089-34e3e2c6af29"
      },
      "source": [
        "training_padded"
      ],
      "execution_count": 85,
      "outputs": [
        {
          "output_type": "execute_result",
          "data": {
            "text/plain": [
              "array([[5069, 1315, 1124, ...,   26,    5, 2233],\n",
              "       [  17,    9,    2, ...,    0,    0,    0],\n",
              "       [9035,    1,  388, ...,   74,   15,  341],\n",
              "       ...,\n",
              "       [  57,    3,    1, ...,    5,    8,   54],\n",
              "       [  25,  510,    9, ...,    0,    0,    0],\n",
              "       [ 307,  682, 1347, ...,  101, 1123, 2623]], dtype=int32)"
            ]
          },
          "metadata": {
            "tags": []
          },
          "execution_count": 85
        }
      ]
    },
    {
      "cell_type": "code",
      "metadata": {
        "colab": {
          "base_uri": "https://localhost:8080/"
        },
        "id": "VUrAgZlim2Jd",
        "outputId": "c826a871-49a6-4c60-a6f3-55c4e9e06368"
      },
      "source": [
        "print(training_padded.shape)\n",
        "print(testing_padded.shape)"
      ],
      "execution_count": 86,
      "outputs": [
        {
          "output_type": "stream",
          "text": [
            "(4000, 32)\n",
            "(1000, 32)\n"
          ],
          "name": "stdout"
        }
      ]
    },
    {
      "cell_type": "code",
      "metadata": {
        "id": "5uJUX5g7ngFQ"
      },
      "source": [
        "import tensorflow as tf\n",
        "from tensorflow.keras.models import Sequential\n",
        "from tensorflow.keras.layers import Dense, Dropout, Embedding, Flatten"
      ],
      "execution_count": 87,
      "outputs": []
    },
    {
      "cell_type": "code",
      "metadata": {
        "colab": {
          "base_uri": "https://localhost:8080/"
        },
        "id": "TVZTGaG2n2S5",
        "outputId": "8354468b-5e74-41dd-cb6d-f10490bb9c0b"
      },
      "source": [
        "model = Sequential()\n",
        "model.add(Embedding(vocab_size, embedding_dim, input_length=max_length))\n",
        "model.add(Flatten())\n",
        "\n",
        "model.add(Dense(units=32,activation='relu'))\n",
        "model.add(Dropout(0.5))\n",
        "\n",
        "model.add(Dense(units=10,activation='relu'))\n",
        "model.add(Dropout(0.5))\n",
        "\n",
        "model.add(Dense(units=1,activation='sigmoid'))\n",
        "\n",
        "opt = tf.keras.optimizers.Adam(learning_rate=0.0001)\n",
        "model.compile(loss='binary_crossentropy', optimizer=opt, metrics=['accuracy'])\n",
        "model.summary()"
      ],
      "execution_count": 88,
      "outputs": [
        {
          "output_type": "stream",
          "text": [
            "Model: \"sequential_4\"\n",
            "_________________________________________________________________\n",
            "Layer (type)                 Output Shape              Param #   \n",
            "=================================================================\n",
            "embedding_4 (Embedding)      (None, 32, 16)            160000    \n",
            "_________________________________________________________________\n",
            "flatten_4 (Flatten)          (None, 512)               0         \n",
            "_________________________________________________________________\n",
            "dense_12 (Dense)             (None, 32)                16416     \n",
            "_________________________________________________________________\n",
            "dropout_8 (Dropout)          (None, 32)                0         \n",
            "_________________________________________________________________\n",
            "dense_13 (Dense)             (None, 10)                330       \n",
            "_________________________________________________________________\n",
            "dropout_9 (Dropout)          (None, 10)                0         \n",
            "_________________________________________________________________\n",
            "dense_14 (Dense)             (None, 1)                 11        \n",
            "=================================================================\n",
            "Total params: 176,757\n",
            "Trainable params: 176,757\n",
            "Non-trainable params: 0\n",
            "_________________________________________________________________\n"
          ],
          "name": "stdout"
        }
      ]
    },
    {
      "cell_type": "code",
      "metadata": {
        "colab": {
          "base_uri": "https://localhost:8080/"
        },
        "id": "BMnOVdcGq0l1",
        "outputId": "680b1efb-74a5-4ef8-d7c9-c47f537cb34d"
      },
      "source": [
        "model.fit(x=training_padded, y=y_train, batch_size=256, epochs=100, validation_data=(testing_padded, y_test), verbose=1)"
      ],
      "execution_count": 89,
      "outputs": [
        {
          "output_type": "stream",
          "text": [
            "Epoch 1/100\n",
            "16/16 [==============================] - 1s 17ms/step - loss: 0.6941 - accuracy: 0.5020 - val_loss: 0.6930 - val_accuracy: 0.5130\n",
            "Epoch 2/100\n",
            "16/16 [==============================] - 0s 8ms/step - loss: 0.6937 - accuracy: 0.5063 - val_loss: 0.6930 - val_accuracy: 0.5130\n",
            "Epoch 3/100\n",
            "16/16 [==============================] - 0s 8ms/step - loss: 0.6931 - accuracy: 0.5002 - val_loss: 0.6929 - val_accuracy: 0.5080\n",
            "Epoch 4/100\n",
            "16/16 [==============================] - 0s 8ms/step - loss: 0.6920 - accuracy: 0.5203 - val_loss: 0.6928 - val_accuracy: 0.5130\n",
            "Epoch 5/100\n",
            "16/16 [==============================] - 0s 11ms/step - loss: 0.6917 - accuracy: 0.5275 - val_loss: 0.6928 - val_accuracy: 0.5090\n",
            "Epoch 6/100\n",
            "16/16 [==============================] - 0s 9ms/step - loss: 0.6913 - accuracy: 0.5255 - val_loss: 0.6927 - val_accuracy: 0.5070\n",
            "Epoch 7/100\n",
            "16/16 [==============================] - 0s 8ms/step - loss: 0.6910 - accuracy: 0.5360 - val_loss: 0.6926 - val_accuracy: 0.5150\n",
            "Epoch 8/100\n",
            "16/16 [==============================] - 0s 8ms/step - loss: 0.6913 - accuracy: 0.5263 - val_loss: 0.6925 - val_accuracy: 0.5130\n",
            "Epoch 9/100\n",
            "16/16 [==============================] - 0s 9ms/step - loss: 0.6902 - accuracy: 0.5440 - val_loss: 0.6925 - val_accuracy: 0.5200\n",
            "Epoch 10/100\n",
            "16/16 [==============================] - 0s 8ms/step - loss: 0.6889 - accuracy: 0.5562 - val_loss: 0.6924 - val_accuracy: 0.5240\n",
            "Epoch 11/100\n",
            "16/16 [==============================] - 0s 8ms/step - loss: 0.6888 - accuracy: 0.5545 - val_loss: 0.6923 - val_accuracy: 0.5280\n",
            "Epoch 12/100\n",
            "16/16 [==============================] - 0s 8ms/step - loss: 0.6884 - accuracy: 0.5428 - val_loss: 0.6922 - val_accuracy: 0.5310\n",
            "Epoch 13/100\n",
            "16/16 [==============================] - 0s 8ms/step - loss: 0.6881 - accuracy: 0.5608 - val_loss: 0.6921 - val_accuracy: 0.5260\n",
            "Epoch 14/100\n",
            "16/16 [==============================] - 0s 9ms/step - loss: 0.6874 - accuracy: 0.5608 - val_loss: 0.6920 - val_accuracy: 0.5250\n",
            "Epoch 15/100\n",
            "16/16 [==============================] - 0s 9ms/step - loss: 0.6859 - accuracy: 0.5748 - val_loss: 0.6919 - val_accuracy: 0.5330\n",
            "Epoch 16/100\n",
            "16/16 [==============================] - 0s 9ms/step - loss: 0.6859 - accuracy: 0.5745 - val_loss: 0.6917 - val_accuracy: 0.5310\n",
            "Epoch 17/100\n",
            "16/16 [==============================] - 0s 8ms/step - loss: 0.6845 - accuracy: 0.5798 - val_loss: 0.6915 - val_accuracy: 0.5370\n",
            "Epoch 18/100\n",
            "16/16 [==============================] - 0s 8ms/step - loss: 0.6839 - accuracy: 0.5935 - val_loss: 0.6913 - val_accuracy: 0.5380\n",
            "Epoch 19/100\n",
            "16/16 [==============================] - 0s 9ms/step - loss: 0.6818 - accuracy: 0.6080 - val_loss: 0.6911 - val_accuracy: 0.5370\n",
            "Epoch 20/100\n",
            "16/16 [==============================] - 0s 8ms/step - loss: 0.6814 - accuracy: 0.6030 - val_loss: 0.6909 - val_accuracy: 0.5420\n",
            "Epoch 21/100\n",
            "16/16 [==============================] - 0s 8ms/step - loss: 0.6804 - accuracy: 0.6058 - val_loss: 0.6906 - val_accuracy: 0.5400\n",
            "Epoch 22/100\n",
            "16/16 [==============================] - 0s 8ms/step - loss: 0.6780 - accuracy: 0.6162 - val_loss: 0.6904 - val_accuracy: 0.5390\n",
            "Epoch 23/100\n",
            "16/16 [==============================] - 0s 8ms/step - loss: 0.6757 - accuracy: 0.6363 - val_loss: 0.6901 - val_accuracy: 0.5390\n",
            "Epoch 24/100\n",
            "16/16 [==============================] - 0s 8ms/step - loss: 0.6748 - accuracy: 0.6173 - val_loss: 0.6897 - val_accuracy: 0.5430\n",
            "Epoch 25/100\n",
            "16/16 [==============================] - 0s 9ms/step - loss: 0.6751 - accuracy: 0.6270 - val_loss: 0.6894 - val_accuracy: 0.5450\n",
            "Epoch 26/100\n",
            "16/16 [==============================] - 0s 8ms/step - loss: 0.6723 - accuracy: 0.6357 - val_loss: 0.6889 - val_accuracy: 0.5470\n",
            "Epoch 27/100\n",
            "16/16 [==============================] - 0s 9ms/step - loss: 0.6688 - accuracy: 0.6480 - val_loss: 0.6885 - val_accuracy: 0.5480\n",
            "Epoch 28/100\n",
            "16/16 [==============================] - 0s 8ms/step - loss: 0.6673 - accuracy: 0.6568 - val_loss: 0.6879 - val_accuracy: 0.5480\n",
            "Epoch 29/100\n",
            "16/16 [==============================] - 0s 8ms/step - loss: 0.6647 - accuracy: 0.6557 - val_loss: 0.6873 - val_accuracy: 0.5460\n",
            "Epoch 30/100\n",
            "16/16 [==============================] - 0s 8ms/step - loss: 0.6607 - accuracy: 0.6755 - val_loss: 0.6867 - val_accuracy: 0.5500\n",
            "Epoch 31/100\n",
            "16/16 [==============================] - 0s 9ms/step - loss: 0.6587 - accuracy: 0.6815 - val_loss: 0.6860 - val_accuracy: 0.5560\n",
            "Epoch 32/100\n",
            "16/16 [==============================] - 0s 8ms/step - loss: 0.6558 - accuracy: 0.6770 - val_loss: 0.6852 - val_accuracy: 0.5570\n",
            "Epoch 33/100\n",
            "16/16 [==============================] - 0s 9ms/step - loss: 0.6521 - accuracy: 0.6890 - val_loss: 0.6843 - val_accuracy: 0.5640\n",
            "Epoch 34/100\n",
            "16/16 [==============================] - 0s 9ms/step - loss: 0.6494 - accuracy: 0.6917 - val_loss: 0.6834 - val_accuracy: 0.5690\n",
            "Epoch 35/100\n",
            "16/16 [==============================] - 0s 8ms/step - loss: 0.6462 - accuracy: 0.6970 - val_loss: 0.6823 - val_accuracy: 0.5710\n",
            "Epoch 36/100\n",
            "16/16 [==============================] - 0s 9ms/step - loss: 0.6427 - accuracy: 0.7035 - val_loss: 0.6812 - val_accuracy: 0.5740\n",
            "Epoch 37/100\n",
            "16/16 [==============================] - 0s 8ms/step - loss: 0.6356 - accuracy: 0.7175 - val_loss: 0.6801 - val_accuracy: 0.5730\n",
            "Epoch 38/100\n",
            "16/16 [==============================] - 0s 8ms/step - loss: 0.6301 - accuracy: 0.7295 - val_loss: 0.6788 - val_accuracy: 0.5740\n",
            "Epoch 39/100\n",
            "16/16 [==============================] - 0s 7ms/step - loss: 0.6263 - accuracy: 0.7308 - val_loss: 0.6776 - val_accuracy: 0.5720\n",
            "Epoch 40/100\n",
            "16/16 [==============================] - 0s 8ms/step - loss: 0.6190 - accuracy: 0.7402 - val_loss: 0.6761 - val_accuracy: 0.5730\n",
            "Epoch 41/100\n",
            "16/16 [==============================] - 0s 8ms/step - loss: 0.6125 - accuracy: 0.7613 - val_loss: 0.6746 - val_accuracy: 0.5750\n",
            "Epoch 42/100\n",
            "16/16 [==============================] - 0s 8ms/step - loss: 0.6056 - accuracy: 0.7678 - val_loss: 0.6730 - val_accuracy: 0.5800\n",
            "Epoch 43/100\n",
            "16/16 [==============================] - 0s 9ms/step - loss: 0.5990 - accuracy: 0.7757 - val_loss: 0.6712 - val_accuracy: 0.5860\n",
            "Epoch 44/100\n",
            "16/16 [==============================] - 0s 8ms/step - loss: 0.5917 - accuracy: 0.7800 - val_loss: 0.6693 - val_accuracy: 0.5890\n",
            "Epoch 45/100\n",
            "16/16 [==============================] - 0s 9ms/step - loss: 0.5821 - accuracy: 0.7905 - val_loss: 0.6675 - val_accuracy: 0.5930\n",
            "Epoch 46/100\n",
            "16/16 [==============================] - 0s 8ms/step - loss: 0.5760 - accuracy: 0.7885 - val_loss: 0.6654 - val_accuracy: 0.5900\n",
            "Epoch 47/100\n",
            "16/16 [==============================] - 0s 8ms/step - loss: 0.5620 - accuracy: 0.8092 - val_loss: 0.6633 - val_accuracy: 0.5950\n",
            "Epoch 48/100\n",
            "16/16 [==============================] - 0s 8ms/step - loss: 0.5542 - accuracy: 0.8112 - val_loss: 0.6612 - val_accuracy: 0.5990\n",
            "Epoch 49/100\n",
            "16/16 [==============================] - 0s 9ms/step - loss: 0.5477 - accuracy: 0.8152 - val_loss: 0.6589 - val_accuracy: 0.5980\n",
            "Epoch 50/100\n",
            "16/16 [==============================] - 0s 9ms/step - loss: 0.5345 - accuracy: 0.8267 - val_loss: 0.6566 - val_accuracy: 0.6070\n",
            "Epoch 51/100\n",
            "16/16 [==============================] - 0s 8ms/step - loss: 0.5262 - accuracy: 0.8400 - val_loss: 0.6542 - val_accuracy: 0.6080\n",
            "Epoch 52/100\n",
            "16/16 [==============================] - 0s 8ms/step - loss: 0.5102 - accuracy: 0.8482 - val_loss: 0.6520 - val_accuracy: 0.6060\n",
            "Epoch 53/100\n",
            "16/16 [==============================] - 0s 8ms/step - loss: 0.4972 - accuracy: 0.8572 - val_loss: 0.6497 - val_accuracy: 0.6100\n",
            "Epoch 54/100\n",
            "16/16 [==============================] - 0s 9ms/step - loss: 0.4873 - accuracy: 0.8687 - val_loss: 0.6473 - val_accuracy: 0.6080\n",
            "Epoch 55/100\n",
            "16/16 [==============================] - 0s 9ms/step - loss: 0.4727 - accuracy: 0.8720 - val_loss: 0.6449 - val_accuracy: 0.6120\n",
            "Epoch 56/100\n",
            "16/16 [==============================] - 0s 8ms/step - loss: 0.4653 - accuracy: 0.8755 - val_loss: 0.6428 - val_accuracy: 0.6170\n",
            "Epoch 57/100\n",
            "16/16 [==============================] - 0s 9ms/step - loss: 0.4515 - accuracy: 0.8873 - val_loss: 0.6406 - val_accuracy: 0.6140\n",
            "Epoch 58/100\n",
            "16/16 [==============================] - 0s 8ms/step - loss: 0.4397 - accuracy: 0.8878 - val_loss: 0.6387 - val_accuracy: 0.6140\n",
            "Epoch 59/100\n",
            "16/16 [==============================] - 0s 8ms/step - loss: 0.4216 - accuracy: 0.8990 - val_loss: 0.6365 - val_accuracy: 0.6180\n",
            "Epoch 60/100\n",
            "16/16 [==============================] - 0s 8ms/step - loss: 0.4090 - accuracy: 0.9015 - val_loss: 0.6346 - val_accuracy: 0.6170\n",
            "Epoch 61/100\n",
            "16/16 [==============================] - 0s 8ms/step - loss: 0.3972 - accuracy: 0.9140 - val_loss: 0.6330 - val_accuracy: 0.6230\n",
            "Epoch 62/100\n",
            "16/16 [==============================] - 0s 9ms/step - loss: 0.3837 - accuracy: 0.9183 - val_loss: 0.6314 - val_accuracy: 0.6240\n",
            "Epoch 63/100\n",
            "16/16 [==============================] - 0s 8ms/step - loss: 0.3731 - accuracy: 0.9243 - val_loss: 0.6298 - val_accuracy: 0.6270\n",
            "Epoch 64/100\n",
            "16/16 [==============================] - 0s 11ms/step - loss: 0.3611 - accuracy: 0.9312 - val_loss: 0.6289 - val_accuracy: 0.6280\n",
            "Epoch 65/100\n",
            "16/16 [==============================] - 0s 8ms/step - loss: 0.3530 - accuracy: 0.9285 - val_loss: 0.6278 - val_accuracy: 0.6310\n",
            "Epoch 66/100\n",
            "16/16 [==============================] - 0s 8ms/step - loss: 0.3358 - accuracy: 0.9375 - val_loss: 0.6265 - val_accuracy: 0.6310\n",
            "Epoch 67/100\n",
            "16/16 [==============================] - 0s 9ms/step - loss: 0.3263 - accuracy: 0.9423 - val_loss: 0.6260 - val_accuracy: 0.6310\n",
            "Epoch 68/100\n",
            "16/16 [==============================] - 0s 8ms/step - loss: 0.3201 - accuracy: 0.9370 - val_loss: 0.6258 - val_accuracy: 0.6320\n",
            "Epoch 69/100\n",
            "16/16 [==============================] - 0s 8ms/step - loss: 0.3030 - accuracy: 0.9448 - val_loss: 0.6255 - val_accuracy: 0.6330\n",
            "Epoch 70/100\n",
            "16/16 [==============================] - 0s 8ms/step - loss: 0.2978 - accuracy: 0.9457 - val_loss: 0.6255 - val_accuracy: 0.6320\n",
            "Epoch 71/100\n",
            "16/16 [==============================] - 0s 9ms/step - loss: 0.2843 - accuracy: 0.9495 - val_loss: 0.6260 - val_accuracy: 0.6350\n",
            "Epoch 72/100\n",
            "16/16 [==============================] - 0s 9ms/step - loss: 0.2743 - accuracy: 0.9517 - val_loss: 0.6261 - val_accuracy: 0.6370\n",
            "Epoch 73/100\n",
            "16/16 [==============================] - 0s 8ms/step - loss: 0.2651 - accuracy: 0.9545 - val_loss: 0.6269 - val_accuracy: 0.6380\n",
            "Epoch 74/100\n",
            "16/16 [==============================] - 0s 9ms/step - loss: 0.2558 - accuracy: 0.9567 - val_loss: 0.6276 - val_accuracy: 0.6380\n",
            "Epoch 75/100\n",
            "16/16 [==============================] - 0s 8ms/step - loss: 0.2460 - accuracy: 0.9563 - val_loss: 0.6289 - val_accuracy: 0.6380\n",
            "Epoch 76/100\n",
            "16/16 [==============================] - 0s 8ms/step - loss: 0.2327 - accuracy: 0.9672 - val_loss: 0.6295 - val_accuracy: 0.6400\n",
            "Epoch 77/100\n",
            "16/16 [==============================] - 0s 9ms/step - loss: 0.2349 - accuracy: 0.9613 - val_loss: 0.6311 - val_accuracy: 0.6400\n",
            "Epoch 78/100\n",
            "16/16 [==============================] - 0s 8ms/step - loss: 0.2273 - accuracy: 0.9605 - val_loss: 0.6331 - val_accuracy: 0.6400\n",
            "Epoch 79/100\n",
            "16/16 [==============================] - 0s 9ms/step - loss: 0.2129 - accuracy: 0.9678 - val_loss: 0.6349 - val_accuracy: 0.6410\n",
            "Epoch 80/100\n",
            "16/16 [==============================] - 0s 8ms/step - loss: 0.2093 - accuracy: 0.9678 - val_loss: 0.6369 - val_accuracy: 0.6440\n",
            "Epoch 81/100\n",
            "16/16 [==============================] - 0s 9ms/step - loss: 0.2036 - accuracy: 0.9650 - val_loss: 0.6382 - val_accuracy: 0.6440\n",
            "Epoch 82/100\n",
            "16/16 [==============================] - 0s 8ms/step - loss: 0.1989 - accuracy: 0.9657 - val_loss: 0.6396 - val_accuracy: 0.6450\n",
            "Epoch 83/100\n",
            "16/16 [==============================] - 0s 8ms/step - loss: 0.1885 - accuracy: 0.9690 - val_loss: 0.6428 - val_accuracy: 0.6450\n",
            "Epoch 84/100\n",
            "16/16 [==============================] - 0s 8ms/step - loss: 0.1879 - accuracy: 0.9665 - val_loss: 0.6453 - val_accuracy: 0.6500\n",
            "Epoch 85/100\n",
            "16/16 [==============================] - 0s 8ms/step - loss: 0.1753 - accuracy: 0.9693 - val_loss: 0.6487 - val_accuracy: 0.6490\n",
            "Epoch 86/100\n",
            "16/16 [==============================] - 0s 9ms/step - loss: 0.1808 - accuracy: 0.9670 - val_loss: 0.6518 - val_accuracy: 0.6470\n",
            "Epoch 87/100\n",
            "16/16 [==============================] - 0s 8ms/step - loss: 0.1707 - accuracy: 0.9690 - val_loss: 0.6538 - val_accuracy: 0.6500\n",
            "Epoch 88/100\n",
            "16/16 [==============================] - 0s 8ms/step - loss: 0.1665 - accuracy: 0.9737 - val_loss: 0.6565 - val_accuracy: 0.6540\n",
            "Epoch 89/100\n",
            "16/16 [==============================] - 0s 9ms/step - loss: 0.1610 - accuracy: 0.9675 - val_loss: 0.6602 - val_accuracy: 0.6540\n",
            "Epoch 90/100\n",
            "16/16 [==============================] - 0s 9ms/step - loss: 0.1600 - accuracy: 0.9685 - val_loss: 0.6638 - val_accuracy: 0.6560\n",
            "Epoch 91/100\n",
            "16/16 [==============================] - 0s 8ms/step - loss: 0.1511 - accuracy: 0.9762 - val_loss: 0.6674 - val_accuracy: 0.6550\n",
            "Epoch 92/100\n",
            "16/16 [==============================] - 0s 10ms/step - loss: 0.1518 - accuracy: 0.9740 - val_loss: 0.6703 - val_accuracy: 0.6570\n",
            "Epoch 93/100\n",
            "16/16 [==============================] - 0s 10ms/step - loss: 0.1500 - accuracy: 0.9720 - val_loss: 0.6729 - val_accuracy: 0.6600\n",
            "Epoch 94/100\n",
            "16/16 [==============================] - 0s 9ms/step - loss: 0.1452 - accuracy: 0.9725 - val_loss: 0.6754 - val_accuracy: 0.6560\n",
            "Epoch 95/100\n",
            "16/16 [==============================] - 0s 10ms/step - loss: 0.1360 - accuracy: 0.9747 - val_loss: 0.6782 - val_accuracy: 0.6560\n",
            "Epoch 96/100\n",
            "16/16 [==============================] - 0s 10ms/step - loss: 0.1369 - accuracy: 0.9753 - val_loss: 0.6830 - val_accuracy: 0.6530\n",
            "Epoch 97/100\n",
            "16/16 [==============================] - 0s 8ms/step - loss: 0.1293 - accuracy: 0.9735 - val_loss: 0.6868 - val_accuracy: 0.6520\n",
            "Epoch 98/100\n",
            "16/16 [==============================] - 0s 8ms/step - loss: 0.1293 - accuracy: 0.9780 - val_loss: 0.6914 - val_accuracy: 0.6540\n",
            "Epoch 99/100\n",
            "16/16 [==============================] - 0s 8ms/step - loss: 0.1246 - accuracy: 0.9770 - val_loss: 0.6960 - val_accuracy: 0.6570\n",
            "Epoch 100/100\n",
            "16/16 [==============================] - 0s 9ms/step - loss: 0.1268 - accuracy: 0.9737 - val_loss: 0.6997 - val_accuracy: 0.6580\n"
          ],
          "name": "stdout"
        },
        {
          "output_type": "execute_result",
          "data": {
            "text/plain": [
              "<tensorflow.python.keras.callbacks.History at 0x7fdab3aeb150>"
            ]
          },
          "metadata": {
            "tags": []
          },
          "execution_count": 89
        }
      ]
    },
    {
      "cell_type": "code",
      "metadata": {
        "colab": {
          "base_uri": "https://localhost:8080/",
          "height": 450
        },
        "id": "pPuxYm6nw78Z",
        "outputId": "d3173c8c-5aa2-4354-cd60-f429d68ec5a0"
      },
      "source": [
        "df_m=pd.DataFrame(model.history.history)\n",
        "df_m['Epoch']=range(1,101)\n",
        "df_m.index=df_m['Epoch']\n",
        "df_m"
      ],
      "execution_count": 90,
      "outputs": [
        {
          "output_type": "execute_result",
          "data": {
            "text/html": [
              "<div>\n",
              "<style scoped>\n",
              "    .dataframe tbody tr th:only-of-type {\n",
              "        vertical-align: middle;\n",
              "    }\n",
              "\n",
              "    .dataframe tbody tr th {\n",
              "        vertical-align: top;\n",
              "    }\n",
              "\n",
              "    .dataframe thead th {\n",
              "        text-align: right;\n",
              "    }\n",
              "</style>\n",
              "<table border=\"1\" class=\"dataframe\">\n",
              "  <thead>\n",
              "    <tr style=\"text-align: right;\">\n",
              "      <th></th>\n",
              "      <th>loss</th>\n",
              "      <th>accuracy</th>\n",
              "      <th>val_loss</th>\n",
              "      <th>val_accuracy</th>\n",
              "      <th>Epoch</th>\n",
              "    </tr>\n",
              "    <tr>\n",
              "      <th>Epoch</th>\n",
              "      <th></th>\n",
              "      <th></th>\n",
              "      <th></th>\n",
              "      <th></th>\n",
              "      <th></th>\n",
              "    </tr>\n",
              "  </thead>\n",
              "  <tbody>\n",
              "    <tr>\n",
              "      <th>1</th>\n",
              "      <td>0.694108</td>\n",
              "      <td>0.50200</td>\n",
              "      <td>0.693024</td>\n",
              "      <td>0.513</td>\n",
              "      <td>1</td>\n",
              "    </tr>\n",
              "    <tr>\n",
              "      <th>2</th>\n",
              "      <td>0.693659</td>\n",
              "      <td>0.50625</td>\n",
              "      <td>0.692972</td>\n",
              "      <td>0.513</td>\n",
              "      <td>2</td>\n",
              "    </tr>\n",
              "    <tr>\n",
              "      <th>3</th>\n",
              "      <td>0.693131</td>\n",
              "      <td>0.50025</td>\n",
              "      <td>0.692914</td>\n",
              "      <td>0.508</td>\n",
              "      <td>3</td>\n",
              "    </tr>\n",
              "    <tr>\n",
              "      <th>4</th>\n",
              "      <td>0.691991</td>\n",
              "      <td>0.52025</td>\n",
              "      <td>0.692850</td>\n",
              "      <td>0.513</td>\n",
              "      <td>4</td>\n",
              "    </tr>\n",
              "    <tr>\n",
              "      <th>5</th>\n",
              "      <td>0.691724</td>\n",
              "      <td>0.52750</td>\n",
              "      <td>0.692779</td>\n",
              "      <td>0.509</td>\n",
              "      <td>5</td>\n",
              "    </tr>\n",
              "    <tr>\n",
              "      <th>...</th>\n",
              "      <td>...</td>\n",
              "      <td>...</td>\n",
              "      <td>...</td>\n",
              "      <td>...</td>\n",
              "      <td>...</td>\n",
              "    </tr>\n",
              "    <tr>\n",
              "      <th>96</th>\n",
              "      <td>0.136931</td>\n",
              "      <td>0.97525</td>\n",
              "      <td>0.682992</td>\n",
              "      <td>0.653</td>\n",
              "      <td>96</td>\n",
              "    </tr>\n",
              "    <tr>\n",
              "      <th>97</th>\n",
              "      <td>0.129299</td>\n",
              "      <td>0.97350</td>\n",
              "      <td>0.686840</td>\n",
              "      <td>0.652</td>\n",
              "      <td>97</td>\n",
              "    </tr>\n",
              "    <tr>\n",
              "      <th>98</th>\n",
              "      <td>0.129288</td>\n",
              "      <td>0.97800</td>\n",
              "      <td>0.691395</td>\n",
              "      <td>0.654</td>\n",
              "      <td>98</td>\n",
              "    </tr>\n",
              "    <tr>\n",
              "      <th>99</th>\n",
              "      <td>0.124610</td>\n",
              "      <td>0.97700</td>\n",
              "      <td>0.696027</td>\n",
              "      <td>0.657</td>\n",
              "      <td>99</td>\n",
              "    </tr>\n",
              "    <tr>\n",
              "      <th>100</th>\n",
              "      <td>0.126758</td>\n",
              "      <td>0.97375</td>\n",
              "      <td>0.699737</td>\n",
              "      <td>0.658</td>\n",
              "      <td>100</td>\n",
              "    </tr>\n",
              "  </tbody>\n",
              "</table>\n",
              "<p>100 rows × 5 columns</p>\n",
              "</div>"
            ],
            "text/plain": [
              "           loss  accuracy  val_loss  val_accuracy  Epoch\n",
              "Epoch                                                   \n",
              "1      0.694108   0.50200  0.693024         0.513      1\n",
              "2      0.693659   0.50625  0.692972         0.513      2\n",
              "3      0.693131   0.50025  0.692914         0.508      3\n",
              "4      0.691991   0.52025  0.692850         0.513      4\n",
              "5      0.691724   0.52750  0.692779         0.509      5\n",
              "...         ...       ...       ...           ...    ...\n",
              "96     0.136931   0.97525  0.682992         0.653     96\n",
              "97     0.129299   0.97350  0.686840         0.652     97\n",
              "98     0.129288   0.97800  0.691395         0.654     98\n",
              "99     0.124610   0.97700  0.696027         0.657     99\n",
              "100    0.126758   0.97375  0.699737         0.658    100\n",
              "\n",
              "[100 rows x 5 columns]"
            ]
          },
          "metadata": {
            "tags": []
          },
          "execution_count": 90
        }
      ]
    },
    {
      "cell_type": "code",
      "metadata": {
        "colab": {
          "base_uri": "https://localhost:8080/",
          "height": 295
        },
        "id": "U64Yw1gfzDgc",
        "outputId": "8cbc31fa-159d-46d4-e91d-949dea8c0cf7"
      },
      "source": [
        "#Loss Graph(Training and Validation)\n",
        "plt.plot(df_m['loss'])\n",
        "plt.plot(df_m['val_loss'])\n",
        "plt.title('model loss')\n",
        "plt.ylabel('loss')\n",
        "plt.xlabel('epoch')\n",
        "plt.legend(['train_loss', 'val_loss'])\n",
        "plt.show()"
      ],
      "execution_count": 91,
      "outputs": [
        {
          "output_type": "display_data",
          "data": {
            "image/png": "[encoded data removed]",
            "text/plain": [
              "<Figure size 432x288 with 1 Axes>"
            ]
          },
          "metadata": {
            "tags": []
          }
        }
      ]
    },
    {
      "cell_type": "code",
      "metadata": {
        "colab": {
          "base_uri": "https://localhost:8080/",
          "height": 295
        },
        "id": "oXIoYDOw0oEC",
        "outputId": "f3d6f72e-4d9d-4eaa-e564-9e7b7fd61114"
      },
      "source": [
        "plt.plot(df_m['accuracy'])\n",
        "plt.plot(df_m['val_accuracy'])\n",
        "plt.title('model accuracy')\n",
        "plt.ylabel('accuracy')\n",
        "plt.xlabel('epoch')\n",
        "plt.legend(['train_acc', 'val_acc'])\n",
        "plt.show()"
      ],
      "execution_count": 92,
      "outputs": [
        {
          "output_type": "display_data",
          "data": {
            "image/png": "[encoded data removed]",
            "text/plain": [
              "<Figure size 432x288 with 1 Axes>"
            ]
          },
          "metadata": {
            "tags": []
          }
        }
      ]
    },
    {
      "cell_type": "code",
      "metadata": {
        "id": "v4SQrc6l1DJJ"
      },
      "source": [
        ""
      ],
      "execution_count": null,
      "outputs": []
    }
  ]
}