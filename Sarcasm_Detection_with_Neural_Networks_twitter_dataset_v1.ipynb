{
  "nbformat": 4,
  "nbformat_minor": 0,
  "metadata": {
    "colab": {
      "name": "Sarcasm_Detection_with_Neural_Networks_twitter_dataset_v1.ipynb",
      "provenance": []
    },
    "kernelspec": {
      "name": "python3",
      "display_name": "Python 3"
    },
    "language_info": {
      "name": "python"
    }
  },
  "cells": [
    {
      "cell_type": "code",
      "metadata": {
        "id": "3CAvZH8liGpj"
      },
      "source": [
        "import pandas as pd\n",
        "import numpy as np\n",
        "import matplotlib.pyplot as plt\n",
        "import seaborn as sns\n",
        "%matplotlib inline"
      ],
      "execution_count": 7,
      "outputs": []
    },
    {
      "cell_type": "code",
      "metadata": {
        "id": "4s2Plv4lh3Gk"
      },
      "source": [
        "url = 'https://raw.githubusercontent.com/AmbujaBudakoti27/Sarcasm-Detection/main/sarcasm_detection_shared_task_twitter_training.jsonl'\n",
        "df=pd.read_json(url,lines=True)"
      ],
      "execution_count": 4,
      "outputs": []
    },
    {
      "cell_type": "code",
      "metadata": {
        "colab": {
          "base_uri": "https://localhost:8080/",
          "height": 204
        },
        "id": "SbZsJtm-iPq0",
        "outputId": "d0fe2e64-a968-4455-a25e-37b988a8d477"
      },
      "source": [
        "df.head()"
      ],
      "execution_count": 8,
      "outputs": [
        {
          "output_type": "execute_result",
          "data": {
            "text/html": [
              "<div>\n",
              "<style scoped>\n",
              "    .dataframe tbody tr th:only-of-type {\n",
              "        vertical-align: middle;\n",
              "    }\n",
              "\n",
              "    .dataframe tbody tr th {\n",
              "        vertical-align: top;\n",
              "    }\n",
              "\n",
              "    .dataframe thead th {\n",
              "        text-align: right;\n",
              "    }\n",
              "</style>\n",
              "<table border=\"1\" class=\"dataframe\">\n",
              "  <thead>\n",
              "    <tr style=\"text-align: right;\">\n",
              "      <th></th>\n",
              "      <th>label</th>\n",
              "      <th>response</th>\n",
              "      <th>context</th>\n",
              "    </tr>\n",
              "  </thead>\n",
              "  <tbody>\n",
              "    <tr>\n",
              "      <th>0</th>\n",
              "      <td>SARCASM</td>\n",
              "      <td>@USER @USER @USER I don't get this .. obviousl...</td>\n",
              "      <td>[A minor child deserves privacy and should be ...</td>\n",
              "    </tr>\n",
              "    <tr>\n",
              "      <th>1</th>\n",
              "      <td>SARCASM</td>\n",
              "      <td>@USER @USER trying to protest about . Talking ...</td>\n",
              "      <td>[@USER @USER Why is he a loser ? He's just a P...</td>\n",
              "    </tr>\n",
              "    <tr>\n",
              "      <th>2</th>\n",
              "      <td>SARCASM</td>\n",
              "      <td>@USER @USER @USER He makes an insane about of ...</td>\n",
              "      <td>[Donald J . Trump is guilty as charged . The e...</td>\n",
              "    </tr>\n",
              "    <tr>\n",
              "      <th>3</th>\n",
              "      <td>SARCASM</td>\n",
              "      <td>@USER @USER Meanwhile Trump won't even release...</td>\n",
              "      <td>[Jamie Raskin tanked Doug Collins . Collins lo...</td>\n",
              "    </tr>\n",
              "    <tr>\n",
              "      <th>4</th>\n",
              "      <td>SARCASM</td>\n",
              "      <td>@USER @USER Pretty Sure the Anti-Lincoln Crowd...</td>\n",
              "      <td>[Man ... y ’ all gone “ both sides ” the apoca...</td>\n",
              "    </tr>\n",
              "  </tbody>\n",
              "</table>\n",
              "</div>"
            ],
            "text/plain": [
              "     label  ...                                            context\n",
              "0  SARCASM  ...  [A minor child deserves privacy and should be ...\n",
              "1  SARCASM  ...  [@USER @USER Why is he a loser ? He's just a P...\n",
              "2  SARCASM  ...  [Donald J . Trump is guilty as charged . The e...\n",
              "3  SARCASM  ...  [Jamie Raskin tanked Doug Collins . Collins lo...\n",
              "4  SARCASM  ...  [Man ... y ’ all gone “ both sides ” the apoca...\n",
              "\n",
              "[5 rows x 3 columns]"
            ]
          },
          "metadata": {
            "tags": []
          },
          "execution_count": 8
        }
      ]
    },
    {
      "cell_type": "code",
      "metadata": {
        "colab": {
          "base_uri": "https://localhost:8080/"
        },
        "id": "r5vtHY2MigRq",
        "outputId": "f1bcd40e-5465-4674-ab76-e638ea08bca0"
      },
      "source": [
        "df.info()"
      ],
      "execution_count": 12,
      "outputs": [
        {
          "output_type": "stream",
          "text": [
            "<class 'pandas.core.frame.DataFrame'>\n",
            "RangeIndex: 5000 entries, 0 to 4999\n",
            "Data columns (total 3 columns):\n",
            " #   Column    Non-Null Count  Dtype \n",
            "---  ------    --------------  ----- \n",
            " 0   label     5000 non-null   object\n",
            " 1   response  5000 non-null   object\n",
            " 2   context   5000 non-null   object\n",
            "dtypes: object(3)\n",
            "memory usage: 117.3+ KB\n"
          ],
          "name": "stdout"
        }
      ]
    },
    {
      "cell_type": "code",
      "metadata": {
        "colab": {
          "base_uri": "https://localhost:8080/"
        },
        "id": "bdyLnXZAiuq1",
        "outputId": "108e6586-7a3e-47b6-b41d-143471fb3662"
      },
      "source": [
        "df['label'].value_counts()"
      ],
      "execution_count": 14,
      "outputs": [
        {
          "output_type": "execute_result",
          "data": {
            "text/plain": [
              "NOT_SARCASM    2500\n",
              "SARCASM        2500\n",
              "Name: label, dtype: int64"
            ]
          },
          "metadata": {
            "tags": []
          },
          "execution_count": 14
        }
      ]
    },
    {
      "cell_type": "code",
      "metadata": {
        "colab": {
          "base_uri": "https://localhost:8080/",
          "height": 297
        },
        "id": "GZpl7bQqjxAn",
        "outputId": "1900dbd4-135f-431a-b3e4-405cf2a96041"
      },
      "source": [
        "sns.set_style('whitegrid')\n",
        "sns.countplot(x='label',data=df)"
      ],
      "execution_count": 16,
      "outputs": [
        {
          "output_type": "execute_result",
          "data": {
            "text/plain": [
              "<matplotlib.axes._subplots.AxesSubplot at 0x7fdafba3f5d0>"
            ]
          },
          "metadata": {
            "tags": []
          },
          "execution_count": 16
        },
        {
          "output_type": "display_data",
          "data": {
            "image/png": "[encoded data removed]",
            "text/plain": [
              "<Figure size 432x288 with 1 Axes>"
            ]
          },
          "metadata": {
            "tags": []
          }
        }
      ]
    },
    {
      "cell_type": "code",
      "metadata": {
        "colab": {
          "base_uri": "https://localhost:8080/",
          "height": 204
        },
        "id": "wqZpHprSlm_U",
        "outputId": "5c2857d2-230e-4d7a-af44-b23aa9610dff"
      },
      "source": [
        "df['response']=df['response'].str.replace('@USER', \"\") \n",
        "df['response']=df['response'].str.replace('\\d+', '')\n",
        "df['response']=df['response'].str.lower()\n",
        "df['response']=df['response'].str.replace('[^\\w\\s]','')\n",
        "\n",
        "df['context']=df['context'].apply(lambda x: ','.join(map(str, x)))\n",
        "df['context']=df['context'].str.replace('@USER', \"\") \n",
        "df['context']=df['context'].str.lower()\n",
        "df['context']=df['context'].str.replace('[^\\w\\s]','')\n",
        "df['context']=df['context'].str.replace('\\d+', '')\n",
        "\n",
        "df.head()"
      ],
      "execution_count": 19,
      "outputs": [
        {
          "output_type": "execute_result",
          "data": {
            "text/html": [
              "<div>\n",
              "<style scoped>\n",
              "    .dataframe tbody tr th:only-of-type {\n",
              "        vertical-align: middle;\n",
              "    }\n",
              "\n",
              "    .dataframe tbody tr th {\n",
              "        vertical-align: top;\n",
              "    }\n",
              "\n",
              "    .dataframe thead th {\n",
              "        text-align: right;\n",
              "    }\n",
              "</style>\n",
              "<table border=\"1\" class=\"dataframe\">\n",
              "  <thead>\n",
              "    <tr style=\"text-align: right;\">\n",
              "      <th></th>\n",
              "      <th>label</th>\n",
              "      <th>response</th>\n",
              "      <th>context</th>\n",
              "    </tr>\n",
              "  </thead>\n",
              "  <tbody>\n",
              "    <tr>\n",
              "      <th>0</th>\n",
              "      <td>SARCASM</td>\n",
              "      <td>i dont get this  obviously you do care or y...</td>\n",
              "      <td>a minor child deserves privacy and should be k...</td>\n",
              "    </tr>\n",
              "    <tr>\n",
              "      <th>1</th>\n",
              "      <td>SARCASM</td>\n",
              "      <td>trying to protest about  talking about him a...</td>\n",
              "      <td>why is he a loser  hes just a press secretar...</td>\n",
              "    </tr>\n",
              "    <tr>\n",
              "      <th>2</th>\n",
              "      <td>SARCASM</td>\n",
              "      <td>he makes an insane about of money from the ...</td>\n",
              "      <td>donald j  trump is guilty as charged  the evid...</td>\n",
              "    </tr>\n",
              "    <tr>\n",
              "      <th>3</th>\n",
              "      <td>SARCASM</td>\n",
              "      <td>meanwhile trump wont even release his sat sc...</td>\n",
              "      <td>jamie raskin tanked doug collins  collins look...</td>\n",
              "    </tr>\n",
              "    <tr>\n",
              "      <th>4</th>\n",
              "      <td>SARCASM</td>\n",
              "      <td>pretty sure the antilincoln crowd claimed th...</td>\n",
              "      <td>man  y  all gone  both sides  the apocalypse o...</td>\n",
              "    </tr>\n",
              "  </tbody>\n",
              "</table>\n",
              "</div>"
            ],
            "text/plain": [
              "     label  ...                                            context\n",
              "0  SARCASM  ...  a minor child deserves privacy and should be k...\n",
              "1  SARCASM  ...    why is he a loser  hes just a press secretar...\n",
              "2  SARCASM  ...  donald j  trump is guilty as charged  the evid...\n",
              "3  SARCASM  ...  jamie raskin tanked doug collins  collins look...\n",
              "4  SARCASM  ...  man  y  all gone  both sides  the apocalypse o...\n",
              "\n",
              "[5 rows x 3 columns]"
            ]
          },
          "metadata": {
            "tags": []
          },
          "execution_count": 19
        }
      ]
    },
    {
      "cell_type": "code",
      "metadata": {
        "id": "WhyKRlcIlc4k"
      },
      "source": [
        "X=df['context'].values\n",
        "y=df['label'].values"
      ],
      "execution_count": 49,
      "outputs": []
    },
    {
      "cell_type": "code",
      "metadata": {
        "colab": {
          "base_uri": "https://localhost:8080/"
        },
        "id": "ZigEqYz8oe7I",
        "outputId": "d64a9f3a-ef28-4086-aac8-62c945f2b546"
      },
      "source": [
        "y = pd.get_dummies(twitter_train['label'])\n",
        "y = y.iloc[:,1].values\n",
        "y"
      ],
      "execution_count": 50,
      "outputs": [
        {
          "output_type": "execute_result",
          "data": {
            "text/plain": [
              "array([1, 1, 1, ..., 0, 0, 0], dtype=uint8)"
            ]
          },
          "metadata": {
            "tags": []
          },
          "execution_count": 50
        }
      ]
    },
    {
      "cell_type": "code",
      "metadata": {
        "id": "3TSttLBAmf9e"
      },
      "source": [
        "from sklearn.model_selection import train_test_split\n",
        "X_train, X_test, y_train, y_test = train_test_split(X, y, test_size=0.2, random_state=0)"
      ],
      "execution_count": 51,
      "outputs": []
    },
    {
      "cell_type": "code",
      "metadata": {
        "id": "8mk5E46vj62F"
      },
      "source": [
        "vocab_size=10000\n",
        "embedding_dim=16\n",
        "max_length=32\n",
        "trunc_type='post'\n",
        "padding_type='post'\n",
        "oov_tok='<oov>'"
      ],
      "execution_count": 52,
      "outputs": []
    },
    {
      "cell_type": "code",
      "metadata": {
        "id": "mtjLq5klmoqt"
      },
      "source": [
        "from tensorflow.keras.preprocessing.text import Tokenizer\n",
        "from tensorflow.keras.preprocessing.sequence import pad_sequences\n",
        "\n",
        "tokenizer= Tokenizer(num_words=vocab_size, oov_token=oov_tok)\n",
        "tokenizer.fit_on_texts(X_train)\n",
        "\n",
        "word_index=tokenizer.word_index\n",
        "\n",
        "training_sequences=tokenizer.texts_to_sequences(X_train)\n",
        "training_padded=pad_sequences(training_sequences, maxlen=max_length, padding=padding_type, truncating=trunc_type)\n",
        "\n",
        "testing_sequences=tokenizer.texts_to_sequences(X_test)\n",
        "testing_padded=pad_sequences(testing_sequences, maxlen=max_length, padding=padding_type, truncating=trunc_type)"
      ],
      "execution_count": 53,
      "outputs": []
    },
    {
      "cell_type": "code",
      "metadata": {
        "colab": {
          "base_uri": "https://localhost:8080/"
        },
        "id": "79-S9XjWmsAJ",
        "outputId": "751fe3d5-cae6-427e-f9d3-49c68eed8c74"
      },
      "source": [
        "training_padded"
      ],
      "execution_count": 54,
      "outputs": [
        {
          "output_type": "execute_result",
          "data": {
            "text/plain": [
              "array([[5069, 1315, 1124, ...,   26,    5, 2233],\n",
              "       [  17,    9,    2, ...,    0,    0,    0],\n",
              "       [9035,    1,  388, ...,   74,   15,  341],\n",
              "       ...,\n",
              "       [  57,    3,    1, ...,    5,    8,   54],\n",
              "       [  25,  510,    9, ...,    0,    0,    0],\n",
              "       [ 307,  682, 1347, ...,  101, 1123, 2623]], dtype=int32)"
            ]
          },
          "metadata": {
            "tags": []
          },
          "execution_count": 54
        }
      ]
    },
    {
      "cell_type": "code",
      "metadata": {
        "colab": {
          "base_uri": "https://localhost:8080/"
        },
        "id": "VUrAgZlim2Jd",
        "outputId": "43b59922-6c66-4bb6-8936-8a56aed4f335"
      },
      "source": [
        "print(training_padded.shape)\n",
        "print(testing_padded.shape)"
      ],
      "execution_count": 55,
      "outputs": [
        {
          "output_type": "stream",
          "text": [
            "(4000, 32)\n",
            "(1000, 32)\n"
          ],
          "name": "stdout"
        }
      ]
    },
    {
      "cell_type": "code",
      "metadata": {
        "id": "5uJUX5g7ngFQ"
      },
      "source": [
        "import tensorflow as tf\n",
        "from tensorflow.keras.models import Sequential\n",
        "from tensorflow.keras.layers import Dense, Dropout, Embedding, Flatten"
      ],
      "execution_count": 68,
      "outputs": []
    },
    {
      "cell_type": "code",
      "metadata": {
        "colab": {
          "base_uri": "https://localhost:8080/"
        },
        "id": "TVZTGaG2n2S5",
        "outputId": "b4e4e844-49c1-459d-ee0c-2bd4c9e591c1"
      },
      "source": [
        "model = Sequential()\n",
        "model.add(Embedding(vocab_size, embedding_dim, input_length=max_length))\n",
        "model.add(Flatten())\n",
        "\n",
        "model.add(Dense(units=32,activation='relu'))\n",
        "model.add(Dropout(0.5))\n",
        "\n",
        "model.add(Dense(units=10,activation='relu'))\n",
        "model.add(Dropout(0.5))\n",
        "\n",
        "model.add(Dense(units=1,activation='sigmoid'))\n",
        "\n",
        "opt = tf.keras.optimizers.Adam(learning_rate=0.0001)\n",
        "model.compile(loss='binary_crossentropy', optimizer=opt, metrics=['accuracy'])\n",
        "model.summary()"
      ],
      "execution_count": 69,
      "outputs": [
        {
          "output_type": "stream",
          "text": [
            "Model: \"sequential_3\"\n",
            "_________________________________________________________________\n",
            "Layer (type)                 Output Shape              Param #   \n",
            "=================================================================\n",
            "embedding_3 (Embedding)      (None, 32, 16)            160000    \n",
            "_________________________________________________________________\n",
            "flatten_3 (Flatten)          (None, 512)               0         \n",
            "_________________________________________________________________\n",
            "dense_9 (Dense)              (None, 32)                16416     \n",
            "_________________________________________________________________\n",
            "dropout_6 (Dropout)          (None, 32)                0         \n",
            "_________________________________________________________________\n",
            "dense_10 (Dense)             (None, 10)                330       \n",
            "_________________________________________________________________\n",
            "dropout_7 (Dropout)          (None, 10)                0         \n",
            "_________________________________________________________________\n",
            "dense_11 (Dense)             (None, 1)                 11        \n",
            "=================================================================\n",
            "Total params: 176,757\n",
            "Trainable params: 176,757\n",
            "Non-trainable params: 0\n",
            "_________________________________________________________________\n"
          ],
          "name": "stdout"
        }
      ]
    },
    {
      "cell_type": "code",
      "metadata": {
        "colab": {
          "base_uri": "https://localhost:8080/"
        },
        "id": "BMnOVdcGq0l1",
        "outputId": "7bb455c1-58bc-4ad0-9c56-8bd0507d5310"
      },
      "source": [
        "model.fit(x=training_padded, y=y_train, batch_size=256, epochs=100, validation_data=(testing_padded, y_test), verbose=1)"
      ],
      "execution_count": 70,
      "outputs": [
        {
          "output_type": "stream",
          "text": [
            "Epoch 1/100\n",
            "16/16 [==============================] - 1s 16ms/step - loss: 0.6941 - accuracy: 0.5030 - val_loss: 0.6938 - val_accuracy: 0.4830\n",
            "Epoch 2/100\n",
            "16/16 [==============================] - 0s 8ms/step - loss: 0.6933 - accuracy: 0.5035 - val_loss: 0.6937 - val_accuracy: 0.4860\n",
            "Epoch 3/100\n",
            "16/16 [==============================] - 0s 8ms/step - loss: 0.6930 - accuracy: 0.5038 - val_loss: 0.6936 - val_accuracy: 0.4860\n",
            "Epoch 4/100\n",
            "16/16 [==============================] - 0s 9ms/step - loss: 0.6923 - accuracy: 0.5207 - val_loss: 0.6934 - val_accuracy: 0.4900\n",
            "Epoch 5/100\n",
            "16/16 [==============================] - 0s 7ms/step - loss: 0.6916 - accuracy: 0.5170 - val_loss: 0.6934 - val_accuracy: 0.4900\n",
            "Epoch 6/100\n",
            "16/16 [==============================] - 0s 8ms/step - loss: 0.6913 - accuracy: 0.5257 - val_loss: 0.6932 - val_accuracy: 0.4910\n",
            "Epoch 7/100\n",
            "16/16 [==============================] - 0s 8ms/step - loss: 0.6912 - accuracy: 0.5297 - val_loss: 0.6931 - val_accuracy: 0.4910\n",
            "Epoch 8/100\n",
            "16/16 [==============================] - 0s 8ms/step - loss: 0.6898 - accuracy: 0.5370 - val_loss: 0.6930 - val_accuracy: 0.4960\n",
            "Epoch 9/100\n",
            "16/16 [==============================] - 0s 7ms/step - loss: 0.6909 - accuracy: 0.5257 - val_loss: 0.6930 - val_accuracy: 0.4940\n",
            "Epoch 10/100\n",
            "16/16 [==============================] - 0s 7ms/step - loss: 0.6900 - accuracy: 0.5328 - val_loss: 0.6929 - val_accuracy: 0.4940\n",
            "Epoch 11/100\n",
            "16/16 [==============================] - 0s 7ms/step - loss: 0.6897 - accuracy: 0.5350 - val_loss: 0.6928 - val_accuracy: 0.4990\n",
            "Epoch 12/100\n",
            "16/16 [==============================] - 0s 8ms/step - loss: 0.6898 - accuracy: 0.5320 - val_loss: 0.6927 - val_accuracy: 0.5010\n",
            "Epoch 13/100\n",
            "16/16 [==============================] - 0s 7ms/step - loss: 0.6885 - accuracy: 0.5533 - val_loss: 0.6925 - val_accuracy: 0.5050\n",
            "Epoch 14/100\n",
            "16/16 [==============================] - 0s 8ms/step - loss: 0.6890 - accuracy: 0.5350 - val_loss: 0.6924 - val_accuracy: 0.5070\n",
            "Epoch 15/100\n",
            "16/16 [==============================] - 0s 8ms/step - loss: 0.6878 - accuracy: 0.5475 - val_loss: 0.6923 - val_accuracy: 0.5110\n",
            "Epoch 16/100\n",
            "16/16 [==============================] - 0s 7ms/step - loss: 0.6871 - accuracy: 0.5445 - val_loss: 0.6922 - val_accuracy: 0.5110\n",
            "Epoch 17/100\n",
            "16/16 [==============================] - 0s 7ms/step - loss: 0.6863 - accuracy: 0.5567 - val_loss: 0.6920 - val_accuracy: 0.5160\n",
            "Epoch 18/100\n",
            "16/16 [==============================] - 0s 9ms/step - loss: 0.6857 - accuracy: 0.5623 - val_loss: 0.6919 - val_accuracy: 0.5180\n",
            "Epoch 19/100\n",
            "16/16 [==============================] - 0s 7ms/step - loss: 0.6862 - accuracy: 0.5548 - val_loss: 0.6918 - val_accuracy: 0.5200\n",
            "Epoch 20/100\n",
            "16/16 [==============================] - 0s 8ms/step - loss: 0.6853 - accuracy: 0.5630 - val_loss: 0.6916 - val_accuracy: 0.5260\n",
            "Epoch 21/100\n",
            "16/16 [==============================] - 0s 8ms/step - loss: 0.6843 - accuracy: 0.5667 - val_loss: 0.6915 - val_accuracy: 0.5240\n",
            "Epoch 22/100\n",
            "16/16 [==============================] - 0s 9ms/step - loss: 0.6830 - accuracy: 0.5838 - val_loss: 0.6913 - val_accuracy: 0.5310\n",
            "Epoch 23/100\n",
            "16/16 [==============================] - 0s 10ms/step - loss: 0.6824 - accuracy: 0.5805 - val_loss: 0.6911 - val_accuracy: 0.5330\n",
            "Epoch 24/100\n",
            "16/16 [==============================] - 0s 7ms/step - loss: 0.6825 - accuracy: 0.5738 - val_loss: 0.6910 - val_accuracy: 0.5390\n",
            "Epoch 25/100\n",
            "16/16 [==============================] - 0s 8ms/step - loss: 0.6799 - accuracy: 0.5975 - val_loss: 0.6907 - val_accuracy: 0.5410\n",
            "Epoch 26/100\n",
            "16/16 [==============================] - 0s 8ms/step - loss: 0.6802 - accuracy: 0.5925 - val_loss: 0.6905 - val_accuracy: 0.5420\n",
            "Epoch 27/100\n",
            "16/16 [==============================] - 0s 8ms/step - loss: 0.6793 - accuracy: 0.5985 - val_loss: 0.6902 - val_accuracy: 0.5450\n",
            "Epoch 28/100\n",
            "16/16 [==============================] - 0s 7ms/step - loss: 0.6778 - accuracy: 0.6152 - val_loss: 0.6900 - val_accuracy: 0.5460\n",
            "Epoch 29/100\n",
            "16/16 [==============================] - 0s 7ms/step - loss: 0.6767 - accuracy: 0.5960 - val_loss: 0.6897 - val_accuracy: 0.5530\n",
            "Epoch 30/100\n",
            "16/16 [==============================] - 0s 8ms/step - loss: 0.6746 - accuracy: 0.6130 - val_loss: 0.6893 - val_accuracy: 0.5560\n",
            "Epoch 31/100\n",
            "16/16 [==============================] - 0s 7ms/step - loss: 0.6736 - accuracy: 0.6325 - val_loss: 0.6889 - val_accuracy: 0.5600\n",
            "Epoch 32/100\n",
            "16/16 [==============================] - 0s 8ms/step - loss: 0.6728 - accuracy: 0.6155 - val_loss: 0.6885 - val_accuracy: 0.5690\n",
            "Epoch 33/100\n",
            "16/16 [==============================] - 0s 7ms/step - loss: 0.6728 - accuracy: 0.6180 - val_loss: 0.6880 - val_accuracy: 0.5780\n",
            "Epoch 34/100\n",
            "16/16 [==============================] - 0s 7ms/step - loss: 0.6691 - accuracy: 0.6413 - val_loss: 0.6875 - val_accuracy: 0.5800\n",
            "Epoch 35/100\n",
            "16/16 [==============================] - 0s 7ms/step - loss: 0.6672 - accuracy: 0.6382 - val_loss: 0.6871 - val_accuracy: 0.5810\n",
            "Epoch 36/100\n",
            "16/16 [==============================] - 0s 8ms/step - loss: 0.6649 - accuracy: 0.6447 - val_loss: 0.6866 - val_accuracy: 0.5840\n",
            "Epoch 37/100\n",
            "16/16 [==============================] - 0s 8ms/step - loss: 0.6633 - accuracy: 0.6633 - val_loss: 0.6860 - val_accuracy: 0.5850\n",
            "Epoch 38/100\n",
            "16/16 [==============================] - 0s 7ms/step - loss: 0.6605 - accuracy: 0.6643 - val_loss: 0.6854 - val_accuracy: 0.5860\n",
            "Epoch 39/100\n",
            "16/16 [==============================] - 0s 8ms/step - loss: 0.6569 - accuracy: 0.6710 - val_loss: 0.6847 - val_accuracy: 0.5900\n",
            "Epoch 40/100\n",
            "16/16 [==============================] - 0s 8ms/step - loss: 0.6550 - accuracy: 0.6752 - val_loss: 0.6841 - val_accuracy: 0.5900\n",
            "Epoch 41/100\n",
            "16/16 [==============================] - 0s 8ms/step - loss: 0.6510 - accuracy: 0.6892 - val_loss: 0.6833 - val_accuracy: 0.5930\n",
            "Epoch 42/100\n",
            "16/16 [==============================] - 0s 7ms/step - loss: 0.6492 - accuracy: 0.6917 - val_loss: 0.6825 - val_accuracy: 0.5940\n",
            "Epoch 43/100\n",
            "16/16 [==============================] - 0s 8ms/step - loss: 0.6456 - accuracy: 0.6933 - val_loss: 0.6815 - val_accuracy: 0.6000\n",
            "Epoch 44/100\n",
            "16/16 [==============================] - 0s 8ms/step - loss: 0.6445 - accuracy: 0.6842 - val_loss: 0.6805 - val_accuracy: 0.6010\n",
            "Epoch 45/100\n",
            "16/16 [==============================] - 0s 8ms/step - loss: 0.6379 - accuracy: 0.7155 - val_loss: 0.6795 - val_accuracy: 0.6060\n",
            "Epoch 46/100\n",
            "16/16 [==============================] - 0s 8ms/step - loss: 0.6336 - accuracy: 0.7157 - val_loss: 0.6783 - val_accuracy: 0.6090\n",
            "Epoch 47/100\n",
            "16/16 [==============================] - 0s 8ms/step - loss: 0.6299 - accuracy: 0.7140 - val_loss: 0.6770 - val_accuracy: 0.6130\n",
            "Epoch 48/100\n",
            "16/16 [==============================] - 0s 8ms/step - loss: 0.6260 - accuracy: 0.7212 - val_loss: 0.6756 - val_accuracy: 0.6130\n",
            "Epoch 49/100\n",
            "16/16 [==============================] - 0s 7ms/step - loss: 0.6173 - accuracy: 0.7358 - val_loss: 0.6742 - val_accuracy: 0.6200\n",
            "Epoch 50/100\n",
            "16/16 [==============================] - 0s 7ms/step - loss: 0.6125 - accuracy: 0.7400 - val_loss: 0.6726 - val_accuracy: 0.6240\n",
            "Epoch 51/100\n",
            "16/16 [==============================] - 0s 8ms/step - loss: 0.6073 - accuracy: 0.7523 - val_loss: 0.6709 - val_accuracy: 0.6250\n",
            "Epoch 52/100\n",
            "16/16 [==============================] - 0s 7ms/step - loss: 0.6015 - accuracy: 0.7613 - val_loss: 0.6691 - val_accuracy: 0.6280\n",
            "Epoch 53/100\n",
            "16/16 [==============================] - 0s 7ms/step - loss: 0.5920 - accuracy: 0.7667 - val_loss: 0.6671 - val_accuracy: 0.6280\n",
            "Epoch 54/100\n",
            "16/16 [==============================] - 0s 7ms/step - loss: 0.5855 - accuracy: 0.7742 - val_loss: 0.6652 - val_accuracy: 0.6320\n",
            "Epoch 55/100\n",
            "16/16 [==============================] - 0s 8ms/step - loss: 0.5752 - accuracy: 0.7912 - val_loss: 0.6631 - val_accuracy: 0.6360\n",
            "Epoch 56/100\n",
            "16/16 [==============================] - 0s 8ms/step - loss: 0.5674 - accuracy: 0.7990 - val_loss: 0.6606 - val_accuracy: 0.6400\n",
            "Epoch 57/100\n",
            "16/16 [==============================] - 0s 8ms/step - loss: 0.5606 - accuracy: 0.8012 - val_loss: 0.6583 - val_accuracy: 0.6380\n",
            "Epoch 58/100\n",
            "16/16 [==============================] - 0s 9ms/step - loss: 0.5495 - accuracy: 0.8138 - val_loss: 0.6559 - val_accuracy: 0.6400\n",
            "Epoch 59/100\n",
            "16/16 [==============================] - 0s 8ms/step - loss: 0.5368 - accuracy: 0.8285 - val_loss: 0.6533 - val_accuracy: 0.6440\n",
            "Epoch 60/100\n",
            "16/16 [==============================] - 0s 9ms/step - loss: 0.5287 - accuracy: 0.8232 - val_loss: 0.6506 - val_accuracy: 0.6440\n",
            "Epoch 61/100\n",
            "16/16 [==============================] - 0s 7ms/step - loss: 0.5126 - accuracy: 0.8355 - val_loss: 0.6479 - val_accuracy: 0.6440\n",
            "Epoch 62/100\n",
            "16/16 [==============================] - 0s 8ms/step - loss: 0.5049 - accuracy: 0.8397 - val_loss: 0.6453 - val_accuracy: 0.6420\n",
            "Epoch 63/100\n",
            "16/16 [==============================] - 0s 7ms/step - loss: 0.4921 - accuracy: 0.8493 - val_loss: 0.6426 - val_accuracy: 0.6440\n",
            "Epoch 64/100\n",
            "16/16 [==============================] - 0s 7ms/step - loss: 0.4834 - accuracy: 0.8593 - val_loss: 0.6399 - val_accuracy: 0.6490\n",
            "Epoch 65/100\n",
            "16/16 [==============================] - 0s 7ms/step - loss: 0.4718 - accuracy: 0.8660 - val_loss: 0.6374 - val_accuracy: 0.6480\n",
            "Epoch 66/100\n",
            "16/16 [==============================] - 0s 7ms/step - loss: 0.4591 - accuracy: 0.8715 - val_loss: 0.6352 - val_accuracy: 0.6460\n",
            "Epoch 67/100\n",
            "16/16 [==============================] - 0s 8ms/step - loss: 0.4461 - accuracy: 0.8820 - val_loss: 0.6326 - val_accuracy: 0.6480\n",
            "Epoch 68/100\n",
            "16/16 [==============================] - 0s 8ms/step - loss: 0.4358 - accuracy: 0.8760 - val_loss: 0.6302 - val_accuracy: 0.6460\n",
            "Epoch 69/100\n",
            "16/16 [==============================] - 0s 7ms/step - loss: 0.4244 - accuracy: 0.8888 - val_loss: 0.6274 - val_accuracy: 0.6430\n",
            "Epoch 70/100\n",
            "16/16 [==============================] - 0s 8ms/step - loss: 0.4128 - accuracy: 0.8945 - val_loss: 0.6251 - val_accuracy: 0.6470\n",
            "Epoch 71/100\n",
            "16/16 [==============================] - 0s 8ms/step - loss: 0.3994 - accuracy: 0.8970 - val_loss: 0.6231 - val_accuracy: 0.6500\n",
            "Epoch 72/100\n",
            "16/16 [==============================] - 0s 7ms/step - loss: 0.3847 - accuracy: 0.9090 - val_loss: 0.6212 - val_accuracy: 0.6520\n",
            "Epoch 73/100\n",
            "16/16 [==============================] - 0s 7ms/step - loss: 0.3730 - accuracy: 0.9093 - val_loss: 0.6194 - val_accuracy: 0.6520\n",
            "Epoch 74/100\n",
            "16/16 [==============================] - 0s 8ms/step - loss: 0.3604 - accuracy: 0.9187 - val_loss: 0.6186 - val_accuracy: 0.6530\n",
            "Epoch 75/100\n",
            "16/16 [==============================] - 0s 9ms/step - loss: 0.3594 - accuracy: 0.9175 - val_loss: 0.6169 - val_accuracy: 0.6570\n",
            "Epoch 76/100\n",
            "16/16 [==============================] - 0s 7ms/step - loss: 0.3381 - accuracy: 0.9237 - val_loss: 0.6156 - val_accuracy: 0.6570\n",
            "Epoch 77/100\n",
            "16/16 [==============================] - 0s 8ms/step - loss: 0.3337 - accuracy: 0.9270 - val_loss: 0.6147 - val_accuracy: 0.6560\n",
            "Epoch 78/100\n",
            "16/16 [==============================] - 0s 8ms/step - loss: 0.3250 - accuracy: 0.9295 - val_loss: 0.6135 - val_accuracy: 0.6580\n",
            "Epoch 79/100\n",
            "16/16 [==============================] - 0s 7ms/step - loss: 0.3136 - accuracy: 0.9355 - val_loss: 0.6128 - val_accuracy: 0.6600\n",
            "Epoch 80/100\n",
            "16/16 [==============================] - 0s 8ms/step - loss: 0.3017 - accuracy: 0.9425 - val_loss: 0.6129 - val_accuracy: 0.6600\n",
            "Epoch 81/100\n",
            "16/16 [==============================] - 0s 9ms/step - loss: 0.2950 - accuracy: 0.9408 - val_loss: 0.6129 - val_accuracy: 0.6620\n",
            "Epoch 82/100\n",
            "16/16 [==============================] - 0s 7ms/step - loss: 0.2892 - accuracy: 0.9420 - val_loss: 0.6128 - val_accuracy: 0.6620\n",
            "Epoch 83/100\n",
            "16/16 [==============================] - 0s 8ms/step - loss: 0.2793 - accuracy: 0.9445 - val_loss: 0.6122 - val_accuracy: 0.6600\n",
            "Epoch 84/100\n",
            "16/16 [==============================] - 0s 7ms/step - loss: 0.2666 - accuracy: 0.9452 - val_loss: 0.6122 - val_accuracy: 0.6590\n",
            "Epoch 85/100\n",
            "16/16 [==============================] - 0s 7ms/step - loss: 0.2579 - accuracy: 0.9548 - val_loss: 0.6125 - val_accuracy: 0.6580\n",
            "Epoch 86/100\n",
            "16/16 [==============================] - 0s 8ms/step - loss: 0.2514 - accuracy: 0.9590 - val_loss: 0.6130 - val_accuracy: 0.6630\n",
            "Epoch 87/100\n",
            "16/16 [==============================] - 0s 8ms/step - loss: 0.2428 - accuracy: 0.9575 - val_loss: 0.6134 - val_accuracy: 0.6610\n",
            "Epoch 88/100\n",
            "16/16 [==============================] - 0s 7ms/step - loss: 0.2368 - accuracy: 0.9603 - val_loss: 0.6151 - val_accuracy: 0.6630\n",
            "Epoch 89/100\n",
            "16/16 [==============================] - 0s 8ms/step - loss: 0.2333 - accuracy: 0.9560 - val_loss: 0.6161 - val_accuracy: 0.6610\n",
            "Epoch 90/100\n",
            "16/16 [==============================] - 0s 8ms/step - loss: 0.2275 - accuracy: 0.9570 - val_loss: 0.6174 - val_accuracy: 0.6670\n",
            "Epoch 91/100\n",
            "16/16 [==============================] - 0s 7ms/step - loss: 0.2194 - accuracy: 0.9628 - val_loss: 0.6188 - val_accuracy: 0.6670\n",
            "Epoch 92/100\n",
            "16/16 [==============================] - 0s 7ms/step - loss: 0.2159 - accuracy: 0.9657 - val_loss: 0.6189 - val_accuracy: 0.6700\n",
            "Epoch 93/100\n",
            "16/16 [==============================] - 0s 8ms/step - loss: 0.2088 - accuracy: 0.9635 - val_loss: 0.6199 - val_accuracy: 0.6690\n",
            "Epoch 94/100\n",
            "16/16 [==============================] - 0s 7ms/step - loss: 0.2021 - accuracy: 0.9645 - val_loss: 0.6226 - val_accuracy: 0.6710\n",
            "Epoch 95/100\n",
            "16/16 [==============================] - 0s 7ms/step - loss: 0.2010 - accuracy: 0.9630 - val_loss: 0.6247 - val_accuracy: 0.6690\n",
            "Epoch 96/100\n",
            "16/16 [==============================] - 0s 7ms/step - loss: 0.1864 - accuracy: 0.9728 - val_loss: 0.6276 - val_accuracy: 0.6700\n",
            "Epoch 97/100\n",
            "16/16 [==============================] - 0s 7ms/step - loss: 0.1836 - accuracy: 0.9682 - val_loss: 0.6297 - val_accuracy: 0.6700\n",
            "Epoch 98/100\n",
            "16/16 [==============================] - 0s 7ms/step - loss: 0.1774 - accuracy: 0.9675 - val_loss: 0.6319 - val_accuracy: 0.6710\n",
            "Epoch 99/100\n",
            "16/16 [==============================] - 0s 8ms/step - loss: 0.1724 - accuracy: 0.9743 - val_loss: 0.6348 - val_accuracy: 0.6710\n",
            "Epoch 100/100\n",
            "16/16 [==============================] - 0s 9ms/step - loss: 0.1710 - accuracy: 0.9638 - val_loss: 0.6368 - val_accuracy: 0.6700\n"
          ],
          "name": "stdout"
        },
        {
          "output_type": "execute_result",
          "data": {
            "text/plain": [
              "<tensorflow.python.keras.callbacks.History at 0x7fdab3f1c350>"
            ]
          },
          "metadata": {
            "tags": []
          },
          "execution_count": 70
        }
      ]
    },
    {
      "cell_type": "code",
      "metadata": {
        "colab": {
          "base_uri": "https://localhost:8080/",
          "height": 450
        },
        "id": "pPuxYm6nw78Z",
        "outputId": "37c7ba56-76a0-47ab-b233-bac58966cf77"
      },
      "source": [
        "df_m=pd.DataFrame(model.history.history)\n",
        "df_m['Epoch']=range(1,101)\n",
        "df_m.index=df_m['Epoch']\n",
        "df_m"
      ],
      "execution_count": 63,
      "outputs": [
        {
          "output_type": "execute_result",
          "data": {
            "text/html": [
              "<div>\n",
              "<style scoped>\n",
              "    .dataframe tbody tr th:only-of-type {\n",
              "        vertical-align: middle;\n",
              "    }\n",
              "\n",
              "    .dataframe tbody tr th {\n",
              "        vertical-align: top;\n",
              "    }\n",
              "\n",
              "    .dataframe thead th {\n",
              "        text-align: right;\n",
              "    }\n",
              "</style>\n",
              "<table border=\"1\" class=\"dataframe\">\n",
              "  <thead>\n",
              "    <tr style=\"text-align: right;\">\n",
              "      <th></th>\n",
              "      <th>loss</th>\n",
              "      <th>accuracy</th>\n",
              "      <th>val_loss</th>\n",
              "      <th>val_accuracy</th>\n",
              "      <th>Epoch</th>\n",
              "    </tr>\n",
              "    <tr>\n",
              "      <th>Epoch</th>\n",
              "      <th></th>\n",
              "      <th></th>\n",
              "      <th></th>\n",
              "      <th></th>\n",
              "      <th></th>\n",
              "    </tr>\n",
              "  </thead>\n",
              "  <tbody>\n",
              "    <tr>\n",
              "      <th>1</th>\n",
              "      <td>0.202881</td>\n",
              "      <td>0.96750</td>\n",
              "      <td>0.626614</td>\n",
              "      <td>0.687</td>\n",
              "      <td>1</td>\n",
              "    </tr>\n",
              "    <tr>\n",
              "      <th>2</th>\n",
              "      <td>0.195716</td>\n",
              "      <td>0.96725</td>\n",
              "      <td>0.627559</td>\n",
              "      <td>0.682</td>\n",
              "      <td>2</td>\n",
              "    </tr>\n",
              "    <tr>\n",
              "      <th>3</th>\n",
              "      <td>0.194661</td>\n",
              "      <td>0.96675</td>\n",
              "      <td>0.630116</td>\n",
              "      <td>0.684</td>\n",
              "      <td>3</td>\n",
              "    </tr>\n",
              "    <tr>\n",
              "      <th>4</th>\n",
              "      <td>0.186096</td>\n",
              "      <td>0.96850</td>\n",
              "      <td>0.632274</td>\n",
              "      <td>0.686</td>\n",
              "      <td>4</td>\n",
              "    </tr>\n",
              "    <tr>\n",
              "      <th>5</th>\n",
              "      <td>0.179056</td>\n",
              "      <td>0.97525</td>\n",
              "      <td>0.633663</td>\n",
              "      <td>0.685</td>\n",
              "      <td>5</td>\n",
              "    </tr>\n",
              "    <tr>\n",
              "      <th>...</th>\n",
              "      <td>...</td>\n",
              "      <td>...</td>\n",
              "      <td>...</td>\n",
              "      <td>...</td>\n",
              "      <td>...</td>\n",
              "    </tr>\n",
              "    <tr>\n",
              "      <th>96</th>\n",
              "      <td>0.053702</td>\n",
              "      <td>0.98350</td>\n",
              "      <td>0.935145</td>\n",
              "      <td>0.687</td>\n",
              "      <td>96</td>\n",
              "    </tr>\n",
              "    <tr>\n",
              "      <th>97</th>\n",
              "      <td>0.058396</td>\n",
              "      <td>0.98100</td>\n",
              "      <td>0.936009</td>\n",
              "      <td>0.685</td>\n",
              "      <td>97</td>\n",
              "    </tr>\n",
              "    <tr>\n",
              "      <th>98</th>\n",
              "      <td>0.061950</td>\n",
              "      <td>0.97950</td>\n",
              "      <td>0.939443</td>\n",
              "      <td>0.688</td>\n",
              "      <td>98</td>\n",
              "    </tr>\n",
              "    <tr>\n",
              "      <th>99</th>\n",
              "      <td>0.052564</td>\n",
              "      <td>0.98375</td>\n",
              "      <td>0.941246</td>\n",
              "      <td>0.686</td>\n",
              "      <td>99</td>\n",
              "    </tr>\n",
              "    <tr>\n",
              "      <th>100</th>\n",
              "      <td>0.058663</td>\n",
              "      <td>0.97950</td>\n",
              "      <td>0.943495</td>\n",
              "      <td>0.683</td>\n",
              "      <td>100</td>\n",
              "    </tr>\n",
              "  </tbody>\n",
              "</table>\n",
              "<p>100 rows × 5 columns</p>\n",
              "</div>"
            ],
            "text/plain": [
              "           loss  accuracy  val_loss  val_accuracy  Epoch\n",
              "Epoch                                                   \n",
              "1      0.202881   0.96750  0.626614         0.687      1\n",
              "2      0.195716   0.96725  0.627559         0.682      2\n",
              "3      0.194661   0.96675  0.630116         0.684      3\n",
              "4      0.186096   0.96850  0.632274         0.686      4\n",
              "5      0.179056   0.97525  0.633663         0.685      5\n",
              "...         ...       ...       ...           ...    ...\n",
              "96     0.053702   0.98350  0.935145         0.687     96\n",
              "97     0.058396   0.98100  0.936009         0.685     97\n",
              "98     0.061950   0.97950  0.939443         0.688     98\n",
              "99     0.052564   0.98375  0.941246         0.686     99\n",
              "100    0.058663   0.97950  0.943495         0.683    100\n",
              "\n",
              "[100 rows x 5 columns]"
            ]
          },
          "metadata": {
            "tags": []
          },
          "execution_count": 63
        }
      ]
    },
    {
      "cell_type": "code",
      "metadata": {
        "colab": {
          "base_uri": "https://localhost:8080/",
          "height": 295
        },
        "id": "U64Yw1gfzDgc",
        "outputId": "487c3af7-5b1e-45dd-ffe0-f3765282585c"
      },
      "source": [
        "#Loss Graph(Training and Validation)\n",
        "plt.plot(df_m['loss'])\n",
        "plt.plot(df_m['val_loss'])\n",
        "plt.title('model loss')\n",
        "plt.ylabel('loss')\n",
        "plt.xlabel('epoch')\n",
        "plt.legend(['train_loss', 'val_loss'])\n",
        "plt.show()"
      ],
      "execution_count": 71,
      "outputs": [
        {
          "output_type": "display_data",
          "data": {
            "image/png": "[encoded data removed]",
            "text/plain": [
              "<Figure size 432x288 with 1 Axes>"
            ]
          },
          "metadata": {
            "tags": []
          }
        }
      ]
    },
    {
      "cell_type": "code",
      "metadata": {
        "colab": {
          "base_uri": "https://localhost:8080/",
          "height": 295
        },
        "id": "oXIoYDOw0oEC",
        "outputId": "a487408f-8185-4e48-9578-0d6ad5808ef2"
      },
      "source": [
        "plt.plot(df_m['accuracy'])\n",
        "plt.plot(df_m['val_accuracy'])\n",
        "plt.title('model accuracy')\n",
        "plt.ylabel('accuracy')\n",
        "plt.xlabel('epoch')\n",
        "plt.legend(['train_acc', 'val_acc'])\n",
        "plt.show()"
      ],
      "execution_count": 72,
      "outputs": [
        {
          "output_type": "display_data",
          "data": {
            "image/png": "[encoded data removed]",
            "text/plain": [
              "<Figure size 432x288 with 1 Axes>"
            ]
          },
          "metadata": {
            "tags": []
          }
        }
      ]
    },
    {
      "cell_type": "code",
      "metadata": {
        "id": "v4SQrc6l1DJJ"
      },
      "source": [
        ""
      ],
      "execution_count": null,
      "outputs": []
    }
  ]
}