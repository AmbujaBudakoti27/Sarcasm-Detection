{
  "nbformat": 4,
  "nbformat_minor": 0,
  "metadata": {
    "colab": {
      "name": "Using_GloVe_LSTM_twitter_dataset.ipynb",
      "provenance": []
    },
    "kernelspec": {
      "name": "python3",
      "display_name": "Python 3"
    },
    "language_info": {
      "name": "python"
    }
  },
  "cells": [
    {
      "cell_type": "code",
      "metadata": {
        "id": "3CAvZH8liGpj"
      },
      "source": [
        "import pandas as pd\n",
        "import numpy as np\n",
        "import os\n",
        "import re\n",
        "import matplotlib.pyplot as plt\n",
        "import seaborn as sns\n",
        "%matplotlib inline"
      ],
      "execution_count": 82,
      "outputs": []
    },
    {
      "cell_type": "code",
      "metadata": {
        "id": "4s2Plv4lh3Gk"
      },
      "source": [
        "url = 'https://raw.githubusercontent.com/AmbujaBudakoti27/Sarcasm-Detection/main/sarcasm_detection_shared_task_twitter_training.jsonl'\n",
        "df=pd.read_json(url,lines=True)"
      ],
      "execution_count": null,
      "outputs": []
    },
    {
      "cell_type": "code",
      "metadata": {
        "colab": {
          "base_uri": "https://localhost:8080/",
          "height": 204
        },
        "id": "SbZsJtm-iPq0",
        "outputId": "5a7e2c3c-5f56-498b-cd51-c5fcf03acfd8"
      },
      "source": [
        "df.head()"
      ],
      "execution_count": null,
      "outputs": [
        {
          "output_type": "execute_result",
          "data": {
            "text/html": [
              "<div>\n",
              "<style scoped>\n",
              "    .dataframe tbody tr th:only-of-type {\n",
              "        vertical-align: middle;\n",
              "    }\n",
              "\n",
              "    .dataframe tbody tr th {\n",
              "        vertical-align: top;\n",
              "    }\n",
              "\n",
              "    .dataframe thead th {\n",
              "        text-align: right;\n",
              "    }\n",
              "</style>\n",
              "<table border=\"1\" class=\"dataframe\">\n",
              "  <thead>\n",
              "    <tr style=\"text-align: right;\">\n",
              "      <th></th>\n",
              "      <th>label</th>\n",
              "      <th>response</th>\n",
              "      <th>context</th>\n",
              "    </tr>\n",
              "  </thead>\n",
              "  <tbody>\n",
              "    <tr>\n",
              "      <th>0</th>\n",
              "      <td>SARCASM</td>\n",
              "      <td>@USER @USER @USER I don't get this .. obviousl...</td>\n",
              "      <td>[A minor child deserves privacy and should be ...</td>\n",
              "    </tr>\n",
              "    <tr>\n",
              "      <th>1</th>\n",
              "      <td>SARCASM</td>\n",
              "      <td>@USER @USER trying to protest about . Talking ...</td>\n",
              "      <td>[@USER @USER Why is he a loser ? He's just a P...</td>\n",
              "    </tr>\n",
              "    <tr>\n",
              "      <th>2</th>\n",
              "      <td>SARCASM</td>\n",
              "      <td>@USER @USER @USER He makes an insane about of ...</td>\n",
              "      <td>[Donald J . Trump is guilty as charged . The e...</td>\n",
              "    </tr>\n",
              "    <tr>\n",
              "      <th>3</th>\n",
              "      <td>SARCASM</td>\n",
              "      <td>@USER @USER Meanwhile Trump won't even release...</td>\n",
              "      <td>[Jamie Raskin tanked Doug Collins . Collins lo...</td>\n",
              "    </tr>\n",
              "    <tr>\n",
              "      <th>4</th>\n",
              "      <td>SARCASM</td>\n",
              "      <td>@USER @USER Pretty Sure the Anti-Lincoln Crowd...</td>\n",
              "      <td>[Man ... y ’ all gone “ both sides ” the apoca...</td>\n",
              "    </tr>\n",
              "  </tbody>\n",
              "</table>\n",
              "</div>"
            ],
            "text/plain": [
              "     label  ...                                            context\n",
              "0  SARCASM  ...  [A minor child deserves privacy and should be ...\n",
              "1  SARCASM  ...  [@USER @USER Why is he a loser ? He's just a P...\n",
              "2  SARCASM  ...  [Donald J . Trump is guilty as charged . The e...\n",
              "3  SARCASM  ...  [Jamie Raskin tanked Doug Collins . Collins lo...\n",
              "4  SARCASM  ...  [Man ... y ’ all gone “ both sides ” the apoca...\n",
              "\n",
              "[5 rows x 3 columns]"
            ]
          },
          "metadata": {
            "tags": []
          },
          "execution_count": 13
        }
      ]
    },
    {
      "cell_type": "code",
      "metadata": {
        "colab": {
          "base_uri": "https://localhost:8080/"
        },
        "id": "r5vtHY2MigRq",
        "outputId": "e3cd5142-02af-4477-d386-a7394bda4212"
      },
      "source": [
        "df.info()"
      ],
      "execution_count": null,
      "outputs": [
        {
          "output_type": "stream",
          "text": [
            "<class 'pandas.core.frame.DataFrame'>\n",
            "RangeIndex: 5000 entries, 0 to 4999\n",
            "Data columns (total 3 columns):\n",
            " #   Column    Non-Null Count  Dtype \n",
            "---  ------    --------------  ----- \n",
            " 0   label     5000 non-null   object\n",
            " 1   response  5000 non-null   object\n",
            " 2   context   5000 non-null   object\n",
            "dtypes: object(3)\n",
            "memory usage: 117.3+ KB\n"
          ],
          "name": "stdout"
        }
      ]
    },
    {
      "cell_type": "code",
      "metadata": {
        "colab": {
          "base_uri": "https://localhost:8080/"
        },
        "id": "bdyLnXZAiuq1",
        "outputId": "7c3ec162-1069-40b2-9527-8c7537afc124"
      },
      "source": [
        "df['label'].value_counts()"
      ],
      "execution_count": null,
      "outputs": [
        {
          "output_type": "execute_result",
          "data": {
            "text/plain": [
              "NOT_SARCASM    2500\n",
              "SARCASM        2500\n",
              "Name: label, dtype: int64"
            ]
          },
          "metadata": {
            "tags": []
          },
          "execution_count": 15
        }
      ]
    },
    {
      "cell_type": "code",
      "metadata": {
        "colab": {
          "base_uri": "https://localhost:8080/",
          "height": 298
        },
        "id": "GZpl7bQqjxAn",
        "outputId": "68546008-4b9f-44e1-adfc-fd539cae0365"
      },
      "source": [
        "sns.set_style('whitegrid')\n",
        "sns.countplot(x='label',data=df)"
      ],
      "execution_count": null,
      "outputs": [
        {
          "output_type": "execute_result",
          "data": {
            "text/plain": [
              "<matplotlib.axes._subplots.AxesSubplot at 0x7f8236eb1150>"
            ]
          },
          "metadata": {
            "tags": []
          },
          "execution_count": 16
        },
        {
          "output_type": "display_data",
          "data": {
            "image/png": "[encoded data removed]",
            "text/plain": [
              "<Figure size 432x288 with 1 Axes>"
            ]
          },
          "metadata": {
            "tags": []
          }
        }
      ]
    },
    {
      "cell_type": "code",
      "metadata": {
        "id": "wqZpHprSlm_U"
      },
      "source": [
        "def clean_text(text):\n",
        "    text = text.lower()\n",
        "    \n",
        "    pattern = re.compile('http[s]?://(?:[a-zA-Z]|[0-9]|[$-_@.&+]|[!*\\(\\),]|(?:%[0-9a-fA-F][0-9a-fA-F]))+')\n",
        "    text = pattern.sub('', text)\n",
        "    text = \" \".join(filter(lambda x:x[0]!='@', text.split()))\n",
        "    emoji = re.compile(\"[\"\n",
        "                           u\"\\U0001F600-\\U0001FFFF\"  # emoticons\n",
        "                           u\"\\U0001F300-\\U0001F5FF\"  # symbols & pictographs\n",
        "                           u\"\\U0001F680-\\U0001F6FF\"  # transport & map symbols\n",
        "                           u\"\\U0001F1E0-\\U0001F1FF\"  # flags (iOS)\n",
        "                           u\"\\U00002702-\\U000027B0\"\n",
        "                           u\"\\U000024C2-\\U0001F251\"\n",
        "                           \"]+\", flags=re.UNICODE)\n",
        "    \n",
        "    \n",
        "    text = text.lower()\n",
        "    text = re.sub(r\"i'm\", \"i am\", text)\n",
        "    text = re.sub(r\"he's\", \"he is\", text)\n",
        "    text = re.sub(r\"she's\", \"she is\", text)\n",
        "    text = re.sub(r\"that's\", \"that is\", text)        \n",
        "    text = re.sub(r\"what's\", \"what is\", text)\n",
        "    text = re.sub(r\"where's\", \"where is\", text) \n",
        "    text = re.sub(r\"\\'ll\", \" will\", text)  \n",
        "    text = re.sub(r\"\\'ve\", \" have\", text)  \n",
        "    text = re.sub(r\"\\'re\", \" are\", text)\n",
        "    text = re.sub(r\"\\'d\", \" would\", text)\n",
        "    text = re.sub(r\"\\'ve\", \" have\", text)\n",
        "    text = re.sub(r\"won't\", \"will not\", text)\n",
        "    text = re.sub(r\"don't\", \"do not\", text)\n",
        "    text = re.sub(r\"did't\", \"did not\", text)\n",
        "    text = re.sub(r\"can't\", \"can not\", text)\n",
        "    text = re.sub(r\"it's\", \"it is\", text)\n",
        "    text = re.sub(r\"couldn't\", \"could not\", text)\n",
        "    text = re.sub(r\"have't\", \"have not\", text)\n",
        "    text = re.sub(r\"[,.\\\"\\'!@#$%^&*(){}?/;`~:<>+=-]\", \"\", text)\n",
        "    return text\n"
      ],
      "execution_count": null,
      "outputs": []
    },
    {
      "cell_type": "code",
      "metadata": {
        "colab": {
          "base_uri": "https://localhost:8080/"
        },
        "id": "U4t267XsMsnP",
        "outputId": "7f543678-cb04-4255-df09-50a53c8b8f53"
      },
      "source": [
        "import nltk\n",
        "nltk.download('punkt')\n",
        "nltk.download('stopwords')\n",
        "import string\n",
        "from nltk.tokenize import word_tokenize\n",
        "from nltk.corpus import stopwords\n",
        "\n",
        "def CleanTokenize(df):\n",
        "    stop_words = set(stopwords.words(\"english\"))\n",
        "    responses = list()\n",
        "    lines = df[\"response\"].values.tolist()\n",
        "\n",
        "    for line in lines:\n",
        "        line = clean_text(line)\n",
        "        # tokenize the text\n",
        "        tokens = word_tokenize(line)\n",
        "        # remove puntuations\n",
        "        table = str.maketrans('', '', string.punctuation)\n",
        "        stripped = [w.translate(table) for w in tokens]\n",
        "        # remove non alphabetic characters\n",
        "        words = [word for word in stripped if word.isalpha()]\n",
        "        # remove stop words\n",
        "        words = [w for w in words if not w in stop_words]\n",
        "        responses.append(words)\n",
        "    return responses\n"
      ],
      "execution_count": null,
      "outputs": [
        {
          "output_type": "stream",
          "text": [
            "[nltk_data] Downloading package punkt to /root/nltk_data...\n",
            "[nltk_data]   Package punkt is already up-to-date!\n",
            "[nltk_data] Downloading package stopwords to /root/nltk_data...\n",
            "[nltk_data]   Package stopwords is already up-to-date!\n"
          ],
          "name": "stdout"
        }
      ]
    },
    {
      "cell_type": "code",
      "metadata": {
        "colab": {
          "base_uri": "https://localhost:8080/"
        },
        "id": "UcWWfwnkK0CP",
        "outputId": "9b2bd63e-1af0-4b7a-d287-764e0d3eb6f8"
      },
      "source": [
        "responses = CleanTokenize(df)\n",
        "responses[0:2]"
      ],
      "execution_count": null,
      "outputs": [
        {
          "output_type": "execute_result",
          "data": {
            "text/plain": [
              "[['get',\n",
              "  'obviously',\n",
              "  'care',\n",
              "  'would',\n",
              "  'moved',\n",
              "  'right',\n",
              "  'along',\n",
              "  'instead',\n",
              "  'decided',\n",
              "  'care',\n",
              "  'troll'],\n",
              " ['trying', 'protest', 'talking', 'labels', 'label', 'wtf', 'make', 'em']]"
            ]
          },
          "metadata": {
            "tags": []
          },
          "execution_count": 21
        }
      ]
    },
    {
      "cell_type": "code",
      "metadata": {
        "id": "8mk5E46vj62F"
      },
      "source": [
        "vocab_size=10000\n",
        "embedding_dim=16\n",
        "max_length=32\n",
        "trunc_type='post'\n",
        "padding_type='post'\n",
        "oov_tok='<oov>'\n",
        "validation_split = 0.2"
      ],
      "execution_count": null,
      "outputs": []
    },
    {
      "cell_type": "code",
      "metadata": {
        "id": "5uJUX5g7ngFQ"
      },
      "source": [
        "import tensorflow as tf\n",
        "from tensorflow import keras\n",
        "from tensorflow.python.keras.preprocessing.text import Tokenizer\n",
        "from tensorflow.python.keras.preprocessing.sequence import pad_sequences\n",
        "from keras.models import Sequential\n",
        "from keras.layers import Dense, Embedding, GRU, LSTM, Bidirectional\n",
        "from keras.layers.embeddings import Embedding\n",
        "from keras.initializers import Constant\n",
        "from keras.callbacks import ModelCheckpoint\n",
        "from keras.models import load_model"
      ],
      "execution_count": null,
      "outputs": []
    },
    {
      "cell_type": "code",
      "metadata": {
        "colab": {
          "base_uri": "https://localhost:8080/"
        },
        "id": "k7oDtRZPN-_T",
        "outputId": "21680c7b-18dc-4f60-c982-482b87ebe8ac"
      },
      "source": [
        "tokenizer_obj = Tokenizer()\n",
        "tokenizer_obj.fit_on_texts(responses)\n",
        "sequences = tokenizer_obj.texts_to_sequences(responses)\n",
        "\n",
        "word_index = tokenizer_obj.word_index\n",
        "print(\"unique tokens - \",len(word_index))\n",
        "vocab_size = len(tokenizer_obj.word_index) + 1\n",
        "print('vocab size -', vocab_size)\n",
        "\n",
        "lines_padded = pad_sequences(sequences, maxlen=max_length, padding='post')\n"
      ],
      "execution_count": null,
      "outputs": [
        {
          "output_type": "stream",
          "text": [
            "unique tokens -  12451\n",
            "vocab size - 12452\n"
          ],
          "name": "stdout"
        }
      ]
    },
    {
      "cell_type": "code",
      "metadata": {
        "id": "IjktQ2sjHbdL"
      },
      "source": [
        "indices = np.arange(lines_padded.shape[0])\n",
        "np.random.shuffle(indices)\n",
        "lines_padded = lines_padded[indices]"
      ],
      "execution_count": null,
      "outputs": []
    },
    {
      "cell_type": "code",
      "metadata": {
        "id": "WhyKRlcIlc4k",
        "colab": {
          "base_uri": "https://localhost:8080/"
        },
        "outputId": "1ffb2c7d-be16-430e-d45f-77f502426d85"
      },
      "source": [
        "y = pd.get_dummies(df['label'])\n",
        "y = y.iloc[:,1].values\n",
        "y"
      ],
      "execution_count": null,
      "outputs": [
        {
          "output_type": "execute_result",
          "data": {
            "text/plain": [
              "array([1, 1, 1, ..., 0, 0, 0], dtype=uint8)"
            ]
          },
          "metadata": {
            "tags": []
          },
          "execution_count": 27
        }
      ]
    },
    {
      "cell_type": "code",
      "metadata": {
        "id": "3TSttLBAmf9e"
      },
      "source": [
        "from sklearn.model_selection import train_test_split\n",
        "X_train, X_test, y_train, y_test = train_test_split(lines_padded, y, test_size=validation_split, random_state=0)"
      ],
      "execution_count": null,
      "outputs": []
    },
    {
      "cell_type": "code",
      "metadata": {
        "colab": {
          "base_uri": "https://localhost:8080/"
        },
        "id": "_qpBD6kHN-CL",
        "outputId": "c574910f-c077-4663-d5c0-5b49abdf7185"
      },
      "source": [
        "!wget http://nlp.stanford.edu/data/glove.6B.zip\n",
        "!unzip -q glove.6B.zip"
      ],
      "execution_count": null,
      "outputs": [
        {
          "output_type": "stream",
          "text": [
            "--2021-07-07 09:06:26--  http://nlp.stanford.edu/data/glove.6B.zip\n",
            "Resolving nlp.stanford.edu (nlp.stanford.edu)... 171.64.67.140\n",
            "Connecting to nlp.stanford.edu (nlp.stanford.edu)|171.64.67.140|:80... connected.\n",
            "HTTP request sent, awaiting response... 302 Found\n",
            "Location: https://nlp.stanford.edu/data/glove.6B.zip [following]\n",
            "--2021-07-07 09:06:26--  https://nlp.stanford.edu/data/glove.6B.zip\n",
            "Connecting to nlp.stanford.edu (nlp.stanford.edu)|171.64.67.140|:443... connected.\n",
            "HTTP request sent, awaiting response... 301 Moved Permanently\n",
            "Location: http://downloads.cs.stanford.edu/nlp/data/glove.6B.zip [following]\n",
            "--2021-07-07 09:06:26--  http://downloads.cs.stanford.edu/nlp/data/glove.6B.zip\n",
            "Resolving downloads.cs.stanford.edu (downloads.cs.stanford.edu)... 171.64.64.22\n",
            "Connecting to downloads.cs.stanford.edu (downloads.cs.stanford.edu)|171.64.64.22|:80... connected.\n",
            "HTTP request sent, awaiting response... 200 OK\n",
            "Length: 862182613 (822M) [application/zip]\n",
            "Saving to: ‘glove.6B.zip’\n",
            "\n",
            "glove.6B.zip        100%[===================>] 822.24M  5.17MB/s    in 2m 42s  \n",
            "\n",
            "2021-07-07 09:09:08 (5.09 MB/s) - ‘glove.6B.zip’ saved [862182613/862182613]\n",
            "\n"
          ],
          "name": "stdout"
        }
      ]
    },
    {
      "cell_type": "code",
      "metadata": {
        "colab": {
          "base_uri": "https://localhost:8080/"
        },
        "id": "O8cWPTyLOBK6",
        "outputId": "73f418a4-b239-4da5-8841-68199b1f189e"
      },
      "source": [
        "path_to_glove_file = os.path.join(\"/content/glove.6B.100d.txt\")\n",
        "\n",
        "embeddings_index = {}\n",
        "with open(path_to_glove_file) as f:\n",
        "    for line in f:\n",
        "        word, coefs = line.split(maxsplit=1)\n",
        "        coefs = np.fromstring(coefs, \"f\", sep=\" \")\n",
        "        embeddings_index[word] = coefs\n",
        "\n",
        "print(\"Found %s word vectors.\" % len(embeddings_index))"
      ],
      "execution_count": null,
      "outputs": [
        {
          "output_type": "stream",
          "text": [
            "Found 400000 word vectors.\n"
          ],
          "name": "stdout"
        }
      ]
    },
    {
      "cell_type": "code",
      "metadata": {
        "colab": {
          "base_uri": "https://localhost:8080/"
        },
        "id": "aGjJNe2NWdNd",
        "outputId": "50bc0098-5d8c-444e-8140-279d57c3fb0b"
      },
      "source": [
        "embeddings_index['ice']"
      ],
      "execution_count": null,
      "outputs": [
        {
          "output_type": "execute_result",
          "data": {
            "text/plain": [
              "array([-0.36987 ,  0.22726 ,  0.19694 ,  0.31698 , -0.27173 , -0.55686 ,\n",
              "        0.77389 ,  0.027718, -0.69677 , -0.45731 ,  0.15141 , -0.43869 ,\n",
              "        0.12488 ,  0.29045 , -0.067116,  0.23533 ,  0.66437 , -0.2439  ,\n",
              "       -0.35008 , -0.56176 , -0.54178 ,  1.3804  , -0.00226 ,  0.14159 ,\n",
              "        0.22049 ,  0.76038 , -0.65328 , -0.92936 ,  0.44192 , -0.22163 ,\n",
              "       -0.038148,  0.34207 , -0.31907 , -0.40438 ,  0.32958 , -0.51679 ,\n",
              "        0.3803  ,  0.6268  , -0.21689 , -1.1499  ,  0.17408 , -0.7247  ,\n",
              "       -0.60663 , -0.43917 ,  0.51346 ,  0.97305 , -0.44658 , -0.34701 ,\n",
              "        0.6762  , -0.1245  ,  0.37643 , -0.51666 , -0.01559 ,  0.95627 ,\n",
              "       -0.21546 , -2.1626  , -0.14155 ,  0.4946  ,  1.3148  ,  1.4727  ,\n",
              "        0.072711,  1.1756  , -0.29757 ,  0.70818 ,  0.57854 ,  0.21456 ,\n",
              "        0.545   , -0.33628 ,  0.24096 , -0.69244 , -0.44921 , -0.77919 ,\n",
              "        0.66128 ,  1.1407  ,  0.25976 , -0.11607 ,  0.77184 , -0.30579 ,\n",
              "        0.30462 ,  0.45228 ,  0.45382 ,  0.2194  , -0.051073,  0.17419 ,\n",
              "       -0.18666 , -0.72751 ,  0.42633 ,  0.35328 ,  0.31065 ,  0.36613 ,\n",
              "        0.092027,  0.13255 , -0.87597 ,  0.17633 ,  0.064465, -1.0101  ,\n",
              "       -0.79802 ,  0.66991 ,  1.0193  ,  0.099206], dtype=float32)"
            ]
          },
          "metadata": {
            "tags": []
          },
          "execution_count": 70
        }
      ]
    },
    {
      "cell_type": "code",
      "metadata": {
        "colab": {
          "base_uri": "https://localhost:8080/"
        },
        "id": "75MpwFNnOJ0w",
        "outputId": "f08f4d33-90b2-4d54-9fe9-2f3417c7ba7a"
      },
      "source": [
        "num_tokens = vocab_size\n",
        "embedding_dim = 100\n",
        "hits = 0\n",
        "misses = 0\n",
        "\n",
        "# Prepare embedding matrix\n",
        "embedding_matrix = np.zeros((num_tokens, embedding_dim))\n",
        "for word, i in word_index.items():\n",
        "    embedding_vector = embeddings_index.get(word)\n",
        "    if embedding_vector is not None:\n",
        "        # Words not found in embedding index will be all-zeros.\n",
        "        # This includes the representation for \"padding\" and \"OOV\"\n",
        "        embedding_matrix[i] = embedding_vector\n",
        "        hits += 1\n",
        "    else:\n",
        "        misses += 1\n",
        "print(\"Converted %d words (%d misses)\" % (hits, misses))"
      ],
      "execution_count": null,
      "outputs": [
        {
          "output_type": "stream",
          "text": [
            "Converted 10551 words (1900 misses)\n"
          ],
          "name": "stdout"
        }
      ]
    },
    {
      "cell_type": "code",
      "metadata": {
        "colab": {
          "base_uri": "https://localhost:8080/"
        },
        "id": "P9jwZ6bFWZGt",
        "outputId": "eca732dd-0420-47d9-c075-88cf2783aa0d"
      },
      "source": [
        "embedding_matrix[2]"
      ],
      "execution_count": null,
      "outputs": [
        {
          "output_type": "execute_result",
          "data": {
            "text/plain": [
              "array([-0.2687    ,  0.81708002,  0.69896001, -0.72341001,  0.091566  ,\n",
              "        0.19557001, -0.52112001, -0.24313   , -0.44701001, -0.27039   ,\n",
              "       -0.34125999, -0.46898001,  0.42583001,  0.46289   ,  0.17106   ,\n",
              "       -0.26795   ,  0.23162   ,  0.46568   , -0.31808001,  0.75875002,\n",
              "        0.31856999,  0.64124   ,  0.067042  , -0.18516999,  0.49996001,\n",
              "        0.36963999, -0.31172001, -0.73097998, -0.26901999, -0.32058001,\n",
              "        0.23394001,  0.24276   ,  0.1426    , -0.2793    ,  0.38823   ,\n",
              "        0.42398   ,  0.1021    ,  0.33316001,  0.30149999, -0.52710998,\n",
              "       -0.024475  , -0.15301   , -0.3224    , -0.51231003, -0.55250001,\n",
              "        0.29819   ,  0.10847   ,  0.052334  , -0.2298    , -0.77889001,\n",
              "       -0.08928   ,  0.48109001,  0.015368  ,  0.92544001, -0.26122001,\n",
              "       -2.47589993, -0.019825  ,  0.58280998,  1.30599999,  0.73512   ,\n",
              "       -0.34371999,  1.58290005, -0.10814   ,  0.11388   ,  0.79220003,\n",
              "        0.18347   ,  1.22319996,  0.35697001,  0.17504001, -0.16527   ,\n",
              "       -0.012827  , -0.47918001, -0.32111001, -0.40573001, -0.37151   ,\n",
              "        0.086323  ,  0.25172001, -0.082751  , -0.25584   , -0.19178   ,\n",
              "        1.0474    , -0.51984   , -0.71463001,  0.38826999, -1.67219996,\n",
              "        0.015986  , -0.22668   , -0.26602   , -0.57924998, -0.85650998,\n",
              "        0.20543   , -0.46371999, -0.065652  , -0.061944  , -0.57233   ,\n",
              "       -0.46406001, -0.41405001, -0.40110001,  0.74656999,  0.31121999])"
            ]
          },
          "metadata": {
            "tags": []
          },
          "execution_count": 68
        }
      ]
    },
    {
      "cell_type": "code",
      "metadata": {
        "id": "MsvEwMIqOQhs"
      },
      "source": [
        "from tensorflow.keras.layers import Embedding\n",
        "\n",
        "embedding_layer = Embedding(\n",
        "    num_tokens,\n",
        "    embedding_dim,\n",
        "    embeddings_initializer=keras.initializers.Constant(embedding_matrix),\n",
        "    trainable=False,\n",
        ")"
      ],
      "execution_count": null,
      "outputs": []
    },
    {
      "cell_type": "code",
      "metadata": {
        "id": "GjEATBVBQUvM"
      },
      "source": [
        "embedding_layer = Embedding(len(word_index) + 1,\n",
        "                            embedding_dim,\n",
        "                            weights=[embedding_matrix],\n",
        "                            input_length=max_length,\n",
        "                            trainable=False)"
      ],
      "execution_count": null,
      "outputs": []
    },
    {
      "cell_type": "code",
      "metadata": {
        "colab": {
          "base_uri": "https://localhost:8080/"
        },
        "id": "d-HkCHxHSVGg",
        "outputId": "2cf7d8f5-3741-428f-bc14-d41b9d0b91e2"
      },
      "source": [
        "from tensorflow.keras import layers\n",
        "\n",
        "input = keras.Input(shape=(None,), dtype=\"int64\")\n",
        "embedded_sequences = embedding_layer(input)\n",
        "x = layers.LSTM(64, dropout=0.2, recurrent_dropout=0.25)(embedded_sequences)\n",
        "x = layers.Dense(128, activation=\"relu\")(x)\n",
        "x = layers.Dropout(0.5)(x)\n",
        "preds = layers.Dense(1, activation='sigmoid')(x)\n",
        "\n",
        "model = keras.Model(input, preds)\n",
        "model.summary()"
      ],
      "execution_count": null,
      "outputs": [
        {
          "output_type": "stream",
          "text": [
            "Model: \"model_2\"\n",
            "_________________________________________________________________\n",
            "Layer (type)                 Output Shape              Param #   \n",
            "=================================================================\n",
            "input_8 (InputLayer)         [(None, None)]            0         \n",
            "_________________________________________________________________\n",
            "embedding_5 (Embedding)      (None, None, 100)         1245200   \n",
            "_________________________________________________________________\n",
            "lstm_3 (LSTM)                (None, 64)                42240     \n",
            "_________________________________________________________________\n",
            "dense_3 (Dense)              (None, 128)               8320      \n",
            "_________________________________________________________________\n",
            "dropout_1 (Dropout)          (None, 128)               0         \n",
            "_________________________________________________________________\n",
            "dense_4 (Dense)              (None, 1)                 129       \n",
            "=================================================================\n",
            "Total params: 1,295,889\n",
            "Trainable params: 50,689\n",
            "Non-trainable params: 1,245,200\n",
            "_________________________________________________________________\n"
          ],
          "name": "stdout"
        }
      ]
    },
    {
      "cell_type": "code",
      "metadata": {
        "colab": {
          "base_uri": "https://localhost:8080/"
        },
        "id": "KURHvsUbJfeX",
        "outputId": "fb903289-0926-4ef1-9f38-b0621780afe1"
      },
      "source": [
        "opt = tf.keras.optimizers.Adam(learning_rate=0.0001)\n",
        "model.compile(loss='binary_crossentropy', optimizer=opt, metrics=['accuracy'])\n",
        "\n",
        "model.fit(X_train, y_train, batch_size=32, epochs=25, validation_data=(X_test, y_test), verbose=1)"
      ],
      "execution_count": null,
      "outputs": [
        {
          "output_type": "stream",
          "text": [
            "Epoch 1/25\n",
            "125/125 [==============================] - 7s 40ms/step - loss: 0.6932 - accuracy: 0.5132 - val_loss: 0.6931 - val_accuracy: 0.4930\n",
            "Epoch 2/25\n",
            "125/125 [==============================] - 5s 37ms/step - loss: 0.6932 - accuracy: 0.5038 - val_loss: 0.6930 - val_accuracy: 0.4990\n",
            "Epoch 3/25\n",
            "125/125 [==============================] - 5s 38ms/step - loss: 0.6930 - accuracy: 0.5010 - val_loss: 0.6930 - val_accuracy: 0.5000\n",
            "Epoch 4/25\n",
            "125/125 [==============================] - 5s 38ms/step - loss: 0.6929 - accuracy: 0.5203 - val_loss: 0.6933 - val_accuracy: 0.4910\n",
            "Epoch 5/25\n",
            "125/125 [==============================] - 5s 37ms/step - loss: 0.6926 - accuracy: 0.5160 - val_loss: 0.6933 - val_accuracy: 0.4950\n",
            "Epoch 6/25\n",
            "125/125 [==============================] - 5s 39ms/step - loss: 0.6924 - accuracy: 0.5182 - val_loss: 0.6935 - val_accuracy: 0.4980\n",
            "Epoch 7/25\n",
            "125/125 [==============================] - 5s 37ms/step - loss: 0.6922 - accuracy: 0.5235 - val_loss: 0.6932 - val_accuracy: 0.4970\n",
            "Epoch 8/25\n",
            "125/125 [==============================] - 5s 37ms/step - loss: 0.6917 - accuracy: 0.5250 - val_loss: 0.6933 - val_accuracy: 0.4920\n",
            "Epoch 9/25\n",
            "125/125 [==============================] - 5s 37ms/step - loss: 0.6916 - accuracy: 0.5192 - val_loss: 0.6937 - val_accuracy: 0.4880\n",
            "Epoch 10/25\n",
            "125/125 [==============================] - 5s 38ms/step - loss: 0.6908 - accuracy: 0.5268 - val_loss: 0.6941 - val_accuracy: 0.4900\n",
            "Epoch 11/25\n",
            "125/125 [==============================] - 5s 38ms/step - loss: 0.6902 - accuracy: 0.5330 - val_loss: 0.6943 - val_accuracy: 0.5050\n",
            "Epoch 12/25\n",
            "125/125 [==============================] - 5s 37ms/step - loss: 0.6882 - accuracy: 0.5370 - val_loss: 0.6963 - val_accuracy: 0.5180\n",
            "Epoch 13/25\n",
            "125/125 [==============================] - 5s 37ms/step - loss: 0.6891 - accuracy: 0.5315 - val_loss: 0.6955 - val_accuracy: 0.5010\n",
            "Epoch 14/25\n",
            "125/125 [==============================] - 5s 37ms/step - loss: 0.6857 - accuracy: 0.5493 - val_loss: 0.6964 - val_accuracy: 0.5160\n",
            "Epoch 15/25\n",
            "125/125 [==============================] - 5s 37ms/step - loss: 0.6850 - accuracy: 0.5505 - val_loss: 0.6983 - val_accuracy: 0.5060\n",
            "Epoch 16/25\n",
            "125/125 [==============================] - 5s 37ms/step - loss: 0.6845 - accuracy: 0.5460 - val_loss: 0.6975 - val_accuracy: 0.5100\n",
            "Epoch 17/25\n",
            "125/125 [==============================] - 5s 37ms/step - loss: 0.6814 - accuracy: 0.5590 - val_loss: 0.7028 - val_accuracy: 0.5290\n",
            "Epoch 18/25\n",
            "125/125 [==============================] - 5s 38ms/step - loss: 0.6825 - accuracy: 0.5497 - val_loss: 0.6994 - val_accuracy: 0.5140\n",
            "Epoch 19/25\n",
            "125/125 [==============================] - 5s 37ms/step - loss: 0.6802 - accuracy: 0.5548 - val_loss: 0.7048 - val_accuracy: 0.5000\n",
            "Epoch 20/25\n",
            "125/125 [==============================] - 5s 38ms/step - loss: 0.6783 - accuracy: 0.5658 - val_loss: 0.7124 - val_accuracy: 0.4890\n",
            "Epoch 21/25\n",
            "125/125 [==============================] - 5s 38ms/step - loss: 0.6757 - accuracy: 0.5700 - val_loss: 0.7053 - val_accuracy: 0.5220\n",
            "Epoch 22/25\n",
            "125/125 [==============================] - 5s 39ms/step - loss: 0.6784 - accuracy: 0.5577 - val_loss: 0.7057 - val_accuracy: 0.4950\n",
            "Epoch 23/25\n",
            "125/125 [==============================] - 5s 37ms/step - loss: 0.6747 - accuracy: 0.5665 - val_loss: 0.7113 - val_accuracy: 0.5080\n",
            "Epoch 24/25\n",
            "125/125 [==============================] - 5s 38ms/step - loss: 0.6748 - accuracy: 0.5627 - val_loss: 0.7039 - val_accuracy: 0.5120\n",
            "Epoch 25/25\n",
            "125/125 [==============================] - 5s 38ms/step - loss: 0.6714 - accuracy: 0.5702 - val_loss: 0.7086 - val_accuracy: 0.5170\n"
          ],
          "name": "stdout"
        },
        {
          "output_type": "execute_result",
          "data": {
            "text/plain": [
              "<tensorflow.python.keras.callbacks.History at 0x7f81f2c85710>"
            ]
          },
          "metadata": {
            "tags": []
          },
          "execution_count": 76
        }
      ]
    },
    {
      "cell_type": "code",
      "metadata": {
        "colab": {
          "base_uri": "https://localhost:8080/",
          "height": 852
        },
        "id": "pPuxYm6nw78Z",
        "outputId": "734b15d5-95be-4d6c-8904-bd5f2c7f4626"
      },
      "source": [
        "df_m=pd.DataFrame(model.history.history)\n",
        "df_m['Epoch']=range(1,26)\n",
        "df_m.index=df_m['Epoch']\n",
        "df_m"
      ],
      "execution_count": null,
      "outputs": [
        {
          "output_type": "execute_result",
          "data": {
            "text/html": [
              "<div>\n",
              "<style scoped>\n",
              "    .dataframe tbody tr th:only-of-type {\n",
              "        vertical-align: middle;\n",
              "    }\n",
              "\n",
              "    .dataframe tbody tr th {\n",
              "        vertical-align: top;\n",
              "    }\n",
              "\n",
              "    .dataframe thead th {\n",
              "        text-align: right;\n",
              "    }\n",
              "</style>\n",
              "<table border=\"1\" class=\"dataframe\">\n",
              "  <thead>\n",
              "    <tr style=\"text-align: right;\">\n",
              "      <th></th>\n",
              "      <th>loss</th>\n",
              "      <th>accuracy</th>\n",
              "      <th>val_loss</th>\n",
              "      <th>val_accuracy</th>\n",
              "      <th>Epoch</th>\n",
              "    </tr>\n",
              "    <tr>\n",
              "      <th>Epoch</th>\n",
              "      <th></th>\n",
              "      <th></th>\n",
              "      <th></th>\n",
              "      <th></th>\n",
              "      <th></th>\n",
              "    </tr>\n",
              "  </thead>\n",
              "  <tbody>\n",
              "    <tr>\n",
              "      <th>1</th>\n",
              "      <td>0.693188</td>\n",
              "      <td>0.51325</td>\n",
              "      <td>0.693092</td>\n",
              "      <td>0.493</td>\n",
              "      <td>1</td>\n",
              "    </tr>\n",
              "    <tr>\n",
              "      <th>2</th>\n",
              "      <td>0.693193</td>\n",
              "      <td>0.50375</td>\n",
              "      <td>0.693022</td>\n",
              "      <td>0.499</td>\n",
              "      <td>2</td>\n",
              "    </tr>\n",
              "    <tr>\n",
              "      <th>3</th>\n",
              "      <td>0.692978</td>\n",
              "      <td>0.50100</td>\n",
              "      <td>0.693021</td>\n",
              "      <td>0.500</td>\n",
              "      <td>3</td>\n",
              "    </tr>\n",
              "    <tr>\n",
              "      <th>4</th>\n",
              "      <td>0.692855</td>\n",
              "      <td>0.52025</td>\n",
              "      <td>0.693261</td>\n",
              "      <td>0.491</td>\n",
              "      <td>4</td>\n",
              "    </tr>\n",
              "    <tr>\n",
              "      <th>5</th>\n",
              "      <td>0.692623</td>\n",
              "      <td>0.51600</td>\n",
              "      <td>0.693315</td>\n",
              "      <td>0.495</td>\n",
              "      <td>5</td>\n",
              "    </tr>\n",
              "    <tr>\n",
              "      <th>6</th>\n",
              "      <td>0.692395</td>\n",
              "      <td>0.51825</td>\n",
              "      <td>0.693488</td>\n",
              "      <td>0.498</td>\n",
              "      <td>6</td>\n",
              "    </tr>\n",
              "    <tr>\n",
              "      <th>7</th>\n",
              "      <td>0.692230</td>\n",
              "      <td>0.52350</td>\n",
              "      <td>0.693248</td>\n",
              "      <td>0.497</td>\n",
              "      <td>7</td>\n",
              "    </tr>\n",
              "    <tr>\n",
              "      <th>8</th>\n",
              "      <td>0.691730</td>\n",
              "      <td>0.52500</td>\n",
              "      <td>0.693347</td>\n",
              "      <td>0.492</td>\n",
              "      <td>8</td>\n",
              "    </tr>\n",
              "    <tr>\n",
              "      <th>9</th>\n",
              "      <td>0.691600</td>\n",
              "      <td>0.51925</td>\n",
              "      <td>0.693651</td>\n",
              "      <td>0.488</td>\n",
              "      <td>9</td>\n",
              "    </tr>\n",
              "    <tr>\n",
              "      <th>10</th>\n",
              "      <td>0.690752</td>\n",
              "      <td>0.52675</td>\n",
              "      <td>0.694128</td>\n",
              "      <td>0.490</td>\n",
              "      <td>10</td>\n",
              "    </tr>\n",
              "    <tr>\n",
              "      <th>11</th>\n",
              "      <td>0.690152</td>\n",
              "      <td>0.53300</td>\n",
              "      <td>0.694337</td>\n",
              "      <td>0.505</td>\n",
              "      <td>11</td>\n",
              "    </tr>\n",
              "    <tr>\n",
              "      <th>12</th>\n",
              "      <td>0.688178</td>\n",
              "      <td>0.53700</td>\n",
              "      <td>0.696319</td>\n",
              "      <td>0.518</td>\n",
              "      <td>12</td>\n",
              "    </tr>\n",
              "    <tr>\n",
              "      <th>13</th>\n",
              "      <td>0.689068</td>\n",
              "      <td>0.53150</td>\n",
              "      <td>0.695477</td>\n",
              "      <td>0.501</td>\n",
              "      <td>13</td>\n",
              "    </tr>\n",
              "    <tr>\n",
              "      <th>14</th>\n",
              "      <td>0.685654</td>\n",
              "      <td>0.54925</td>\n",
              "      <td>0.696418</td>\n",
              "      <td>0.516</td>\n",
              "      <td>14</td>\n",
              "    </tr>\n",
              "    <tr>\n",
              "      <th>15</th>\n",
              "      <td>0.685007</td>\n",
              "      <td>0.55050</td>\n",
              "      <td>0.698300</td>\n",
              "      <td>0.506</td>\n",
              "      <td>15</td>\n",
              "    </tr>\n",
              "    <tr>\n",
              "      <th>16</th>\n",
              "      <td>0.684509</td>\n",
              "      <td>0.54600</td>\n",
              "      <td>0.697532</td>\n",
              "      <td>0.510</td>\n",
              "      <td>16</td>\n",
              "    </tr>\n",
              "    <tr>\n",
              "      <th>17</th>\n",
              "      <td>0.681446</td>\n",
              "      <td>0.55900</td>\n",
              "      <td>0.702823</td>\n",
              "      <td>0.529</td>\n",
              "      <td>17</td>\n",
              "    </tr>\n",
              "    <tr>\n",
              "      <th>18</th>\n",
              "      <td>0.682518</td>\n",
              "      <td>0.54975</td>\n",
              "      <td>0.699445</td>\n",
              "      <td>0.514</td>\n",
              "      <td>18</td>\n",
              "    </tr>\n",
              "    <tr>\n",
              "      <th>19</th>\n",
              "      <td>0.680195</td>\n",
              "      <td>0.55475</td>\n",
              "      <td>0.704803</td>\n",
              "      <td>0.500</td>\n",
              "      <td>19</td>\n",
              "    </tr>\n",
              "    <tr>\n",
              "      <th>20</th>\n",
              "      <td>0.678254</td>\n",
              "      <td>0.56575</td>\n",
              "      <td>0.712418</td>\n",
              "      <td>0.489</td>\n",
              "      <td>20</td>\n",
              "    </tr>\n",
              "    <tr>\n",
              "      <th>21</th>\n",
              "      <td>0.675734</td>\n",
              "      <td>0.57000</td>\n",
              "      <td>0.705341</td>\n",
              "      <td>0.522</td>\n",
              "      <td>21</td>\n",
              "    </tr>\n",
              "    <tr>\n",
              "      <th>22</th>\n",
              "      <td>0.678408</td>\n",
              "      <td>0.55775</td>\n",
              "      <td>0.705727</td>\n",
              "      <td>0.495</td>\n",
              "      <td>22</td>\n",
              "    </tr>\n",
              "    <tr>\n",
              "      <th>23</th>\n",
              "      <td>0.674665</td>\n",
              "      <td>0.56650</td>\n",
              "      <td>0.711258</td>\n",
              "      <td>0.508</td>\n",
              "      <td>23</td>\n",
              "    </tr>\n",
              "    <tr>\n",
              "      <th>24</th>\n",
              "      <td>0.674806</td>\n",
              "      <td>0.56275</td>\n",
              "      <td>0.703855</td>\n",
              "      <td>0.512</td>\n",
              "      <td>24</td>\n",
              "    </tr>\n",
              "    <tr>\n",
              "      <th>25</th>\n",
              "      <td>0.671386</td>\n",
              "      <td>0.57025</td>\n",
              "      <td>0.708614</td>\n",
              "      <td>0.517</td>\n",
              "      <td>25</td>\n",
              "    </tr>\n",
              "  </tbody>\n",
              "</table>\n",
              "</div>"
            ],
            "text/plain": [
              "           loss  accuracy  val_loss  val_accuracy  Epoch\n",
              "Epoch                                                   \n",
              "1      0.693188   0.51325  0.693092         0.493      1\n",
              "2      0.693193   0.50375  0.693022         0.499      2\n",
              "3      0.692978   0.50100  0.693021         0.500      3\n",
              "4      0.692855   0.52025  0.693261         0.491      4\n",
              "5      0.692623   0.51600  0.693315         0.495      5\n",
              "6      0.692395   0.51825  0.693488         0.498      6\n",
              "7      0.692230   0.52350  0.693248         0.497      7\n",
              "8      0.691730   0.52500  0.693347         0.492      8\n",
              "9      0.691600   0.51925  0.693651         0.488      9\n",
              "10     0.690752   0.52675  0.694128         0.490     10\n",
              "11     0.690152   0.53300  0.694337         0.505     11\n",
              "12     0.688178   0.53700  0.696319         0.518     12\n",
              "13     0.689068   0.53150  0.695477         0.501     13\n",
              "14     0.685654   0.54925  0.696418         0.516     14\n",
              "15     0.685007   0.55050  0.698300         0.506     15\n",
              "16     0.684509   0.54600  0.697532         0.510     16\n",
              "17     0.681446   0.55900  0.702823         0.529     17\n",
              "18     0.682518   0.54975  0.699445         0.514     18\n",
              "19     0.680195   0.55475  0.704803         0.500     19\n",
              "20     0.678254   0.56575  0.712418         0.489     20\n",
              "21     0.675734   0.57000  0.705341         0.522     21\n",
              "22     0.678408   0.55775  0.705727         0.495     22\n",
              "23     0.674665   0.56650  0.711258         0.508     23\n",
              "24     0.674806   0.56275  0.703855         0.512     24\n",
              "25     0.671386   0.57025  0.708614         0.517     25"
            ]
          },
          "metadata": {
            "tags": []
          },
          "execution_count": 78
        }
      ]
    },
    {
      "cell_type": "code",
      "metadata": {
        "colab": {
          "base_uri": "https://localhost:8080/",
          "height": 295
        },
        "id": "U64Yw1gfzDgc",
        "outputId": "fa5ec7e9-7fad-4eb6-9e6b-db84762b6e05"
      },
      "source": [
        "#Loss Graph(Training and Validation)\n",
        "plt.plot(df_m['loss'])\n",
        "plt.plot(df_m['val_loss'])\n",
        "plt.title('model loss')\n",
        "plt.ylabel('loss')\n",
        "plt.xlabel('epoch')\n",
        "plt.legend(['train_loss', 'val_loss'])\n",
        "plt.show()"
      ],
      "execution_count": null,
      "outputs": [
        {
          "output_type": "display_data",
          "data": {
            "image/png": "[encoded data removed]",
            "text/plain": [
              "<Figure size 432x288 with 1 Axes>"
            ]
          },
          "metadata": {
            "tags": []
          }
        }
      ]
    },
    {
      "cell_type": "code",
      "metadata": {
        "colab": {
          "base_uri": "https://localhost:8080/",
          "height": 295
        },
        "id": "oXIoYDOw0oEC",
        "outputId": "41a97601-5a7e-4105-b100-1256a9560ed5"
      },
      "source": [
        "#fig= plt.figure(figsize=(15,10))\n",
        "plt.plot(df_m['accuracy'])\n",
        "plt.plot(df_m['val_accuracy'])\n",
        "plt.title('model accuracy')\n",
        "plt.ylabel('accuracy')\n",
        "plt.xlabel('epoch')\n",
        "plt.legend(['train_acc', 'val_acc'])\n",
        "plt.show()"
      ],
      "execution_count": null,
      "outputs": [
        {
          "output_type": "display_data",
          "data": {
            "image/png": "[encoded data removed]",
            "text/plain": [
              "<Figure size 432x288 with 1 Axes>"
            ]
          },
          "metadata": {
            "tags": []
          }
        }
      ]
    }
  ]
}