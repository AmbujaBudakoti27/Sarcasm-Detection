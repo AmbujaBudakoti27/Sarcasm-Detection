{
  "nbformat": 4,
  "nbformat_minor": 0,
  "metadata": {
    "colab": {
      "name": "Using_LSTM_twitter_dataset_v1.ipynb",
      "provenance": []
    },
    "kernelspec": {
      "name": "python3",
      "display_name": "Python 3"
    },
    "language_info": {
      "name": "python"
    }
  },
  "cells": [
    {
      "cell_type": "code",
      "metadata": {
        "id": "3CAvZH8liGpj"
      },
      "source": [
        "import pandas as pd\n",
        "import numpy as np\n",
        "import matplotlib.pyplot as plt\n",
        "import seaborn as sns\n",
        "%matplotlib inline"
      ],
      "execution_count": 1,
      "outputs": []
    },
    {
      "cell_type": "code",
      "metadata": {
        "id": "4s2Plv4lh3Gk"
      },
      "source": [
        "url = 'https://raw.githubusercontent.com/AmbujaBudakoti27/Sarcasm-Detection/main/sarcasm_detection_shared_task_twitter_training.jsonl'\n",
        "df=pd.read_json(url,lines=True)"
      ],
      "execution_count": 2,
      "outputs": []
    },
    {
      "cell_type": "code",
      "metadata": {
        "colab": {
          "base_uri": "https://localhost:8080/",
          "height": 204
        },
        "id": "SbZsJtm-iPq0",
        "outputId": "4c10822c-acd1-4a5c-dd97-93b18dd28efd"
      },
      "source": [
        "df.head()"
      ],
      "execution_count": 3,
      "outputs": [
        {
          "output_type": "execute_result",
          "data": {
            "text/html": [
              "<div>\n",
              "<style scoped>\n",
              "    .dataframe tbody tr th:only-of-type {\n",
              "        vertical-align: middle;\n",
              "    }\n",
              "\n",
              "    .dataframe tbody tr th {\n",
              "        vertical-align: top;\n",
              "    }\n",
              "\n",
              "    .dataframe thead th {\n",
              "        text-align: right;\n",
              "    }\n",
              "</style>\n",
              "<table border=\"1\" class=\"dataframe\">\n",
              "  <thead>\n",
              "    <tr style=\"text-align: right;\">\n",
              "      <th></th>\n",
              "      <th>label</th>\n",
              "      <th>response</th>\n",
              "      <th>context</th>\n",
              "    </tr>\n",
              "  </thead>\n",
              "  <tbody>\n",
              "    <tr>\n",
              "      <th>0</th>\n",
              "      <td>SARCASM</td>\n",
              "      <td>@USER @USER @USER I don't get this .. obviousl...</td>\n",
              "      <td>[A minor child deserves privacy and should be ...</td>\n",
              "    </tr>\n",
              "    <tr>\n",
              "      <th>1</th>\n",
              "      <td>SARCASM</td>\n",
              "      <td>@USER @USER trying to protest about . Talking ...</td>\n",
              "      <td>[@USER @USER Why is he a loser ? He's just a P...</td>\n",
              "    </tr>\n",
              "    <tr>\n",
              "      <th>2</th>\n",
              "      <td>SARCASM</td>\n",
              "      <td>@USER @USER @USER He makes an insane about of ...</td>\n",
              "      <td>[Donald J . Trump is guilty as charged . The e...</td>\n",
              "    </tr>\n",
              "    <tr>\n",
              "      <th>3</th>\n",
              "      <td>SARCASM</td>\n",
              "      <td>@USER @USER Meanwhile Trump won't even release...</td>\n",
              "      <td>[Jamie Raskin tanked Doug Collins . Collins lo...</td>\n",
              "    </tr>\n",
              "    <tr>\n",
              "      <th>4</th>\n",
              "      <td>SARCASM</td>\n",
              "      <td>@USER @USER Pretty Sure the Anti-Lincoln Crowd...</td>\n",
              "      <td>[Man ... y ’ all gone “ both sides ” the apoca...</td>\n",
              "    </tr>\n",
              "  </tbody>\n",
              "</table>\n",
              "</div>"
            ],
            "text/plain": [
              "     label  ...                                            context\n",
              "0  SARCASM  ...  [A minor child deserves privacy and should be ...\n",
              "1  SARCASM  ...  [@USER @USER Why is he a loser ? He's just a P...\n",
              "2  SARCASM  ...  [Donald J . Trump is guilty as charged . The e...\n",
              "3  SARCASM  ...  [Jamie Raskin tanked Doug Collins . Collins lo...\n",
              "4  SARCASM  ...  [Man ... y ’ all gone “ both sides ” the apoca...\n",
              "\n",
              "[5 rows x 3 columns]"
            ]
          },
          "metadata": {
            "tags": []
          },
          "execution_count": 3
        }
      ]
    },
    {
      "cell_type": "code",
      "metadata": {
        "colab": {
          "base_uri": "https://localhost:8080/"
        },
        "id": "r5vtHY2MigRq",
        "outputId": "e9df4e2b-0aec-412d-f6be-425c33304752"
      },
      "source": [
        "df.info()"
      ],
      "execution_count": 4,
      "outputs": [
        {
          "output_type": "stream",
          "text": [
            "<class 'pandas.core.frame.DataFrame'>\n",
            "RangeIndex: 5000 entries, 0 to 4999\n",
            "Data columns (total 3 columns):\n",
            " #   Column    Non-Null Count  Dtype \n",
            "---  ------    --------------  ----- \n",
            " 0   label     5000 non-null   object\n",
            " 1   response  5000 non-null   object\n",
            " 2   context   5000 non-null   object\n",
            "dtypes: object(3)\n",
            "memory usage: 117.3+ KB\n"
          ],
          "name": "stdout"
        }
      ]
    },
    {
      "cell_type": "code",
      "metadata": {
        "colab": {
          "base_uri": "https://localhost:8080/"
        },
        "id": "bdyLnXZAiuq1",
        "outputId": "6e84dc74-83ab-4774-b1d3-6ca2bfe0278c"
      },
      "source": [
        "df['label'].value_counts()"
      ],
      "execution_count": 5,
      "outputs": [
        {
          "output_type": "execute_result",
          "data": {
            "text/plain": [
              "NOT_SARCASM    2500\n",
              "SARCASM        2500\n",
              "Name: label, dtype: int64"
            ]
          },
          "metadata": {
            "tags": []
          },
          "execution_count": 5
        }
      ]
    },
    {
      "cell_type": "code",
      "metadata": {
        "colab": {
          "base_uri": "https://localhost:8080/",
          "height": 298
        },
        "id": "GZpl7bQqjxAn",
        "outputId": "a2388a2a-1afb-4494-8211-d266875e2951"
      },
      "source": [
        "sns.set_style('whitegrid')\n",
        "sns.countplot(x='label',data=df)"
      ],
      "execution_count": 6,
      "outputs": [
        {
          "output_type": "execute_result",
          "data": {
            "text/plain": [
              "<matplotlib.axes._subplots.AxesSubplot at 0x7fa5c5767a10>"
            ]
          },
          "metadata": {
            "tags": []
          },
          "execution_count": 6
        },
        {
          "output_type": "display_data",
          "data": {
            "image/png": "[encoded data removed]",
            "text/plain": [
              "<Figure size 432x288 with 1 Axes>"
            ]
          },
          "metadata": {
            "tags": []
          }
        }
      ]
    },
    {
      "cell_type": "code",
      "metadata": {
        "colab": {
          "base_uri": "https://localhost:8080/",
          "height": 204
        },
        "id": "wqZpHprSlm_U",
        "outputId": "951af095-b049-43c6-8749-69dd0aa0264a"
      },
      "source": [
        "df['response']=df['response'].str.replace('@USER', \"\") \n",
        "df['response']=df['response'].str.replace('\\d+', '')\n",
        "df['response']=df['response'].str.lower()\n",
        "df['response']=df['response'].str.replace('[^\\w\\s]','')\n",
        "\n",
        "df['context']=df['context'].apply(lambda x: ','.join(map(str, x)))\n",
        "df['context']=df['context'].str.replace('@USER', \"\") \n",
        "df['context']=df['context'].str.lower()\n",
        "df['context']=df['context'].str.replace('[^\\w\\s]','')\n",
        "df['context']=df['context'].str.replace('\\d+', '')\n",
        "\n",
        "df.head()"
      ],
      "execution_count": 7,
      "outputs": [
        {
          "output_type": "execute_result",
          "data": {
            "text/html": [
              "<div>\n",
              "<style scoped>\n",
              "    .dataframe tbody tr th:only-of-type {\n",
              "        vertical-align: middle;\n",
              "    }\n",
              "\n",
              "    .dataframe tbody tr th {\n",
              "        vertical-align: top;\n",
              "    }\n",
              "\n",
              "    .dataframe thead th {\n",
              "        text-align: right;\n",
              "    }\n",
              "</style>\n",
              "<table border=\"1\" class=\"dataframe\">\n",
              "  <thead>\n",
              "    <tr style=\"text-align: right;\">\n",
              "      <th></th>\n",
              "      <th>label</th>\n",
              "      <th>response</th>\n",
              "      <th>context</th>\n",
              "    </tr>\n",
              "  </thead>\n",
              "  <tbody>\n",
              "    <tr>\n",
              "      <th>0</th>\n",
              "      <td>SARCASM</td>\n",
              "      <td>i dont get this  obviously you do care or y...</td>\n",
              "      <td>a minor child deserves privacy and should be k...</td>\n",
              "    </tr>\n",
              "    <tr>\n",
              "      <th>1</th>\n",
              "      <td>SARCASM</td>\n",
              "      <td>trying to protest about  talking about him a...</td>\n",
              "      <td>why is he a loser  hes just a press secretar...</td>\n",
              "    </tr>\n",
              "    <tr>\n",
              "      <th>2</th>\n",
              "      <td>SARCASM</td>\n",
              "      <td>he makes an insane about of money from the ...</td>\n",
              "      <td>donald j  trump is guilty as charged  the evid...</td>\n",
              "    </tr>\n",
              "    <tr>\n",
              "      <th>3</th>\n",
              "      <td>SARCASM</td>\n",
              "      <td>meanwhile trump wont even release his sat sc...</td>\n",
              "      <td>jamie raskin tanked doug collins  collins look...</td>\n",
              "    </tr>\n",
              "    <tr>\n",
              "      <th>4</th>\n",
              "      <td>SARCASM</td>\n",
              "      <td>pretty sure the antilincoln crowd claimed th...</td>\n",
              "      <td>man  y  all gone  both sides  the apocalypse o...</td>\n",
              "    </tr>\n",
              "  </tbody>\n",
              "</table>\n",
              "</div>"
            ],
            "text/plain": [
              "     label  ...                                            context\n",
              "0  SARCASM  ...  a minor child deserves privacy and should be k...\n",
              "1  SARCASM  ...    why is he a loser  hes just a press secretar...\n",
              "2  SARCASM  ...  donald j  trump is guilty as charged  the evid...\n",
              "3  SARCASM  ...  jamie raskin tanked doug collins  collins look...\n",
              "4  SARCASM  ...  man  y  all gone  both sides  the apocalypse o...\n",
              "\n",
              "[5 rows x 3 columns]"
            ]
          },
          "metadata": {
            "tags": []
          },
          "execution_count": 7
        }
      ]
    },
    {
      "cell_type": "code",
      "metadata": {
        "id": "WhyKRlcIlc4k"
      },
      "source": [
        "X=df['response'].values\n",
        "y=df['label'].values"
      ],
      "execution_count": 8,
      "outputs": []
    },
    {
      "cell_type": "code",
      "metadata": {
        "colab": {
          "base_uri": "https://localhost:8080/"
        },
        "id": "ZigEqYz8oe7I",
        "outputId": "e1ca1e77-0664-4873-9f0f-0b6102d9345b"
      },
      "source": [
        "y = pd.get_dummies(df['label'])\n",
        "y = y.iloc[:,1].values\n",
        "y"
      ],
      "execution_count": 9,
      "outputs": [
        {
          "output_type": "execute_result",
          "data": {
            "text/plain": [
              "array([1, 1, 1, ..., 0, 0, 0], dtype=uint8)"
            ]
          },
          "metadata": {
            "tags": []
          },
          "execution_count": 9
        }
      ]
    },
    {
      "cell_type": "code",
      "metadata": {
        "id": "3TSttLBAmf9e"
      },
      "source": [
        "from sklearn.model_selection import train_test_split\n",
        "X_train, X_test, y_train, y_test = train_test_split(X, y, test_size=0.2, random_state=0)"
      ],
      "execution_count": 10,
      "outputs": []
    },
    {
      "cell_type": "code",
      "metadata": {
        "id": "8mk5E46vj62F"
      },
      "source": [
        "vocab_size=10000\n",
        "embedding_dim=16\n",
        "max_length=32\n",
        "trunc_type='post'\n",
        "padding_type='post'\n",
        "oov_tok='<oov>'"
      ],
      "execution_count": 11,
      "outputs": []
    },
    {
      "cell_type": "code",
      "metadata": {
        "id": "mtjLq5klmoqt"
      },
      "source": [
        "from tensorflow.keras.preprocessing.text import Tokenizer\n",
        "from tensorflow.keras.preprocessing.sequence import pad_sequences\n",
        "\n",
        "tokenizer= Tokenizer(num_words=vocab_size, oov_token=oov_tok)\n",
        "tokenizer.fit_on_texts(X_train)\n",
        "\n",
        "word_index=tokenizer.word_index\n",
        "\n",
        "training_sequences=tokenizer.texts_to_sequences(X_train)\n",
        "training_padded=pad_sequences(training_sequences, maxlen=max_length, padding=padding_type, truncating=trunc_type)\n",
        "\n",
        "testing_sequences=tokenizer.texts_to_sequences(X_test)\n",
        "testing_padded=pad_sequences(testing_sequences, maxlen=max_length, padding=padding_type, truncating=trunc_type)"
      ],
      "execution_count": 12,
      "outputs": []
    },
    {
      "cell_type": "code",
      "metadata": {
        "colab": {
          "base_uri": "https://localhost:8080/"
        },
        "id": "79-S9XjWmsAJ",
        "outputId": "f34abfae-365b-4699-9464-9ce85cf1d7a6"
      },
      "source": [
        "training_padded"
      ],
      "execution_count": 13,
      "outputs": [
        {
          "output_type": "execute_result",
          "data": {
            "text/plain": [
              "array([[  89, 3205,   22, ...,    0,    0,    0],\n",
              "       [  26, 2422,    8, ...,    0,    0,    0],\n",
              "       [   2, 4930,  209, ...,    0,    0,    0],\n",
              "       ...,\n",
              "       [ 529,  246,   84, ...,    0,    0,    0],\n",
              "       [  25,  315,    9, ...,    0,    0,    0],\n",
              "       [ 984,   19,   84, ...,    0,    0,    0]], dtype=int32)"
            ]
          },
          "metadata": {
            "tags": []
          },
          "execution_count": 13
        }
      ]
    },
    {
      "cell_type": "code",
      "metadata": {
        "colab": {
          "base_uri": "https://localhost:8080/"
        },
        "id": "VUrAgZlim2Jd",
        "outputId": "938663f1-ffd9-4794-fc01-678fa74dfaa4"
      },
      "source": [
        "print(training_padded.shape)\n",
        "print(testing_padded.shape)"
      ],
      "execution_count": 14,
      "outputs": [
        {
          "output_type": "stream",
          "text": [
            "(4000, 32)\n",
            "(1000, 32)\n"
          ],
          "name": "stdout"
        }
      ]
    },
    {
      "cell_type": "code",
      "metadata": {
        "id": "5uJUX5g7ngFQ"
      },
      "source": [
        "import tensorflow as tf\n",
        "from tensorflow.keras.models import Sequential\n",
        "from tensorflow.keras.layers import Dense, Dropout, Embedding, Flatten\n",
        "from sklearn.metrics import f1_score\n",
        "from sklearn.metrics import confusion_matrix"
      ],
      "execution_count": 15,
      "outputs": []
    },
    {
      "cell_type": "code",
      "metadata": {
        "id": "lhBOvc6XiB11"
      },
      "source": [
        "from keras.models import Sequential\n",
        "from keras.models import Model, load_model\n",
        "from keras.layers import Input, Dense, Embedding, Conv1D, MaxPooling1D, Flatten, LSTM\n",
        "from keras import optimizers"
      ],
      "execution_count": 18,
      "outputs": []
    },
    {
      "cell_type": "code",
      "metadata": {
        "colab": {
          "base_uri": "https://localhost:8080/"
        },
        "id": "Xg_VHdE-h6X8",
        "outputId": "d0541db8-7a1f-48e2-9e53-02b0f40c1aa5"
      },
      "source": [
        "input_data = Input(shape=(max_length,), name='main_input')\n",
        "embedding_layer = Embedding(vocab_size, embedding_dim, input_length=max_length)(input_data)\n",
        "x = LSTM(64, dropout=0.2, recurrent_dropout=0.25)(embedding_layer)\n",
        "x = Dense(128, activation=\"relu\")(x)\n",
        "dense = Dense(100, activation='relu', name='fully_connected')(x)\n",
        "out = Dense(1, activation='sigmoid')(dense)\n",
        "\n",
        "model = Model(inputs=[input_data], outputs=[out])\n",
        "\n",
        "print(model.summary())"
      ],
      "execution_count": 22,
      "outputs": [
        {
          "output_type": "stream",
          "text": [
            "Model: \"model\"\n",
            "_________________________________________________________________\n",
            "Layer (type)                 Output Shape              Param #   \n",
            "=================================================================\n",
            "main_input (InputLayer)      [(None, 32)]              0         \n",
            "_________________________________________________________________\n",
            "embedding_4 (Embedding)      (None, 32, 16)            160000    \n",
            "_________________________________________________________________\n",
            "lstm_2 (LSTM)                (None, 64)                20736     \n",
            "_________________________________________________________________\n",
            "dense_1 (Dense)              (None, 128)               8320      \n",
            "_________________________________________________________________\n",
            "fully_connected (Dense)      (None, 100)               12900     \n",
            "_________________________________________________________________\n",
            "dense_2 (Dense)              (None, 1)                 101       \n",
            "=================================================================\n",
            "Total params: 202,057\n",
            "Trainable params: 202,057\n",
            "Non-trainable params: 0\n",
            "_________________________________________________________________\n",
            "None\n"
          ],
          "name": "stdout"
        }
      ]
    },
    {
      "cell_type": "code",
      "metadata": {
        "colab": {
          "base_uri": "https://localhost:8080/"
        },
        "id": "BMnOVdcGq0l1",
        "outputId": "2cc9d460-5d02-49b0-a5e7-4d286ae35adb"
      },
      "source": [
        "opt = tf.keras.optimizers.Adam(learning_rate=0.0001)\n",
        "model.compile(loss='binary_crossentropy', optimizer=opt, metrics=['accuracy'])\n",
        "\n",
        "model.fit(x=training_padded, y=y_train, batch_size=256, epochs=100, validation_data=(testing_padded, y_test), verbose=1)"
      ],
      "execution_count": 24,
      "outputs": [
        {
          "output_type": "stream",
          "text": [
            "Epoch 1/100\n",
            "16/16 [==============================] - 29s 199ms/step - loss: 0.6933 - accuracy: 0.5080 - val_loss: 0.6927 - val_accuracy: 0.5500\n",
            "Epoch 2/100\n",
            "16/16 [==============================] - 2s 111ms/step - loss: 0.6923 - accuracy: 0.5595 - val_loss: 0.6922 - val_accuracy: 0.5490\n",
            "Epoch 3/100\n",
            "16/16 [==============================] - 2s 110ms/step - loss: 0.6915 - accuracy: 0.5670 - val_loss: 0.6912 - val_accuracy: 0.5640\n",
            "Epoch 4/100\n",
            "16/16 [==============================] - 2s 109ms/step - loss: 0.6903 - accuracy: 0.5743 - val_loss: 0.6899 - val_accuracy: 0.5630\n",
            "Epoch 5/100\n",
            "16/16 [==============================] - 2s 109ms/step - loss: 0.6884 - accuracy: 0.5821 - val_loss: 0.6879 - val_accuracy: 0.5660\n",
            "Epoch 6/100\n",
            "16/16 [==============================] - 2s 109ms/step - loss: 0.6868 - accuracy: 0.5742 - val_loss: 0.6848 - val_accuracy: 0.5790\n",
            "Epoch 7/100\n",
            "16/16 [==============================] - 2s 110ms/step - loss: 0.6808 - accuracy: 0.5980 - val_loss: 0.6787 - val_accuracy: 0.5920\n",
            "Epoch 8/100\n",
            "16/16 [==============================] - 2s 115ms/step - loss: 0.6736 - accuracy: 0.6144 - val_loss: 0.6705 - val_accuracy: 0.6000\n",
            "Epoch 9/100\n",
            "16/16 [==============================] - 2s 110ms/step - loss: 0.6661 - accuracy: 0.6174 - val_loss: 0.6631 - val_accuracy: 0.6020\n",
            "Epoch 10/100\n",
            "16/16 [==============================] - 2s 106ms/step - loss: 0.6491 - accuracy: 0.6305 - val_loss: 0.6605 - val_accuracy: 0.6070\n",
            "Epoch 11/100\n",
            "16/16 [==============================] - 2s 107ms/step - loss: 0.6337 - accuracy: 0.6419 - val_loss: 0.6545 - val_accuracy: 0.6220\n",
            "Epoch 12/100\n",
            "16/16 [==============================] - 2s 107ms/step - loss: 0.6129 - accuracy: 0.6643 - val_loss: 0.6460 - val_accuracy: 0.6400\n",
            "Epoch 13/100\n",
            "16/16 [==============================] - 2s 114ms/step - loss: 0.5570 - accuracy: 0.7196 - val_loss: 0.6396 - val_accuracy: 0.6500\n",
            "Epoch 14/100\n",
            "16/16 [==============================] - 2s 109ms/step - loss: 0.5250 - accuracy: 0.7432 - val_loss: 0.6247 - val_accuracy: 0.6570\n",
            "Epoch 15/100\n",
            "16/16 [==============================] - 2s 112ms/step - loss: 0.4980 - accuracy: 0.7699 - val_loss: 0.6333 - val_accuracy: 0.6470\n",
            "Epoch 16/100\n",
            "16/16 [==============================] - 2s 109ms/step - loss: 0.4612 - accuracy: 0.7928 - val_loss: 0.6182 - val_accuracy: 0.6590\n",
            "Epoch 17/100\n",
            "16/16 [==============================] - 2s 109ms/step - loss: 0.4372 - accuracy: 0.8012 - val_loss: 0.6185 - val_accuracy: 0.6670\n",
            "Epoch 18/100\n",
            "16/16 [==============================] - 2s 109ms/step - loss: 0.3962 - accuracy: 0.8371 - val_loss: 0.6291 - val_accuracy: 0.6820\n",
            "Epoch 19/100\n",
            "16/16 [==============================] - 2s 113ms/step - loss: 0.3629 - accuracy: 0.8465 - val_loss: 0.6226 - val_accuracy: 0.6780\n",
            "Epoch 20/100\n",
            "16/16 [==============================] - 2s 108ms/step - loss: 0.3467 - accuracy: 0.8573 - val_loss: 0.6455 - val_accuracy: 0.6880\n",
            "Epoch 21/100\n",
            "16/16 [==============================] - 2s 110ms/step - loss: 0.3319 - accuracy: 0.8657 - val_loss: 0.6496 - val_accuracy: 0.6920\n",
            "Epoch 22/100\n",
            "16/16 [==============================] - 2s 110ms/step - loss: 0.3122 - accuracy: 0.8744 - val_loss: 0.6547 - val_accuracy: 0.6950\n",
            "Epoch 23/100\n",
            "16/16 [==============================] - 2s 111ms/step - loss: 0.2963 - accuracy: 0.8793 - val_loss: 0.6669 - val_accuracy: 0.6970\n",
            "Epoch 24/100\n",
            "16/16 [==============================] - 2s 109ms/step - loss: 0.2701 - accuracy: 0.8911 - val_loss: 0.6756 - val_accuracy: 0.6970\n",
            "Epoch 25/100\n",
            "16/16 [==============================] - 2s 114ms/step - loss: 0.2533 - accuracy: 0.9039 - val_loss: 0.6891 - val_accuracy: 0.6990\n",
            "Epoch 26/100\n",
            "16/16 [==============================] - 2s 112ms/step - loss: 0.2485 - accuracy: 0.9067 - val_loss: 0.6959 - val_accuracy: 0.6960\n",
            "Epoch 27/100\n",
            "16/16 [==============================] - 2s 110ms/step - loss: 0.2245 - accuracy: 0.9146 - val_loss: 0.6996 - val_accuracy: 0.6950\n",
            "Epoch 28/100\n",
            "16/16 [==============================] - 2s 109ms/step - loss: 0.2083 - accuracy: 0.9207 - val_loss: 0.7218 - val_accuracy: 0.6960\n",
            "Epoch 29/100\n",
            "16/16 [==============================] - 2s 109ms/step - loss: 0.2101 - accuracy: 0.9239 - val_loss: 0.7170 - val_accuracy: 0.6930\n",
            "Epoch 30/100\n",
            "16/16 [==============================] - 2s 109ms/step - loss: 0.1979 - accuracy: 0.9263 - val_loss: 0.7695 - val_accuracy: 0.6930\n",
            "Epoch 31/100\n",
            "16/16 [==============================] - 2s 111ms/step - loss: 0.1693 - accuracy: 0.9397 - val_loss: 0.7890 - val_accuracy: 0.7000\n",
            "Epoch 32/100\n",
            "16/16 [==============================] - 2s 110ms/step - loss: 0.1704 - accuracy: 0.9355 - val_loss: 0.7675 - val_accuracy: 0.6990\n",
            "Epoch 33/100\n",
            "16/16 [==============================] - 2s 108ms/step - loss: 0.1634 - accuracy: 0.9381 - val_loss: 0.8036 - val_accuracy: 0.6940\n",
            "Epoch 34/100\n",
            "16/16 [==============================] - 2s 110ms/step - loss: 0.1554 - accuracy: 0.9401 - val_loss: 0.8230 - val_accuracy: 0.6970\n",
            "Epoch 35/100\n",
            "16/16 [==============================] - 2s 109ms/step - loss: 0.1414 - accuracy: 0.9459 - val_loss: 0.8566 - val_accuracy: 0.6930\n",
            "Epoch 36/100\n",
            "16/16 [==============================] - 2s 112ms/step - loss: 0.1506 - accuracy: 0.9395 - val_loss: 0.9038 - val_accuracy: 0.6890\n",
            "Epoch 37/100\n",
            "16/16 [==============================] - 2s 111ms/step - loss: 0.1391 - accuracy: 0.9505 - val_loss: 0.8766 - val_accuracy: 0.6930\n",
            "Epoch 38/100\n",
            "16/16 [==============================] - 2s 111ms/step - loss: 0.1179 - accuracy: 0.9582 - val_loss: 0.9354 - val_accuracy: 0.6900\n",
            "Epoch 39/100\n",
            "16/16 [==============================] - 2s 111ms/step - loss: 0.1138 - accuracy: 0.9617 - val_loss: 0.9036 - val_accuracy: 0.6960\n",
            "Epoch 40/100\n",
            "16/16 [==============================] - 2s 110ms/step - loss: 0.1225 - accuracy: 0.9570 - val_loss: 0.9053 - val_accuracy: 0.6940\n",
            "Epoch 41/100\n",
            "16/16 [==============================] - 2s 113ms/step - loss: 0.1077 - accuracy: 0.9611 - val_loss: 0.9395 - val_accuracy: 0.6870\n",
            "Epoch 42/100\n",
            "16/16 [==============================] - 2s 111ms/step - loss: 0.1193 - accuracy: 0.9555 - val_loss: 0.9241 - val_accuracy: 0.6930\n",
            "Epoch 43/100\n",
            "16/16 [==============================] - 2s 110ms/step - loss: 0.1035 - accuracy: 0.9632 - val_loss: 1.0020 - val_accuracy: 0.6960\n",
            "Epoch 44/100\n",
            "16/16 [==============================] - 2s 110ms/step - loss: 0.0991 - accuracy: 0.9637 - val_loss: 1.0249 - val_accuracy: 0.6900\n",
            "Epoch 45/100\n",
            "16/16 [==============================] - 2s 110ms/step - loss: 0.0889 - accuracy: 0.9682 - val_loss: 1.0588 - val_accuracy: 0.6870\n",
            "Epoch 46/100\n",
            "16/16 [==============================] - 2s 109ms/step - loss: 0.0991 - accuracy: 0.9627 - val_loss: 1.0216 - val_accuracy: 0.6850\n",
            "Epoch 47/100\n",
            "16/16 [==============================] - 2s 114ms/step - loss: 0.0924 - accuracy: 0.9648 - val_loss: 0.9996 - val_accuracy: 0.6870\n",
            "Epoch 48/100\n",
            "16/16 [==============================] - 2s 110ms/step - loss: 0.0895 - accuracy: 0.9699 - val_loss: 1.0313 - val_accuracy: 0.6920\n",
            "Epoch 49/100\n",
            "16/16 [==============================] - 2s 112ms/step - loss: 0.0766 - accuracy: 0.9760 - val_loss: 1.1009 - val_accuracy: 0.6910\n",
            "Epoch 50/100\n",
            "16/16 [==============================] - 2s 109ms/step - loss: 0.0755 - accuracy: 0.9710 - val_loss: 1.0654 - val_accuracy: 0.6890\n",
            "Epoch 51/100\n",
            "16/16 [==============================] - 2s 110ms/step - loss: 0.0735 - accuracy: 0.9743 - val_loss: 1.0775 - val_accuracy: 0.6820\n",
            "Epoch 52/100\n",
            "16/16 [==============================] - 2s 109ms/step - loss: 0.0785 - accuracy: 0.9728 - val_loss: 1.0619 - val_accuracy: 0.6950\n",
            "Epoch 53/100\n",
            "16/16 [==============================] - 2s 114ms/step - loss: 0.0639 - accuracy: 0.9784 - val_loss: 1.1531 - val_accuracy: 0.6860\n",
            "Epoch 54/100\n",
            "16/16 [==============================] - 2s 111ms/step - loss: 0.0574 - accuracy: 0.9813 - val_loss: 1.1270 - val_accuracy: 0.6870\n",
            "Epoch 55/100\n",
            "16/16 [==============================] - 2s 113ms/step - loss: 0.0627 - accuracy: 0.9770 - val_loss: 1.1516 - val_accuracy: 0.6830\n",
            "Epoch 56/100\n",
            "16/16 [==============================] - 2s 111ms/step - loss: 0.0606 - accuracy: 0.9787 - val_loss: 1.2192 - val_accuracy: 0.6820\n",
            "Epoch 57/100\n",
            "16/16 [==============================] - 2s 111ms/step - loss: 0.0716 - accuracy: 0.9736 - val_loss: 1.1988 - val_accuracy: 0.6900\n",
            "Epoch 58/100\n",
            "16/16 [==============================] - 2s 112ms/step - loss: 0.0547 - accuracy: 0.9808 - val_loss: 1.2327 - val_accuracy: 0.6880\n",
            "Epoch 59/100\n",
            "16/16 [==============================] - 2s 112ms/step - loss: 0.0564 - accuracy: 0.9792 - val_loss: 1.1972 - val_accuracy: 0.6850\n",
            "Epoch 60/100\n",
            "16/16 [==============================] - 2s 110ms/step - loss: 0.0500 - accuracy: 0.9817 - val_loss: 1.3030 - val_accuracy: 0.6850\n",
            "Epoch 61/100\n",
            "16/16 [==============================] - 2s 108ms/step - loss: 0.0452 - accuracy: 0.9858 - val_loss: 1.2838 - val_accuracy: 0.6810\n",
            "Epoch 62/100\n",
            "16/16 [==============================] - 2s 108ms/step - loss: 0.0477 - accuracy: 0.9839 - val_loss: 1.2718 - val_accuracy: 0.6840\n",
            "Epoch 63/100\n",
            "16/16 [==============================] - 2s 110ms/step - loss: 0.0406 - accuracy: 0.9855 - val_loss: 1.2683 - val_accuracy: 0.6850\n",
            "Epoch 64/100\n",
            "16/16 [==============================] - 2s 110ms/step - loss: 0.0516 - accuracy: 0.9819 - val_loss: 1.2999 - val_accuracy: 0.6840\n",
            "Epoch 65/100\n",
            "16/16 [==============================] - 2s 112ms/step - loss: 0.0500 - accuracy: 0.9821 - val_loss: 1.3181 - val_accuracy: 0.6830\n",
            "Epoch 66/100\n",
            "16/16 [==============================] - 2s 111ms/step - loss: 0.0424 - accuracy: 0.9850 - val_loss: 1.3417 - val_accuracy: 0.6840\n",
            "Epoch 67/100\n",
            "16/16 [==============================] - 2s 110ms/step - loss: 0.0392 - accuracy: 0.9862 - val_loss: 1.4289 - val_accuracy: 0.6880\n",
            "Epoch 68/100\n",
            "16/16 [==============================] - 2s 109ms/step - loss: 0.0435 - accuracy: 0.9856 - val_loss: 1.4008 - val_accuracy: 0.6860\n",
            "Epoch 69/100\n",
            "16/16 [==============================] - 2s 110ms/step - loss: 0.0410 - accuracy: 0.9861 - val_loss: 1.4024 - val_accuracy: 0.6900\n",
            "Epoch 70/100\n",
            "16/16 [==============================] - 2s 109ms/step - loss: 0.0391 - accuracy: 0.9863 - val_loss: 1.3528 - val_accuracy: 0.6860\n",
            "Epoch 71/100\n",
            "16/16 [==============================] - 2s 114ms/step - loss: 0.0385 - accuracy: 0.9865 - val_loss: 1.4172 - val_accuracy: 0.6840\n",
            "Epoch 72/100\n",
            "16/16 [==============================] - 2s 109ms/step - loss: 0.0400 - accuracy: 0.9846 - val_loss: 1.4480 - val_accuracy: 0.6840\n",
            "Epoch 73/100\n",
            "16/16 [==============================] - 2s 111ms/step - loss: 0.0390 - accuracy: 0.9881 - val_loss: 1.4138 - val_accuracy: 0.6870\n",
            "Epoch 74/100\n",
            "16/16 [==============================] - 2s 110ms/step - loss: 0.0329 - accuracy: 0.9880 - val_loss: 1.4084 - val_accuracy: 0.6870\n",
            "Epoch 75/100\n",
            "16/16 [==============================] - 2s 109ms/step - loss: 0.0451 - accuracy: 0.9827 - val_loss: 1.3836 - val_accuracy: 0.6890\n",
            "Epoch 76/100\n",
            "16/16 [==============================] - 2s 110ms/step - loss: 0.0341 - accuracy: 0.9877 - val_loss: 1.4428 - val_accuracy: 0.6880\n",
            "Epoch 77/100\n",
            "16/16 [==============================] - 2s 109ms/step - loss: 0.0374 - accuracy: 0.9857 - val_loss: 1.4709 - val_accuracy: 0.6870\n",
            "Epoch 78/100\n",
            "16/16 [==============================] - 2s 109ms/step - loss: 0.0273 - accuracy: 0.9899 - val_loss: 1.4470 - val_accuracy: 0.6920\n",
            "Epoch 79/100\n",
            "16/16 [==============================] - 2s 108ms/step - loss: 0.0366 - accuracy: 0.9857 - val_loss: 1.4584 - val_accuracy: 0.6870\n",
            "Epoch 80/100\n",
            "16/16 [==============================] - 2s 111ms/step - loss: 0.0273 - accuracy: 0.9902 - val_loss: 1.4483 - val_accuracy: 0.6890\n",
            "Epoch 81/100\n",
            "16/16 [==============================] - 2s 110ms/step - loss: 0.0274 - accuracy: 0.9929 - val_loss: 1.5065 - val_accuracy: 0.6930\n",
            "Epoch 82/100\n",
            "16/16 [==============================] - 2s 111ms/step - loss: 0.0286 - accuracy: 0.9884 - val_loss: 1.5382 - val_accuracy: 0.6930\n",
            "Epoch 83/100\n",
            "16/16 [==============================] - 2s 115ms/step - loss: 0.0393 - accuracy: 0.9854 - val_loss: 1.5400 - val_accuracy: 0.6900\n",
            "Epoch 84/100\n",
            "16/16 [==============================] - 2s 110ms/step - loss: 0.0262 - accuracy: 0.9915 - val_loss: 1.5522 - val_accuracy: 0.6900\n",
            "Epoch 85/100\n",
            "16/16 [==============================] - 2s 111ms/step - loss: 0.0215 - accuracy: 0.9930 - val_loss: 1.6417 - val_accuracy: 0.6840\n",
            "Epoch 86/100\n",
            "16/16 [==============================] - 2s 112ms/step - loss: 0.0286 - accuracy: 0.9904 - val_loss: 1.6429 - val_accuracy: 0.6880\n",
            "Epoch 87/100\n",
            "16/16 [==============================] - 2s 109ms/step - loss: 0.0217 - accuracy: 0.9943 - val_loss: 1.6308 - val_accuracy: 0.6920\n",
            "Epoch 88/100\n",
            "16/16 [==============================] - 2s 110ms/step - loss: 0.0195 - accuracy: 0.9926 - val_loss: 1.6467 - val_accuracy: 0.6880\n",
            "Epoch 89/100\n",
            "16/16 [==============================] - 2s 113ms/step - loss: 0.0302 - accuracy: 0.9894 - val_loss: 1.6487 - val_accuracy: 0.6880\n",
            "Epoch 90/100\n",
            "16/16 [==============================] - 2s 110ms/step - loss: 0.0187 - accuracy: 0.9950 - val_loss: 1.7161 - val_accuracy: 0.6900\n",
            "Epoch 91/100\n",
            "16/16 [==============================] - 2s 112ms/step - loss: 0.0229 - accuracy: 0.9935 - val_loss: 1.7185 - val_accuracy: 0.6920\n",
            "Epoch 92/100\n",
            "16/16 [==============================] - 2s 110ms/step - loss: 0.0250 - accuracy: 0.9912 - val_loss: 1.6113 - val_accuracy: 0.6940\n",
            "Epoch 93/100\n",
            "16/16 [==============================] - 2s 113ms/step - loss: 0.0204 - accuracy: 0.9929 - val_loss: 1.6162 - val_accuracy: 0.6920\n",
            "Epoch 94/100\n",
            "16/16 [==============================] - 2s 112ms/step - loss: 0.0202 - accuracy: 0.9932 - val_loss: 1.6577 - val_accuracy: 0.6870\n",
            "Epoch 95/100\n",
            "16/16 [==============================] - 2s 111ms/step - loss: 0.0177 - accuracy: 0.9932 - val_loss: 1.6687 - val_accuracy: 0.6930\n",
            "Epoch 96/100\n",
            "16/16 [==============================] - 2s 111ms/step - loss: 0.0204 - accuracy: 0.9926 - val_loss: 1.6660 - val_accuracy: 0.6930\n",
            "Epoch 97/100\n",
            "16/16 [==============================] - 2s 113ms/step - loss: 0.0230 - accuracy: 0.9926 - val_loss: 1.7198 - val_accuracy: 0.6870\n",
            "Epoch 98/100\n",
            "16/16 [==============================] - 2s 109ms/step - loss: 0.0179 - accuracy: 0.9927 - val_loss: 1.7540 - val_accuracy: 0.6870\n",
            "Epoch 99/100\n",
            "16/16 [==============================] - 2s 111ms/step - loss: 0.0226 - accuracy: 0.9915 - val_loss: 1.7230 - val_accuracy: 0.6920\n",
            "Epoch 100/100\n",
            "16/16 [==============================] - 2s 112ms/step - loss: 0.0188 - accuracy: 0.9932 - val_loss: 1.7937 - val_accuracy: 0.6920\n"
          ],
          "name": "stdout"
        },
        {
          "output_type": "execute_result",
          "data": {
            "text/plain": [
              "<keras.callbacks.History at 0x7fa56df3c890>"
            ]
          },
          "metadata": {
            "tags": []
          },
          "execution_count": 24
        }
      ]
    },
    {
      "cell_type": "code",
      "metadata": {
        "colab": {
          "base_uri": "https://localhost:8080/",
          "height": 449
        },
        "id": "pPuxYm6nw78Z",
        "outputId": "4d76cd01-fc7d-49c6-9ffa-5aa4e93318d5"
      },
      "source": [
        "df_m=pd.DataFrame(model.history.history)\n",
        "df_m['Epoch']=range(1,101)\n",
        "df_m.index=df_m['Epoch']\n",
        "df_m"
      ],
      "execution_count": 26,
      "outputs": [
        {
          "output_type": "execute_result",
          "data": {
            "text/html": [
              "<div>\n",
              "<style scoped>\n",
              "    .dataframe tbody tr th:only-of-type {\n",
              "        vertical-align: middle;\n",
              "    }\n",
              "\n",
              "    .dataframe tbody tr th {\n",
              "        vertical-align: top;\n",
              "    }\n",
              "\n",
              "    .dataframe thead th {\n",
              "        text-align: right;\n",
              "    }\n",
              "</style>\n",
              "<table border=\"1\" class=\"dataframe\">\n",
              "  <thead>\n",
              "    <tr style=\"text-align: right;\">\n",
              "      <th></th>\n",
              "      <th>loss</th>\n",
              "      <th>accuracy</th>\n",
              "      <th>val_loss</th>\n",
              "      <th>val_accuracy</th>\n",
              "      <th>Epoch</th>\n",
              "    </tr>\n",
              "    <tr>\n",
              "      <th>Epoch</th>\n",
              "      <th></th>\n",
              "      <th></th>\n",
              "      <th></th>\n",
              "      <th></th>\n",
              "      <th></th>\n",
              "    </tr>\n",
              "  </thead>\n",
              "  <tbody>\n",
              "    <tr>\n",
              "      <th>1</th>\n",
              "      <td>0.693087</td>\n",
              "      <td>0.52700</td>\n",
              "      <td>0.692701</td>\n",
              "      <td>0.550</td>\n",
              "      <td>1</td>\n",
              "    </tr>\n",
              "    <tr>\n",
              "      <th>2</th>\n",
              "      <td>0.692095</td>\n",
              "      <td>0.56450</td>\n",
              "      <td>0.692151</td>\n",
              "      <td>0.549</td>\n",
              "      <td>2</td>\n",
              "    </tr>\n",
              "    <tr>\n",
              "      <th>3</th>\n",
              "      <td>0.691188</td>\n",
              "      <td>0.57275</td>\n",
              "      <td>0.691189</td>\n",
              "      <td>0.564</td>\n",
              "      <td>3</td>\n",
              "    </tr>\n",
              "    <tr>\n",
              "      <th>4</th>\n",
              "      <td>0.689949</td>\n",
              "      <td>0.57425</td>\n",
              "      <td>0.689904</td>\n",
              "      <td>0.563</td>\n",
              "      <td>4</td>\n",
              "    </tr>\n",
              "    <tr>\n",
              "      <th>5</th>\n",
              "      <td>0.688120</td>\n",
              "      <td>0.57850</td>\n",
              "      <td>0.687935</td>\n",
              "      <td>0.566</td>\n",
              "      <td>5</td>\n",
              "    </tr>\n",
              "    <tr>\n",
              "      <th>...</th>\n",
              "      <td>...</td>\n",
              "      <td>...</td>\n",
              "      <td>...</td>\n",
              "      <td>...</td>\n",
              "      <td>...</td>\n",
              "    </tr>\n",
              "    <tr>\n",
              "      <th>96</th>\n",
              "      <td>0.020294</td>\n",
              "      <td>0.99250</td>\n",
              "      <td>1.666007</td>\n",
              "      <td>0.693</td>\n",
              "      <td>96</td>\n",
              "    </tr>\n",
              "    <tr>\n",
              "      <th>97</th>\n",
              "      <td>0.018813</td>\n",
              "      <td>0.99425</td>\n",
              "      <td>1.719793</td>\n",
              "      <td>0.687</td>\n",
              "      <td>97</td>\n",
              "    </tr>\n",
              "    <tr>\n",
              "      <th>98</th>\n",
              "      <td>0.018735</td>\n",
              "      <td>0.99300</td>\n",
              "      <td>1.754027</td>\n",
              "      <td>0.687</td>\n",
              "      <td>98</td>\n",
              "    </tr>\n",
              "    <tr>\n",
              "      <th>99</th>\n",
              "      <td>0.022965</td>\n",
              "      <td>0.99125</td>\n",
              "      <td>1.723048</td>\n",
              "      <td>0.692</td>\n",
              "      <td>99</td>\n",
              "    </tr>\n",
              "    <tr>\n",
              "      <th>100</th>\n",
              "      <td>0.018827</td>\n",
              "      <td>0.99400</td>\n",
              "      <td>1.793653</td>\n",
              "      <td>0.692</td>\n",
              "      <td>100</td>\n",
              "    </tr>\n",
              "  </tbody>\n",
              "</table>\n",
              "<p>100 rows × 5 columns</p>\n",
              "</div>"
            ],
            "text/plain": [
              "           loss  accuracy  val_loss  val_accuracy  Epoch\n",
              "Epoch                                                   \n",
              "1      0.693087   0.52700  0.692701         0.550      1\n",
              "2      0.692095   0.56450  0.692151         0.549      2\n",
              "3      0.691188   0.57275  0.691189         0.564      3\n",
              "4      0.689949   0.57425  0.689904         0.563      4\n",
              "5      0.688120   0.57850  0.687935         0.566      5\n",
              "...         ...       ...       ...           ...    ...\n",
              "96     0.020294   0.99250  1.666007         0.693     96\n",
              "97     0.018813   0.99425  1.719793         0.687     97\n",
              "98     0.018735   0.99300  1.754027         0.687     98\n",
              "99     0.022965   0.99125  1.723048         0.692     99\n",
              "100    0.018827   0.99400  1.793653         0.692    100\n",
              "\n",
              "[100 rows x 5 columns]"
            ]
          },
          "metadata": {
            "tags": []
          },
          "execution_count": 26
        }
      ]
    },
    {
      "cell_type": "code",
      "metadata": {
        "colab": {
          "base_uri": "https://localhost:8080/",
          "height": 295
        },
        "id": "U64Yw1gfzDgc",
        "outputId": "1d60b640-12f7-48da-ebba-d36fb3bdd22a"
      },
      "source": [
        "#Loss Graph(Training and Validation)\n",
        "#fig= plt.figure(figsize=(15,10))\n",
        "plt.plot(df_m['loss'])\n",
        "plt.plot(df_m['val_loss'])\n",
        "plt.title('model loss')\n",
        "plt.ylabel('loss')\n",
        "plt.xlabel('epoch')\n",
        "plt.legend(['train_loss', 'val_loss'])\n",
        "plt.show()"
      ],
      "execution_count": 27,
      "outputs": [
        {
          "output_type": "display_data",
          "data": {
            "image/png": "[encoded data removed]",
            "text/plain": [
              "<Figure size 432x288 with 1 Axes>"
            ]
          },
          "metadata": {
            "tags": []
          }
        }
      ]
    },
    {
      "cell_type": "code",
      "metadata": {
        "colab": {
          "base_uri": "https://localhost:8080/",
          "height": 295
        },
        "id": "oXIoYDOw0oEC",
        "outputId": "a511d719-0986-4240-d7a6-df358400f34e"
      },
      "source": [
        "#fig= plt.figure(figsize=(15,10))\n",
        "plt.plot(df_m['accuracy'])\n",
        "plt.plot(df_m['val_accuracy'])\n",
        "plt.title('model accuracy')\n",
        "plt.ylabel('accuracy')\n",
        "plt.xlabel('epoch')\n",
        "plt.legend(['train_acc', 'val_acc'])\n",
        "plt.show()"
      ],
      "execution_count": 28,
      "outputs": [
        {
          "output_type": "display_data",
          "data": {
            "image/png": "[encoded data removed]",
            "text/plain": [
              "<Figure size 432x288 with 1 Axes>"
            ]
          },
          "metadata": {
            "tags": []
          }
        }
      ]
    }
  ]
}