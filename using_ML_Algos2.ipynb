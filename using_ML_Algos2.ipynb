{
  "nbformat": 4,
  "nbformat_minor": 0,
  "metadata": {
    "colab": {
      "name": "ML_Algos2.ipynb",
      "provenance": [],
      "collapsed_sections": []
    },
    "kernelspec": {
      "name": "python3",
      "display_name": "Python 3"
    },
    "language_info": {
      "name": "python"
    }
  },
  "cells": [
    {
      "cell_type": "code",
      "metadata": {
        "colab": {
          "base_uri": "https://localhost:8080/"
        },
        "id": "Jsx9_5rTQRPu",
        "outputId": "5423b537-eeec-4264-e9fc-ac82d8127296"
      },
      "source": [
        "!pip install jsonlines\n",
        "import jsonlines\n",
        "import tensorflow as tf\n",
        "\n",
        "from tensorflow.keras.preprocessing.text import Tokenizer\n",
        "from tensorflow.keras.preprocessing.sequence import pad_sequences"
      ],
      "execution_count": 1,
      "outputs": [
        {
          "output_type": "stream",
          "text": [
            "Collecting jsonlines\n",
            "  Downloading https://files.pythonhosted.org/packages/d4/58/06f430ff7607a2929f80f07bfd820acbc508a4e977542fefcc522cde9dff/jsonlines-2.0.0-py3-none-any.whl\n",
            "Installing collected packages: jsonlines\n",
            "Successfully installed jsonlines-2.0.0\n"
          ],
          "name": "stdout"
        }
      ]
    },
    {
      "cell_type": "code",
      "metadata": {
        "id": "iwks4TrpcK0r"
      },
      "source": [
        "import pandas as pd\n",
        "import numpy as np\n"
      ],
      "execution_count": 2,
      "outputs": []
    },
    {
      "cell_type": "code",
      "metadata": {
        "id": "8naqqAOSbm67"
      },
      "source": [
        "url = 'https://raw.githubusercontent.com/AmbujaBudakoti27/Sarcasm-Detection/main/sarcasm_detection_shared_task_twitter_training.jsonl'\n",
        "twitter_train=pd.read_json(url,lines=True)"
      ],
      "execution_count": 4,
      "outputs": []
    },
    {
      "cell_type": "code",
      "metadata": {
        "colab": {
          "base_uri": "https://localhost:8080/",
          "height": 204
        },
        "id": "AnFXquRhcJeg",
        "outputId": "a63baf7e-3e4d-47a6-c41a-f0be2f166d0e"
      },
      "source": [
        "twitter_train.head()"
      ],
      "execution_count": null,
      "outputs": [
        {
          "output_type": "execute_result",
          "data": {
            "text/html": [
              "<div>\n",
              "<style scoped>\n",
              "    .dataframe tbody tr th:only-of-type {\n",
              "        vertical-align: middle;\n",
              "    }\n",
              "\n",
              "    .dataframe tbody tr th {\n",
              "        vertical-align: top;\n",
              "    }\n",
              "\n",
              "    .dataframe thead th {\n",
              "        text-align: right;\n",
              "    }\n",
              "</style>\n",
              "<table border=\"1\" class=\"dataframe\">\n",
              "  <thead>\n",
              "    <tr style=\"text-align: right;\">\n",
              "      <th></th>\n",
              "      <th>label</th>\n",
              "      <th>response</th>\n",
              "      <th>context</th>\n",
              "    </tr>\n",
              "  </thead>\n",
              "  <tbody>\n",
              "    <tr>\n",
              "      <th>0</th>\n",
              "      <td>SARCASM</td>\n",
              "      <td>@USER @USER @USER I don't get this .. obviousl...</td>\n",
              "      <td>[A minor child deserves privacy and should be ...</td>\n",
              "    </tr>\n",
              "    <tr>\n",
              "      <th>1</th>\n",
              "      <td>SARCASM</td>\n",
              "      <td>@USER @USER trying to protest about . Talking ...</td>\n",
              "      <td>[@USER @USER Why is he a loser ? He's just a P...</td>\n",
              "    </tr>\n",
              "    <tr>\n",
              "      <th>2</th>\n",
              "      <td>SARCASM</td>\n",
              "      <td>@USER @USER @USER He makes an insane about of ...</td>\n",
              "      <td>[Donald J . Trump is guilty as charged . The e...</td>\n",
              "    </tr>\n",
              "    <tr>\n",
              "      <th>3</th>\n",
              "      <td>SARCASM</td>\n",
              "      <td>@USER @USER Meanwhile Trump won't even release...</td>\n",
              "      <td>[Jamie Raskin tanked Doug Collins . Collins lo...</td>\n",
              "    </tr>\n",
              "    <tr>\n",
              "      <th>4</th>\n",
              "      <td>SARCASM</td>\n",
              "      <td>@USER @USER Pretty Sure the Anti-Lincoln Crowd...</td>\n",
              "      <td>[Man ... y ’ all gone “ both sides ” the apoca...</td>\n",
              "    </tr>\n",
              "  </tbody>\n",
              "</table>\n",
              "</div>"
            ],
            "text/plain": [
              "     label  ...                                            context\n",
              "0  SARCASM  ...  [A minor child deserves privacy and should be ...\n",
              "1  SARCASM  ...  [@USER @USER Why is he a loser ? He's just a P...\n",
              "2  SARCASM  ...  [Donald J . Trump is guilty as charged . The e...\n",
              "3  SARCASM  ...  [Jamie Raskin tanked Doug Collins . Collins lo...\n",
              "4  SARCASM  ...  [Man ... y ’ all gone “ both sides ” the apoca...\n",
              "\n",
              "[5 rows x 3 columns]"
            ]
          },
          "metadata": {
            "tags": []
          },
          "execution_count": 6
        }
      ]
    },
    {
      "cell_type": "code",
      "metadata": {
        "id": "eFLV2t6_cxM0"
      },
      "source": [
        "twitter_train['response']=twitter_train['response'].str.replace('@USER', \"\") \n",
        "twitter_train['response']=twitter_train['response'].str.replace('\\d+', '')\n",
        "twitter_train['response']=twitter_train['response'].str.lower()\n",
        "twitter_train['response']=twitter_train['response'].str.replace('[^\\w\\s]','')"
      ],
      "execution_count": 5,
      "outputs": []
    },
    {
      "cell_type": "code",
      "metadata": {
        "colab": {
          "base_uri": "https://localhost:8080/",
          "height": 204
        },
        "id": "YZ_0LYIUc46s",
        "outputId": "a42d55a8-e30c-40d3-9bd3-2b74a3fb8fc8"
      },
      "source": [
        "twitter_train.head()"
      ],
      "execution_count": 6,
      "outputs": [
        {
          "output_type": "execute_result",
          "data": {
            "text/html": [
              "<div>\n",
              "<style scoped>\n",
              "    .dataframe tbody tr th:only-of-type {\n",
              "        vertical-align: middle;\n",
              "    }\n",
              "\n",
              "    .dataframe tbody tr th {\n",
              "        vertical-align: top;\n",
              "    }\n",
              "\n",
              "    .dataframe thead th {\n",
              "        text-align: right;\n",
              "    }\n",
              "</style>\n",
              "<table border=\"1\" class=\"dataframe\">\n",
              "  <thead>\n",
              "    <tr style=\"text-align: right;\">\n",
              "      <th></th>\n",
              "      <th>label</th>\n",
              "      <th>response</th>\n",
              "      <th>context</th>\n",
              "    </tr>\n",
              "  </thead>\n",
              "  <tbody>\n",
              "    <tr>\n",
              "      <th>0</th>\n",
              "      <td>SARCASM</td>\n",
              "      <td>i dont get this  obviously you do care or y...</td>\n",
              "      <td>[A minor child deserves privacy and should be ...</td>\n",
              "    </tr>\n",
              "    <tr>\n",
              "      <th>1</th>\n",
              "      <td>SARCASM</td>\n",
              "      <td>trying to protest about  talking about him a...</td>\n",
              "      <td>[@USER @USER Why is he a loser ? He's just a P...</td>\n",
              "    </tr>\n",
              "    <tr>\n",
              "      <th>2</th>\n",
              "      <td>SARCASM</td>\n",
              "      <td>he makes an insane about of money from the ...</td>\n",
              "      <td>[Donald J . Trump is guilty as charged . The e...</td>\n",
              "    </tr>\n",
              "    <tr>\n",
              "      <th>3</th>\n",
              "      <td>SARCASM</td>\n",
              "      <td>meanwhile trump wont even release his sat sc...</td>\n",
              "      <td>[Jamie Raskin tanked Doug Collins . Collins lo...</td>\n",
              "    </tr>\n",
              "    <tr>\n",
              "      <th>4</th>\n",
              "      <td>SARCASM</td>\n",
              "      <td>pretty sure the antilincoln crowd claimed th...</td>\n",
              "      <td>[Man ... y ’ all gone “ both sides ” the apoca...</td>\n",
              "    </tr>\n",
              "  </tbody>\n",
              "</table>\n",
              "</div>"
            ],
            "text/plain": [
              "     label  ...                                            context\n",
              "0  SARCASM  ...  [A minor child deserves privacy and should be ...\n",
              "1  SARCASM  ...  [@USER @USER Why is he a loser ? He's just a P...\n",
              "2  SARCASM  ...  [Donald J . Trump is guilty as charged . The e...\n",
              "3  SARCASM  ...  [Jamie Raskin tanked Doug Collins . Collins lo...\n",
              "4  SARCASM  ...  [Man ... y ’ all gone “ both sides ” the apoca...\n",
              "\n",
              "[5 rows x 3 columns]"
            ]
          },
          "metadata": {
            "tags": []
          },
          "execution_count": 6
        }
      ]
    },
    {
      "cell_type": "code",
      "metadata": {
        "id": "d-Yh-ngmc6mM"
      },
      "source": [
        "twitter_train['context']=twitter_train['context'].apply(lambda x: ','.join(map(str, x)))\n",
        "twitter_train['context']=twitter_train['context'].str.replace('@USER', \"\") \n",
        "twitter_train['context']=twitter_train['context'].str.lower()\n",
        "twitter_train['context']=twitter_train['context'].str.replace('[^\\w\\s]','')\n",
        "twitter_train['context']=twitter_train['context'].str.replace('\\d+', '')"
      ],
      "execution_count": 7,
      "outputs": []
    },
    {
      "cell_type": "code",
      "metadata": {
        "colab": {
          "base_uri": "https://localhost:8080/",
          "height": 204
        },
        "id": "ZmyJ4g-Fc-Wc",
        "outputId": "fe919101-a13a-436d-c151-432fc6e4e563"
      },
      "source": [
        "twitter_train.head()"
      ],
      "execution_count": 8,
      "outputs": [
        {
          "output_type": "execute_result",
          "data": {
            "text/html": [
              "<div>\n",
              "<style scoped>\n",
              "    .dataframe tbody tr th:only-of-type {\n",
              "        vertical-align: middle;\n",
              "    }\n",
              "\n",
              "    .dataframe tbody tr th {\n",
              "        vertical-align: top;\n",
              "    }\n",
              "\n",
              "    .dataframe thead th {\n",
              "        text-align: right;\n",
              "    }\n",
              "</style>\n",
              "<table border=\"1\" class=\"dataframe\">\n",
              "  <thead>\n",
              "    <tr style=\"text-align: right;\">\n",
              "      <th></th>\n",
              "      <th>label</th>\n",
              "      <th>response</th>\n",
              "      <th>context</th>\n",
              "    </tr>\n",
              "  </thead>\n",
              "  <tbody>\n",
              "    <tr>\n",
              "      <th>0</th>\n",
              "      <td>SARCASM</td>\n",
              "      <td>i dont get this  obviously you do care or y...</td>\n",
              "      <td>a minor child deserves privacy and should be k...</td>\n",
              "    </tr>\n",
              "    <tr>\n",
              "      <th>1</th>\n",
              "      <td>SARCASM</td>\n",
              "      <td>trying to protest about  talking about him a...</td>\n",
              "      <td>why is he a loser  hes just a press secretar...</td>\n",
              "    </tr>\n",
              "    <tr>\n",
              "      <th>2</th>\n",
              "      <td>SARCASM</td>\n",
              "      <td>he makes an insane about of money from the ...</td>\n",
              "      <td>donald j  trump is guilty as charged  the evid...</td>\n",
              "    </tr>\n",
              "    <tr>\n",
              "      <th>3</th>\n",
              "      <td>SARCASM</td>\n",
              "      <td>meanwhile trump wont even release his sat sc...</td>\n",
              "      <td>jamie raskin tanked doug collins  collins look...</td>\n",
              "    </tr>\n",
              "    <tr>\n",
              "      <th>4</th>\n",
              "      <td>SARCASM</td>\n",
              "      <td>pretty sure the antilincoln crowd claimed th...</td>\n",
              "      <td>man  y  all gone  both sides  the apocalypse o...</td>\n",
              "    </tr>\n",
              "  </tbody>\n",
              "</table>\n",
              "</div>"
            ],
            "text/plain": [
              "     label  ...                                            context\n",
              "0  SARCASM  ...  a minor child deserves privacy and should be k...\n",
              "1  SARCASM  ...    why is he a loser  hes just a press secretar...\n",
              "2  SARCASM  ...  donald j  trump is guilty as charged  the evid...\n",
              "3  SARCASM  ...  jamie raskin tanked doug collins  collins look...\n",
              "4  SARCASM  ...  man  y  all gone  both sides  the apocalypse o...\n",
              "\n",
              "[5 rows x 3 columns]"
            ]
          },
          "metadata": {
            "tags": []
          },
          "execution_count": 8
        }
      ]
    },
    {
      "cell_type": "code",
      "metadata": {
        "colab": {
          "base_uri": "https://localhost:8080/",
          "height": 204
        },
        "id": "geQvm2EFdGdr",
        "outputId": "3f0b12c2-b5c0-47f7-d7f7-15b0842f86a1"
      },
      "source": [
        "twitter_train.tail()"
      ],
      "execution_count": 9,
      "outputs": [
        {
          "output_type": "execute_result",
          "data": {
            "text/html": [
              "<div>\n",
              "<style scoped>\n",
              "    .dataframe tbody tr th:only-of-type {\n",
              "        vertical-align: middle;\n",
              "    }\n",
              "\n",
              "    .dataframe tbody tr th {\n",
              "        vertical-align: top;\n",
              "    }\n",
              "\n",
              "    .dataframe thead th {\n",
              "        text-align: right;\n",
              "    }\n",
              "</style>\n",
              "<table border=\"1\" class=\"dataframe\">\n",
              "  <thead>\n",
              "    <tr style=\"text-align: right;\">\n",
              "      <th></th>\n",
              "      <th>label</th>\n",
              "      <th>response</th>\n",
              "      <th>context</th>\n",
              "    </tr>\n",
              "  </thead>\n",
              "  <tbody>\n",
              "    <tr>\n",
              "      <th>4995</th>\n",
              "      <td>NOT_SARCASM</td>\n",
              "      <td>you dont  i have purchased a lot on amazon  c...</td>\n",
              "      <td>apologies for the inconvenience you faced wit...</td>\n",
              "    </tr>\n",
              "    <tr>\n",
              "      <th>4996</th>\n",
              "      <td>NOT_SARCASM</td>\n",
              "      <td>emotions you say  never knew that i think i  ...</td>\n",
              "      <td>idk tho  i think i  m hungry  but that  s de...</td>\n",
              "    </tr>\n",
              "    <tr>\n",
              "      <th>4997</th>\n",
              "      <td>NOT_SARCASM</td>\n",
              "      <td>you are so right   yes  silence is not priv...</td>\n",
              "      <td>peace to you  and two countries certainly s...</td>\n",
              "    </tr>\n",
              "    <tr>\n",
              "      <th>4998</th>\n",
              "      <td>NOT_SARCASM</td>\n",
              "      <td>another lazy delusional voter who takes the...</td>\n",
              "      <td>bernie sanders told elizabeth warren in privat...</td>\n",
              "    </tr>\n",
              "    <tr>\n",
              "      <th>4999</th>\n",
              "      <td>NOT_SARCASM</td>\n",
              "      <td>i hope you know no news outlet from nigeria ...</td>\n",
              "      <td>pdp protest brainstorming session deji  we nee...</td>\n",
              "    </tr>\n",
              "  </tbody>\n",
              "</table>\n",
              "</div>"
            ],
            "text/plain": [
              "            label  ...                                            context\n",
              "4995  NOT_SARCASM  ...   apologies for the inconvenience you faced wit...\n",
              "4996  NOT_SARCASM  ...    idk tho  i think i  m hungry  but that  s de...\n",
              "4997  NOT_SARCASM  ...     peace to you  and two countries certainly s...\n",
              "4998  NOT_SARCASM  ...  bernie sanders told elizabeth warren in privat...\n",
              "4999  NOT_SARCASM  ...  pdp protest brainstorming session deji  we nee...\n",
              "\n",
              "[5 rows x 3 columns]"
            ]
          },
          "metadata": {
            "tags": []
          },
          "execution_count": 9
        }
      ]
    },
    {
      "cell_type": "code",
      "metadata": {
        "colab": {
          "base_uri": "https://localhost:8080/"
        },
        "id": "BXSubjtbdtcL",
        "outputId": "4281361d-9321-43d6-be1a-2f8e247f7455"
      },
      "source": [
        "from collections import Counter\n",
        "Counter(twitter_train['label'])"
      ],
      "execution_count": 10,
      "outputs": [
        {
          "output_type": "execute_result",
          "data": {
            "text/plain": [
              "Counter({'NOT_SARCASM': 2500, 'SARCASM': 2500})"
            ]
          },
          "metadata": {
            "tags": []
          },
          "execution_count": 10
        }
      ]
    },
    {
      "cell_type": "code",
      "metadata": {
        "colab": {
          "base_uri": "https://localhost:8080/"
        },
        "id": "PhwFhV63dUj_",
        "outputId": "38bf19a3-bb05-45d8-ec72-8c3ad6fd0038"
      },
      "source": [
        "import re\n",
        "import nltk\n",
        "nltk.download('stopwords')\n",
        "from nltk.corpus import stopwords\n",
        "corpus = []\n",
        "\n",
        "from nltk.stem.porter import PorterStemmer\n",
        "ps = PorterStemmer()\n",
        "\n",
        "for i in range(0, len(twitter_train)):\n",
        "  m = re.sub('[^a-zA-Z]', ' ', twitter_train[\"response\"][i])\n",
        "  m = m.lower()\n",
        "  m = m.split()\n",
        "  m = [ps.stem(word) for word in m if not word in stopwords.words('english')]\n",
        "  m =' '.join(m)\n",
        "  corpus.append(m)"
      ],
      "execution_count": 11,
      "outputs": [
        {
          "output_type": "stream",
          "text": [
            "[nltk_data] Downloading package stopwords to /root/nltk_data...\n",
            "[nltk_data]   Unzipping corpora/stopwords.zip.\n"
          ],
          "name": "stdout"
        }
      ]
    },
    {
      "cell_type": "code",
      "metadata": {
        "id": "gcTIgobjddkf"
      },
      "source": [
        "from sklearn.feature_extraction.text import CountVectorizer\n",
        "cv = CountVectorizer(max_features = 2500)\n",
        "X = cv.fit_transform(corpus).toarray()"
      ],
      "execution_count": 12,
      "outputs": []
    },
    {
      "cell_type": "code",
      "metadata": {
        "colab": {
          "base_uri": "https://localhost:8080/"
        },
        "id": "QrbgbyGweDIn",
        "outputId": "ae47f026-ed79-4690-f643-6c6fc1833a0b"
      },
      "source": [
        "X"
      ],
      "execution_count": 13,
      "outputs": [
        {
          "output_type": "execute_result",
          "data": {
            "text/plain": [
              "array([[0, 0, 0, ..., 0, 0, 0],\n",
              "       [0, 0, 0, ..., 0, 0, 0],\n",
              "       [0, 0, 0, ..., 0, 0, 0],\n",
              "       ...,\n",
              "       [0, 0, 0, ..., 0, 0, 0],\n",
              "       [0, 0, 0, ..., 0, 0, 0],\n",
              "       [0, 0, 0, ..., 0, 0, 0]])"
            ]
          },
          "metadata": {
            "tags": []
          },
          "execution_count": 13
        }
      ]
    },
    {
      "cell_type": "code",
      "metadata": {
        "colab": {
          "base_uri": "https://localhost:8080/"
        },
        "id": "THrBGcDZg2h1",
        "outputId": "f87dbcce-f0d0-431d-a154-00e5200e2d89"
      },
      "source": [
        "y = pd.get_dummies(twitter_train['label'])\n",
        "y = y.iloc[:,1].values\n",
        "y"
      ],
      "execution_count": 14,
      "outputs": [
        {
          "output_type": "execute_result",
          "data": {
            "text/plain": [
              "array([1, 1, 1, ..., 0, 0, 0], dtype=uint8)"
            ]
          },
          "metadata": {
            "tags": []
          },
          "execution_count": 14
        }
      ]
    },
    {
      "cell_type": "code",
      "metadata": {
        "id": "guVemGrAhAGD"
      },
      "source": [
        "from sklearn.model_selection import train_test_split\n",
        "X_train, X_test, y_train, y_test = train_test_split(X, y, test_size=0.2, random_state=0)"
      ],
      "execution_count": 15,
      "outputs": []
    },
    {
      "cell_type": "code",
      "metadata": {
        "id": "010OxjV8eoij"
      },
      "source": [
        "from sklearn.naive_bayes import MultinomialNB\n",
        "sarcasm_detect_model_v1 = MultinomialNB().fit(X_train, y_train)\n",
        "y_pred = sarcasm_detect_model_v1.predict(X_test)\n",
        "\n",
        "from sklearn.metrics import accuracy_score\n",
        "accuracy_v1 = accuracy_score(y_test, y_pred)\n",
        "\n",
        "from sklearn.metrics import confusion_matrix\n",
        "conf_v1 = confusion_matrix(y_test, y_pred)"
      ],
      "execution_count": 16,
      "outputs": []
    },
    {
      "cell_type": "code",
      "metadata": {
        "colab": {
          "base_uri": "https://localhost:8080/"
        },
        "id": "iOTnSfBXeuMq",
        "outputId": "9c838470-69d5-45ce-bade-1cd019f9320a"
      },
      "source": [
        "from sklearn.metrics import f1_score\n",
        "f1_score(y_test, y_pred)"
      ],
      "execution_count": 49,
      "outputs": [
        {
          "output_type": "execute_result",
          "data": {
            "text/plain": [
              "0.7164480322906155"
            ]
          },
          "metadata": {
            "tags": []
          },
          "execution_count": 49
        }
      ]
    },
    {
      "cell_type": "code",
      "metadata": {
        "colab": {
          "base_uri": "https://localhost:8080/"
        },
        "id": "44F4HDO-hUcX",
        "outputId": "4a88fb2c-a925-425d-f4e3-36fb8f5aca34"
      },
      "source": [
        "print(\"accuracy: \", accuracy_v1, \"\\n\")\n",
        "print(conf_v1)"
      ],
      "execution_count": 18,
      "outputs": [
        {
          "output_type": "stream",
          "text": [
            "accuracy:  0.719 \n",
            "\n",
            "[[364 155]\n",
            " [126 355]]\n"
          ],
          "name": "stdout"
        }
      ]
    },
    {
      "cell_type": "code",
      "metadata": {
        "colab": {
          "base_uri": "https://localhost:8080/"
        },
        "id": "czK3vgtWha9q",
        "outputId": "b964712a-df14-4e4f-e830-369cab3e523f"
      },
      "source": [
        "from sklearn.svm import SVC\n",
        "\n",
        "model_linear_kernal = SVC(kernel='linear')\n",
        "model_linear_kernal.fit(X_train, y_train)\n",
        "model_linear_kernal.score(X_test, y_test)"
      ],
      "execution_count": 19,
      "outputs": [
        {
          "output_type": "execute_result",
          "data": {
            "text/plain": [
              "0.716"
            ]
          },
          "metadata": {
            "tags": []
          },
          "execution_count": 19
        }
      ]
    },
    {
      "cell_type": "code",
      "metadata": {
        "colab": {
          "base_uri": "https://localhost:8080/"
        },
        "id": "aZYv28vUjgL4",
        "outputId": "f4092d5e-f46f-494d-f09d-e47be3cedf60"
      },
      "source": [
        "model_sigmoid_kernal = SVC(kernel='sigmoid')\n",
        "model_sigmoid_kernal.fit(X_train, y_train)\n",
        "model_sigmoid_kernal.score(X_test, y_test)"
      ],
      "execution_count": 20,
      "outputs": [
        {
          "output_type": "execute_result",
          "data": {
            "text/plain": [
              "0.695"
            ]
          },
          "metadata": {
            "tags": []
          },
          "execution_count": 20
        }
      ]
    },
    {
      "cell_type": "code",
      "metadata": {
        "colab": {
          "base_uri": "https://localhost:8080/"
        },
        "id": "M2vAeFXfmX1P",
        "outputId": "974158bf-7a91-4982-f8fd-360bd14809b2"
      },
      "source": [
        "from sklearn.ensemble import RandomForestClassifier\n",
        "modelRF = RandomForestClassifier(n_estimators=30)\n",
        "modelRF.fit(X_train, y_train)\n",
        "modelRF.score(X_test, y_test)"
      ],
      "execution_count": 31,
      "outputs": [
        {
          "output_type": "execute_result",
          "data": {
            "text/plain": [
              "0.707"
            ]
          },
          "metadata": {
            "tags": []
          },
          "execution_count": 31
        }
      ]
    },
    {
      "cell_type": "code",
      "metadata": {
        "colab": {
          "base_uri": "https://localhost:8080/"
        },
        "id": "Zbx2AP9nmeR5",
        "outputId": "991389bf-e4ff-4d38-b681-56750cd0dc48"
      },
      "source": [
        "from sklearn.ensemble import RandomForestClassifier\n",
        "modelRF2 = RandomForestClassifier(n_estimators=10)\n",
        "modelRF2.fit(X_train, y_train)\n",
        "modelRF2.score(X_test, y_test)"
      ],
      "execution_count": 32,
      "outputs": [
        {
          "output_type": "execute_result",
          "data": {
            "text/plain": [
              "0.673"
            ]
          },
          "metadata": {
            "tags": []
          },
          "execution_count": 32
        }
      ]
    },
    {
      "cell_type": "code",
      "metadata": {
        "colab": {
          "base_uri": "https://localhost:8080/"
        },
        "id": "p__ksaB3ce9I",
        "outputId": "fb87ca00-660a-494c-fa00-ba8b5041f70b"
      },
      "source": [
        "from sklearn.ensemble import RandomForestClassifier\n",
        "modelRF3 = RandomForestClassifier(n_estimators=40)\n",
        "modelRF3.fit(X_train, y_train)\n",
        "modelRF3.score(X_test, y_test)"
      ],
      "execution_count": 33,
      "outputs": [
        {
          "output_type": "execute_result",
          "data": {
            "text/plain": [
              "0.706"
            ]
          },
          "metadata": {
            "tags": []
          },
          "execution_count": 33
        }
      ]
    },
    {
      "cell_type": "code",
      "metadata": {
        "colab": {
          "base_uri": "https://localhost:8080/"
        },
        "id": "ebMyTx-uckx3",
        "outputId": "ebb30a3c-e844-46cf-e4f4-6606baf6dcc0"
      },
      "source": [
        "from sklearn.ensemble import RandomForestClassifier\n",
        "modelRF4 = RandomForestClassifier(n_estimators=60)\n",
        "modelRF4.fit(X_train, y_train)\n",
        "modelRF4.score(X_test, y_test)"
      ],
      "execution_count": 36,
      "outputs": [
        {
          "output_type": "execute_result",
          "data": {
            "text/plain": [
              "0.721"
            ]
          },
          "metadata": {
            "tags": []
          },
          "execution_count": 36
        }
      ]
    },
    {
      "cell_type": "code",
      "metadata": {
        "colab": {
          "base_uri": "https://localhost:8080/"
        },
        "id": "HwtB3FDwcppG",
        "outputId": "4844208d-6bcb-4679-f997-6bbf1f3861e6"
      },
      "source": [
        "from sklearn.ensemble import RandomForestClassifier\n",
        "modelRF5 = RandomForestClassifier(n_estimators=80)\n",
        "modelRF5.fit(X_train, y_train)\n",
        "modelRF5.score(X_test, y_test)"
      ],
      "execution_count": 37,
      "outputs": [
        {
          "output_type": "execute_result",
          "data": {
            "text/plain": [
              "0.725"
            ]
          },
          "metadata": {
            "tags": []
          },
          "execution_count": 37
        }
      ]
    },
    {
      "cell_type": "code",
      "metadata": {
        "colab": {
          "base_uri": "https://localhost:8080/"
        },
        "id": "j-EWYDAGcx-q",
        "outputId": "2ebf0588-cfbd-485f-f2f6-e73733a8dfc7"
      },
      "source": [
        "from sklearn.ensemble import RandomForestClassifier\n",
        "modelRF6 = RandomForestClassifier(n_estimators=100)\n",
        "modelRF6.fit(X_train, y_train)\n",
        "modelRF6.score(X_test, y_test)"
      ],
      "execution_count": 41,
      "outputs": [
        {
          "output_type": "execute_result",
          "data": {
            "text/plain": [
              "0.711"
            ]
          },
          "metadata": {
            "tags": []
          },
          "execution_count": 41
        }
      ]
    },
    {
      "cell_type": "code",
      "metadata": {
        "colab": {
          "base_uri": "https://localhost:8080/"
        },
        "id": "WNdUEHUAc7BG",
        "outputId": "08e5b5e7-dbac-4ddf-af73-f590a0672bf2"
      },
      "source": [
        "from sklearn.ensemble import RandomForestClassifier\n",
        "modelRF7 = RandomForestClassifier(n_estimators=120)\n",
        "modelRF7.fit(X_train, y_train)\n",
        "modelRF7.score(X_test, y_test)"
      ],
      "execution_count": 40,
      "outputs": [
        {
          "output_type": "execute_result",
          "data": {
            "text/plain": [
              "0.717"
            ]
          },
          "metadata": {
            "tags": []
          },
          "execution_count": 40
        }
      ]
    },
    {
      "cell_type": "code",
      "metadata": {
        "colab": {
          "base_uri": "https://localhost:8080/"
        },
        "id": "_lHTBlrkbWhm",
        "outputId": "7b5e277d-22d5-48e9-87b5-eae42bfc4c70"
      },
      "source": [
        "from sklearn.ensemble import AdaBoostClassifier\n",
        "modelAD = AdaBoostClassifier(n_estimators=20)\n",
        "modelAD.fit(X_train, y_train)\n",
        "modelAD.score(X_test, y_test)"
      ],
      "execution_count": 42,
      "outputs": [
        {
          "output_type": "execute_result",
          "data": {
            "text/plain": [
              "0.648"
            ]
          },
          "metadata": {
            "tags": []
          },
          "execution_count": 42
        }
      ]
    },
    {
      "cell_type": "code",
      "metadata": {
        "colab": {
          "base_uri": "https://localhost:8080/"
        },
        "id": "2vI-CNzUdQqL",
        "outputId": "0bca4672-ecf6-41e7-97c6-765e12a01f5d"
      },
      "source": [
        "from sklearn.ensemble import AdaBoostClassifier\n",
        "modelAD2 = AdaBoostClassifier(n_estimators=40)\n",
        "modelAD2.fit(X_train, y_train)\n",
        "modelAD2.score(X_test, y_test)"
      ],
      "execution_count": 43,
      "outputs": [
        {
          "output_type": "execute_result",
          "data": {
            "text/plain": [
              "0.674"
            ]
          },
          "metadata": {
            "tags": []
          },
          "execution_count": 43
        }
      ]
    },
    {
      "cell_type": "code",
      "metadata": {
        "colab": {
          "base_uri": "https://localhost:8080/"
        },
        "id": "ydwWZXRLdWSU",
        "outputId": "03224333-15c8-4dce-d300-7c6fd95a6937"
      },
      "source": [
        "from sklearn.ensemble import AdaBoostClassifier\n",
        "modelAD3 = AdaBoostClassifier(n_estimators=80)\n",
        "modelAD3.fit(X_train, y_train)\n",
        "modelAD3.score(X_test, y_test)"
      ],
      "execution_count": 44,
      "outputs": [
        {
          "output_type": "execute_result",
          "data": {
            "text/plain": [
              "0.685"
            ]
          },
          "metadata": {
            "tags": []
          },
          "execution_count": 44
        }
      ]
    },
    {
      "cell_type": "code",
      "metadata": {
        "colab": {
          "base_uri": "https://localhost:8080/"
        },
        "id": "leb399NffqVs",
        "outputId": "2f4fbaa0-e6f3-44d0-dc7d-e1ae4b4a74e4"
      },
      "source": [
        "from sklearn.ensemble import AdaBoostClassifier\n",
        "modelAD4 = AdaBoostClassifier(n_estimators=100)\n",
        "modelAD4.fit(X_train, y_train)\n",
        "modelAD4.score(X_test, y_test)"
      ],
      "execution_count": 47,
      "outputs": [
        {
          "output_type": "execute_result",
          "data": {
            "text/plain": [
              "0.687"
            ]
          },
          "metadata": {
            "tags": []
          },
          "execution_count": 47
        }
      ]
    }
  ]
}